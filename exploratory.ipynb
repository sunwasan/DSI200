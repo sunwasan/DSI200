{
 "cells": [
  {
   "cell_type": "code",
   "execution_count": 1,
   "metadata": {},
   "outputs": [],
   "source": [
    "import pandas as pd \n",
    "import matplotlib.pyplot as plt\n",
    "import seaborn as sns\n",
    "import numpy as np"
   ]
  },
  {
   "cell_type": "code",
   "execution_count": 2,
   "metadata": {},
   "outputs": [],
   "source": [
    "df = pd.read_excel(\"data.xlsx\" , converters= {\"year\":str , \"sem\" : str , \"section\" : str})\n"
   ]
  },
  {
   "cell_type": "code",
   "execution_count": 4,
   "metadata": {},
   "outputs": [
    {
     "data": {
      "text/html": [
       "<div>\n",
       "<style scoped>\n",
       "    .dataframe tbody tr th:only-of-type {\n",
       "        vertical-align: middle;\n",
       "    }\n",
       "\n",
       "    .dataframe tbody tr th {\n",
       "        vertical-align: top;\n",
       "    }\n",
       "\n",
       "    .dataframe thead th {\n",
       "        text-align: right;\n",
       "    }\n",
       "</style>\n",
       "<table border=\"1\" class=\"dataframe\">\n",
       "  <thead>\n",
       "    <tr style=\"text-align: right;\">\n",
       "      <th></th>\n",
       "      <th>ข้อคำถาม</th>\n",
       "      <th>5</th>\n",
       "      <th>5(%)</th>\n",
       "      <th>4</th>\n",
       "      <th>4(%)</th>\n",
       "      <th>3</th>\n",
       "      <th>3(%)</th>\n",
       "      <th>2</th>\n",
       "      <th>2(%)</th>\n",
       "      <th>1</th>\n",
       "      <th>...</th>\n",
       "      <th>subject</th>\n",
       "      <th>section</th>\n",
       "      <th>นักศึกษาที่จดทะเบียน</th>\n",
       "      <th>นักศึกษาที่ประเมิน</th>\n",
       "      <th>url</th>\n",
       "      <th>year</th>\n",
       "      <th>sem</th>\n",
       "      <th>n</th>\n",
       "      <th>class</th>\n",
       "      <th>situation</th>\n",
       "    </tr>\n",
       "  </thead>\n",
       "  <tbody>\n",
       "    <tr>\n",
       "      <th>0</th>\n",
       "      <td>สอนอย่างเป็นระบบ</td>\n",
       "      <td>4</td>\n",
       "      <td>66.67</td>\n",
       "      <td>1</td>\n",
       "      <td>16.67</td>\n",
       "      <td>0</td>\n",
       "      <td>0.00</td>\n",
       "      <td>1</td>\n",
       "      <td>16.67</td>\n",
       "      <td>0</td>\n",
       "      <td>...</td>\n",
       "      <td>FGL497</td>\n",
       "      <td>231863</td>\n",
       "      <td>43</td>\n",
       "      <td>6 (13.95%)</td>\n",
       "      <td>https://sgulyano.github.io/eval/02226005.html</td>\n",
       "      <td>2562</td>\n",
       "      <td>1</td>\n",
       "      <td>6</td>\n",
       "      <td>1/2562|FGL497|231863</td>\n",
       "      <td>normal</td>\n",
       "    </tr>\n",
       "    <tr>\n",
       "      <th>1</th>\n",
       "      <td>สอนให้คิด วิเคราะห์ วิจารณ์</td>\n",
       "      <td>4</td>\n",
       "      <td>66.67</td>\n",
       "      <td>0</td>\n",
       "      <td>0.00</td>\n",
       "      <td>1</td>\n",
       "      <td>16.67</td>\n",
       "      <td>1</td>\n",
       "      <td>16.67</td>\n",
       "      <td>0</td>\n",
       "      <td>...</td>\n",
       "      <td>FGL497</td>\n",
       "      <td>231863</td>\n",
       "      <td>43</td>\n",
       "      <td>6 (13.95%)</td>\n",
       "      <td>https://sgulyano.github.io/eval/02226005.html</td>\n",
       "      <td>2562</td>\n",
       "      <td>1</td>\n",
       "      <td>6</td>\n",
       "      <td>1/2562|FGL497|231863</td>\n",
       "      <td>normal</td>\n",
       "    </tr>\n",
       "    <tr>\n",
       "      <th>2</th>\n",
       "      <td>กระตุ้นบรรยากาศการเรียนการสอน มีวิธีสอนที่น่าส...</td>\n",
       "      <td>2</td>\n",
       "      <td>33.33</td>\n",
       "      <td>1</td>\n",
       "      <td>16.67</td>\n",
       "      <td>1</td>\n",
       "      <td>16.67</td>\n",
       "      <td>1</td>\n",
       "      <td>16.67</td>\n",
       "      <td>1</td>\n",
       "      <td>...</td>\n",
       "      <td>FGL497</td>\n",
       "      <td>231863</td>\n",
       "      <td>43</td>\n",
       "      <td>6 (13.95%)</td>\n",
       "      <td>https://sgulyano.github.io/eval/02226005.html</td>\n",
       "      <td>2562</td>\n",
       "      <td>1</td>\n",
       "      <td>6</td>\n",
       "      <td>1/2562|FGL497|231863</td>\n",
       "      <td>normal</td>\n",
       "    </tr>\n",
       "    <tr>\n",
       "      <th>3</th>\n",
       "      <td>เปิดโอกาสให้แสดงความคิดเห็นและแลกเปลี่ยนประสบก...</td>\n",
       "      <td>3</td>\n",
       "      <td>50.00</td>\n",
       "      <td>2</td>\n",
       "      <td>33.33</td>\n",
       "      <td>0</td>\n",
       "      <td>0.00</td>\n",
       "      <td>0</td>\n",
       "      <td>0.00</td>\n",
       "      <td>1</td>\n",
       "      <td>...</td>\n",
       "      <td>FGL497</td>\n",
       "      <td>231863</td>\n",
       "      <td>43</td>\n",
       "      <td>6 (13.95%)</td>\n",
       "      <td>https://sgulyano.github.io/eval/02226005.html</td>\n",
       "      <td>2562</td>\n",
       "      <td>1</td>\n",
       "      <td>6</td>\n",
       "      <td>1/2562|FGL497|231863</td>\n",
       "      <td>normal</td>\n",
       "    </tr>\n",
       "    <tr>\n",
       "      <th>4</th>\n",
       "      <td>มีการให้นำเสนองาน/มีการวัดผลโดยวิธีอื่นๆที่สะท...</td>\n",
       "      <td>3</td>\n",
       "      <td>50.00</td>\n",
       "      <td>2</td>\n",
       "      <td>33.33</td>\n",
       "      <td>1</td>\n",
       "      <td>16.67</td>\n",
       "      <td>0</td>\n",
       "      <td>0.00</td>\n",
       "      <td>0</td>\n",
       "      <td>...</td>\n",
       "      <td>FGL497</td>\n",
       "      <td>231863</td>\n",
       "      <td>43</td>\n",
       "      <td>6 (13.95%)</td>\n",
       "      <td>https://sgulyano.github.io/eval/02226005.html</td>\n",
       "      <td>2562</td>\n",
       "      <td>1</td>\n",
       "      <td>6</td>\n",
       "      <td>1/2562|FGL497|231863</td>\n",
       "      <td>normal</td>\n",
       "    </tr>\n",
       "    <tr>\n",
       "      <th>...</th>\n",
       "      <td>...</td>\n",
       "      <td>...</td>\n",
       "      <td>...</td>\n",
       "      <td>...</td>\n",
       "      <td>...</td>\n",
       "      <td>...</td>\n",
       "      <td>...</td>\n",
       "      <td>...</td>\n",
       "      <td>...</td>\n",
       "      <td>...</td>\n",
       "      <td>...</td>\n",
       "      <td>...</td>\n",
       "      <td>...</td>\n",
       "      <td>...</td>\n",
       "      <td>...</td>\n",
       "      <td>...</td>\n",
       "      <td>...</td>\n",
       "      <td>...</td>\n",
       "      <td>...</td>\n",
       "      <td>...</td>\n",
       "      <td>...</td>\n",
       "    </tr>\n",
       "    <tr>\n",
       "      <th>319</th>\n",
       "      <td>ผู้สอนแทรกเนื้อหาเกี่ยวกับคุณธรรมจริยธรรมในการ...</td>\n",
       "      <td>15</td>\n",
       "      <td>51.72</td>\n",
       "      <td>9</td>\n",
       "      <td>31.03</td>\n",
       "      <td>3</td>\n",
       "      <td>10.34</td>\n",
       "      <td>2</td>\n",
       "      <td>6.90</td>\n",
       "      <td>0</td>\n",
       "      <td>...</td>\n",
       "      <td>NYE553</td>\n",
       "      <td>231863</td>\n",
       "      <td>43</td>\n",
       "      <td>29 (67.44%)</td>\n",
       "      <td>https://sgulyano.github.io/eval/96905621.html</td>\n",
       "      <td>2563</td>\n",
       "      <td>1</td>\n",
       "      <td>29</td>\n",
       "      <td>1/2563|NYE553|231863</td>\n",
       "      <td>normal</td>\n",
       "    </tr>\n",
       "    <tr>\n",
       "      <th>320</th>\n",
       "      <td>โสตทัศนูปกรณ์ช่วยสอนในห้องเรียน เช่น ไมโครโฟน ...</td>\n",
       "      <td>14</td>\n",
       "      <td>48.28</td>\n",
       "      <td>8</td>\n",
       "      <td>27.59</td>\n",
       "      <td>5</td>\n",
       "      <td>17.24</td>\n",
       "      <td>1</td>\n",
       "      <td>3.45</td>\n",
       "      <td>1</td>\n",
       "      <td>...</td>\n",
       "      <td>NYE553</td>\n",
       "      <td>231863</td>\n",
       "      <td>43</td>\n",
       "      <td>29 (67.44%)</td>\n",
       "      <td>https://sgulyano.github.io/eval/96905621.html</td>\n",
       "      <td>2563</td>\n",
       "      <td>1</td>\n",
       "      <td>29</td>\n",
       "      <td>1/2563|NYE553|231863</td>\n",
       "      <td>normal</td>\n",
       "    </tr>\n",
       "    <tr>\n",
       "      <th>321</th>\n",
       "      <td>สภาพของห้องเรียนหรือห้องปฏิบัติการ เช่น แสง อุ...</td>\n",
       "      <td>13</td>\n",
       "      <td>44.83</td>\n",
       "      <td>11</td>\n",
       "      <td>37.93</td>\n",
       "      <td>4</td>\n",
       "      <td>13.79</td>\n",
       "      <td>0</td>\n",
       "      <td>0.00</td>\n",
       "      <td>1</td>\n",
       "      <td>...</td>\n",
       "      <td>NYE553</td>\n",
       "      <td>231863</td>\n",
       "      <td>43</td>\n",
       "      <td>29 (67.44%)</td>\n",
       "      <td>https://sgulyano.github.io/eval/96905621.html</td>\n",
       "      <td>2563</td>\n",
       "      <td>1</td>\n",
       "      <td>29</td>\n",
       "      <td>1/2563|NYE553|231863</td>\n",
       "      <td>normal</td>\n",
       "    </tr>\n",
       "    <tr>\n",
       "      <th>322</th>\n",
       "      <td>จำนวนอุปกรณ์ในการเรียนการสอนเพียงพอ และเหมาะสม...</td>\n",
       "      <td>15</td>\n",
       "      <td>51.72</td>\n",
       "      <td>6</td>\n",
       "      <td>20.69</td>\n",
       "      <td>5</td>\n",
       "      <td>17.24</td>\n",
       "      <td>0</td>\n",
       "      <td>0.00</td>\n",
       "      <td>3</td>\n",
       "      <td>...</td>\n",
       "      <td>NYE553</td>\n",
       "      <td>231863</td>\n",
       "      <td>43</td>\n",
       "      <td>29 (67.44%)</td>\n",
       "      <td>https://sgulyano.github.io/eval/96905621.html</td>\n",
       "      <td>2563</td>\n",
       "      <td>1</td>\n",
       "      <td>29</td>\n",
       "      <td>1/2563|NYE553|231863</td>\n",
       "      <td>normal</td>\n",
       "    </tr>\n",
       "    <tr>\n",
       "      <th>323</th>\n",
       "      <td>เจ้าหน้าที่อำนวยความสะดวกในการให้บริการในการเร...</td>\n",
       "      <td>14</td>\n",
       "      <td>48.28</td>\n",
       "      <td>10</td>\n",
       "      <td>34.48</td>\n",
       "      <td>4</td>\n",
       "      <td>13.79</td>\n",
       "      <td>0</td>\n",
       "      <td>0.00</td>\n",
       "      <td>1</td>\n",
       "      <td>...</td>\n",
       "      <td>NYE553</td>\n",
       "      <td>231863</td>\n",
       "      <td>43</td>\n",
       "      <td>29 (67.44%)</td>\n",
       "      <td>https://sgulyano.github.io/eval/96905621.html</td>\n",
       "      <td>2563</td>\n",
       "      <td>1</td>\n",
       "      <td>29</td>\n",
       "      <td>1/2563|NYE553|231863</td>\n",
       "      <td>normal</td>\n",
       "    </tr>\n",
       "  </tbody>\n",
       "</table>\n",
       "<p>324 rows × 28 columns</p>\n",
       "</div>"
      ],
      "text/plain": [
       "                                              ข้อคำถาม   5   5(%)   4   4(%)  \\\n",
       "0                                     สอนอย่างเป็นระบบ   4  66.67   1  16.67   \n",
       "1                          สอนให้คิด วิเคราะห์ วิจารณ์   4  66.67   0   0.00   \n",
       "2    กระตุ้นบรรยากาศการเรียนการสอน มีวิธีสอนที่น่าส...   2  33.33   1  16.67   \n",
       "3    เปิดโอกาสให้แสดงความคิดเห็นและแลกเปลี่ยนประสบก...   3  50.00   2  33.33   \n",
       "4    มีการให้นำเสนองาน/มีการวัดผลโดยวิธีอื่นๆที่สะท...   3  50.00   2  33.33   \n",
       "..                                                 ...  ..    ...  ..    ...   \n",
       "319  ผู้สอนแทรกเนื้อหาเกี่ยวกับคุณธรรมจริยธรรมในการ...  15  51.72   9  31.03   \n",
       "320  โสตทัศนูปกรณ์ช่วยสอนในห้องเรียน เช่น ไมโครโฟน ...  14  48.28   8  27.59   \n",
       "321  สภาพของห้องเรียนหรือห้องปฏิบัติการ เช่น แสง อุ...  13  44.83  11  37.93   \n",
       "322  จำนวนอุปกรณ์ในการเรียนการสอนเพียงพอ และเหมาะสม...  15  51.72   6  20.69   \n",
       "323  เจ้าหน้าที่อำนวยความสะดวกในการให้บริการในการเร...  14  48.28  10  34.48   \n",
       "\n",
       "     3   3(%)  2   2(%)  1  ...  subject  section  นักศึกษาที่จดทะเบียน  \\\n",
       "0    0   0.00  1  16.67  0  ...   FGL497   231863                    43   \n",
       "1    1  16.67  1  16.67  0  ...   FGL497   231863                    43   \n",
       "2    1  16.67  1  16.67  1  ...   FGL497   231863                    43   \n",
       "3    0   0.00  0   0.00  1  ...   FGL497   231863                    43   \n",
       "4    1  16.67  0   0.00  0  ...   FGL497   231863                    43   \n",
       "..  ..    ... ..    ... ..  ...      ...      ...                   ...   \n",
       "319  3  10.34  2   6.90  0  ...   NYE553   231863                    43   \n",
       "320  5  17.24  1   3.45  1  ...   NYE553   231863                    43   \n",
       "321  4  13.79  0   0.00  1  ...   NYE553   231863                    43   \n",
       "322  5  17.24  0   0.00  3  ...   NYE553   231863                    43   \n",
       "323  4  13.79  0   0.00  1  ...   NYE553   231863                    43   \n",
       "\n",
       "     นักศึกษาที่ประเมิน                                            url  year  \\\n",
       "0            6 (13.95%)  https://sgulyano.github.io/eval/02226005.html  2562   \n",
       "1            6 (13.95%)  https://sgulyano.github.io/eval/02226005.html  2562   \n",
       "2            6 (13.95%)  https://sgulyano.github.io/eval/02226005.html  2562   \n",
       "3            6 (13.95%)  https://sgulyano.github.io/eval/02226005.html  2562   \n",
       "4            6 (13.95%)  https://sgulyano.github.io/eval/02226005.html  2562   \n",
       "..                  ...                                            ...   ...   \n",
       "319         29 (67.44%)  https://sgulyano.github.io/eval/96905621.html  2563   \n",
       "320         29 (67.44%)  https://sgulyano.github.io/eval/96905621.html  2563   \n",
       "321         29 (67.44%)  https://sgulyano.github.io/eval/96905621.html  2563   \n",
       "322         29 (67.44%)  https://sgulyano.github.io/eval/96905621.html  2563   \n",
       "323         29 (67.44%)  https://sgulyano.github.io/eval/96905621.html  2563   \n",
       "\n",
       "    sem   n                 class situation  \n",
       "0     1   6  1/2562|FGL497|231863    normal  \n",
       "1     1   6  1/2562|FGL497|231863    normal  \n",
       "2     1   6  1/2562|FGL497|231863    normal  \n",
       "3     1   6  1/2562|FGL497|231863    normal  \n",
       "4     1   6  1/2562|FGL497|231863    normal  \n",
       "..   ..  ..                   ...       ...  \n",
       "319   1  29  1/2563|NYE553|231863    normal  \n",
       "320   1  29  1/2563|NYE553|231863    normal  \n",
       "321   1  29  1/2563|NYE553|231863    normal  \n",
       "322   1  29  1/2563|NYE553|231863    normal  \n",
       "323   1  29  1/2563|NYE553|231863    normal  \n",
       "\n",
       "[324 rows x 28 columns]"
      ]
     },
     "execution_count": 4,
     "metadata": {},
     "output_type": "execute_result"
    }
   ],
   "source": [
    "df"
   ]
  },
  {
   "cell_type": "markdown",
   "metadata": {},
   "source": [
    "# N Distribution"
   ]
  },
  {
   "cell_type": "code",
   "execution_count": 5,
   "metadata": {},
   "outputs": [
    {
     "data": {
      "text/plain": [
       "<AxesSubplot:xlabel='n', ylabel='Density'>"
      ]
     },
     "execution_count": 5,
     "metadata": {},
     "output_type": "execute_result"
    },
    {
     "data": {
      "image/png": "[encoded data removed]",
      "text/plain": [
       "<Figure size 432x288 with 1 Axes>"
      ]
     },
     "metadata": {
      "needs_background": "light"
     },
     "output_type": "display_data"
    }
   ],
   "source": [
    "sns.kdeplot(df[\"n\"].sort_values())"
   ]
  },
  {
   "cell_type": "code",
   "execution_count": 6,
   "metadata": {},
   "outputs": [
    {
     "data": {
      "text/plain": [
       "Text(0.5, 1.0, 'N')"
      ]
     },
     "execution_count": 6,
     "metadata": {},
     "output_type": "execute_result"
    },
    {
     "data": {
      "image/png": "[encoded data removed]",
      "text/plain": [
       "<Figure size 432x288 with 1 Axes>"
      ]
     },
     "metadata": {
      "needs_background": "light"
     },
     "output_type": "display_data"
    }
   ],
   "source": [
    "\n",
    "plt.hist(df[\"n\"])\n",
    "plt.title(\"N\")"
   ]
  },
  {
   "cell_type": "code",
   "execution_count": 7,
   "metadata": {},
   "outputs": [],
   "source": [
    "pvt = df.pivot_table(index=[\"year\",\"sem\",\"subject\",\"section\",\"situation\"] , values=\"x_bar\" , aggfunc=\"mean\")\n",
    "pvt.reset_index(inplace=True)\n"
   ]
  },
  {
   "cell_type": "markdown",
   "metadata": {},
   "source": [
    "## Distribution of X-Bar each year"
   ]
  },
  {
   "cell_type": "code",
   "execution_count": 8,
   "metadata": {},
   "outputs": [
    {
     "data": {
      "image/png": "[encoded data removed]",
      "text/plain": [
       "<Figure size 864x216 with 4 Axes>"
      ]
     },
     "metadata": {
      "needs_background": "light"
     },
     "output_type": "display_data"
    }
   ],
   "source": [
    "g = sns.FacetGrid(pvt , col =\"year\")\n",
    "g.map(sns.kdeplot , \"x_bar\")\n",
    "g.refline(x=pvt[\"x_bar\"].median())"
   ]
  },
  {
   "cell_type": "code",
   "execution_count": 9,
   "metadata": {},
   "outputs": [],
   "source": [
    "detail = df.groupby(\"year\").x_bar.describe()\n",
    "detail.reset_index(inplace= True)\n",
    "detail.to_excel(\"year.xlsx\" )"
   ]
  },
  {
   "cell_type": "code",
   "execution_count": 10,
   "metadata": {},
   "outputs": [
    {
     "name": "stderr",
     "output_type": "stream",
     "text": [
      "c:\\Users\\User\\AppData\\Local\\Programs\\Python\\Python310\\lib\\site-packages\\seaborn\\axisgrid.py:670: UserWarning: Using the boxplot function without specifying `order` is likely to produce an incorrect plot.\n",
      "  warnings.warn(warning)\n"
     ]
    },
    {
     "data": {
      "image/png": "[encoded data removed]",
      "text/plain": [
       "<Figure size 864x216 with 4 Axes>"
      ]
     },
     "metadata": {
      "needs_background": "light"
     },
     "output_type": "display_data"
    }
   ],
   "source": [
    "g = sns.FacetGrid(pvt , col = \"year\")\n",
    "g.map(sns.boxplot , \"x_bar\")\n",
    "g.refline(x=pvt[\"x_bar\"].median())"
   ]
  },
  {
   "cell_type": "code",
   "execution_count": 11,
   "metadata": {},
   "outputs": [
    {
     "name": "stderr",
     "output_type": "stream",
     "text": [
      "c:\\Users\\User\\AppData\\Local\\Programs\\Python\\Python310\\lib\\site-packages\\seaborn\\axisgrid.py:670: UserWarning: Using the violinplot function without specifying `order` is likely to produce an incorrect plot.\n",
      "  warnings.warn(warning)\n"
     ]
    },
    {
     "data": {
      "image/png": "[encoded data removed]",
      "text/plain": [
       "<Figure size 864x216 with 4 Axes>"
      ]
     },
     "metadata": {
      "needs_background": "light"
     },
     "output_type": "display_data"
    }
   ],
   "source": [
    "g = sns.FacetGrid(pvt , col = \"year\")\n",
    "g.map(sns.violinplot , \"x_bar\")\n",
    "g.refline(x=pvt[\"x_bar\"].median())"
   ]
  },
  {
   "cell_type": "markdown",
   "metadata": {},
   "source": [
    "## Distribution of X-Bar each situation"
   ]
  },
  {
   "cell_type": "code",
   "execution_count": 12,
   "metadata": {},
   "outputs": [
    {
     "name": "stderr",
     "output_type": "stream",
     "text": [
      "c:\\Users\\User\\AppData\\Local\\Programs\\Python\\Python310\\lib\\site-packages\\seaborn\\axisgrid.py:670: UserWarning: Using the violinplot function without specifying `order` is likely to produce an incorrect plot.\n",
      "  warnings.warn(warning)\n"
     ]
    },
    {
     "data": {
      "image/png": "[encoded data removed]",
      "text/plain": [
       "<Figure size 432x216 with 2 Axes>"
      ]
     },
     "metadata": {
      "needs_background": "light"
     },
     "output_type": "display_data"
    }
   ],
   "source": [
    "g = sns.FacetGrid(pvt , col = \"situation\" )\n",
    "g.map(sns.violinplot , \"x_bar\")\n",
    "g.refline(x=pvt[\"x_bar\"].median())"
   ]
  },
  {
   "cell_type": "markdown",
   "metadata": {},
   "source": [
    "## Ploting IQR each year"
   ]
  },
  {
   "cell_type": "code",
   "execution_count": 13,
   "metadata": {},
   "outputs": [
    {
     "data": {
      "text/html": [
       "<div>\n",
       "<style scoped>\n",
       "    .dataframe tbody tr th:only-of-type {\n",
       "        vertical-align: middle;\n",
       "    }\n",
       "\n",
       "    .dataframe tbody tr th {\n",
       "        vertical-align: top;\n",
       "    }\n",
       "\n",
       "    .dataframe thead th {\n",
       "        text-align: right;\n",
       "    }\n",
       "</style>\n",
       "<table border=\"1\" class=\"dataframe\">\n",
       "  <thead>\n",
       "    <tr style=\"text-align: right;\">\n",
       "      <th></th>\n",
       "      <th>year</th>\n",
       "      <th>Q25</th>\n",
       "      <th>Q75</th>\n",
       "      <th>IQR</th>\n",
       "    </tr>\n",
       "  </thead>\n",
       "  <tbody>\n",
       "    <tr>\n",
       "      <th>0</th>\n",
       "      <td>2561</td>\n",
       "      <td>4.0000</td>\n",
       "      <td>4.5700</td>\n",
       "      <td>0.5700</td>\n",
       "    </tr>\n",
       "    <tr>\n",
       "      <th>1</th>\n",
       "      <td>2562</td>\n",
       "      <td>3.9075</td>\n",
       "      <td>4.5000</td>\n",
       "      <td>0.5925</td>\n",
       "    </tr>\n",
       "    <tr>\n",
       "      <th>2</th>\n",
       "      <td>2563</td>\n",
       "      <td>4.2475</td>\n",
       "      <td>4.5925</td>\n",
       "      <td>0.3450</td>\n",
       "    </tr>\n",
       "    <tr>\n",
       "      <th>3</th>\n",
       "      <td>2564</td>\n",
       "      <td>4.4050</td>\n",
       "      <td>4.7900</td>\n",
       "      <td>0.3850</td>\n",
       "    </tr>\n",
       "  </tbody>\n",
       "</table>\n",
       "</div>"
      ],
      "text/plain": [
       "   year     Q25     Q75     IQR\n",
       "0  2561  4.0000  4.5700  0.5700\n",
       "1  2562  3.9075  4.5000  0.5925\n",
       "2  2563  4.2475  4.5925  0.3450\n",
       "3  2564  4.4050  4.7900  0.3850"
      ]
     },
     "execution_count": 13,
     "metadata": {},
     "output_type": "execute_result"
    }
   ],
   "source": [
    "Q_75 = df.pivot_table(index='year',values=\"x_bar\", aggfunc=lambda x: np.quantile(x, 0.75))\n",
    "Q_25 = df.pivot_table(index='year',values=\"x_bar\", aggfunc=lambda x: np.quantile(x, 0.25))\n",
    "\n",
    "Q_25.reset_index(inplace= True)\n",
    "Q_25.rename(columns={\"x_bar\":\"Q25\"} , inplace= True)\n",
    "Q_75.reset_index(inplace= True)\n",
    "Q_75.rename(columns={\"x_bar\":\"Q75\"} , inplace= True)\n",
    "\n",
    "IQR = pd.merge(Q_25 , Q_75 , on= \"year\")\n",
    "IQR[\"IQR\"] = IQR[\"Q75\"] - IQR[\"Q25\"]\n",
    "\n",
    "IQR"
   ]
  },
  {
   "cell_type": "code",
   "execution_count": 14,
   "metadata": {},
   "outputs": [
    {
     "data": {
      "text/plain": [
       "[<matplotlib.lines.Line2D at 0x1d379d811b0>]"
      ]
     },
     "execution_count": 14,
     "metadata": {},
     "output_type": "execute_result"
    },
    {
     "data": {
      "image/png": "[encoded data removed]",
      "text/plain": [
       "<Figure size 432x288 with 1 Axes>"
      ]
     },
     "metadata": {
      "needs_background": "light"
     },
     "output_type": "display_data"
    }
   ],
   "source": [
    "sns.barplot(data = IQR , x=\"year\" , y=\"IQR\")\n",
    "plt.plot(IQR[\"year\"], IQR[\"IQR\"] , color = \"purple\" , marker = \"s\")"
   ]
  },
  {
   "cell_type": "markdown",
   "metadata": {},
   "source": [
    "## Skewed - Right Distribution"
   ]
  },
  {
   "cell_type": "markdown",
   "metadata": {},
   "source": [
    "* From this chart have 2 skewed right distribution , 2561 and 2562"
   ]
  },
  {
   "cell_type": "code",
   "execution_count": 15,
   "metadata": {},
   "outputs": [
    {
     "data": {
      "image/png": "[encoded data removed]",
      "text/plain": [
       "<Figure size 864x216 with 4 Axes>"
      ]
     },
     "metadata": {
      "needs_background": "light"
     },
     "output_type": "display_data"
    }
   ],
   "source": [
    "g = sns.FacetGrid(pvt , col =\"year\")\n",
    "g.map(sns.kdeplot , \"x_bar\")\n",
    "g.refline(x=pvt[\"x_bar\"].median())"
   ]
  },
  {
   "cell_type": "code",
   "execution_count": 16,
   "metadata": {},
   "outputs": [],
   "source": [
    "one = df[df[\"year\"] == \"2561\"]\n",
    "two = df[df[\"year\"] == \"2562\"]"
   ]
  },
  {
   "cell_type": "code",
   "execution_count": 17,
   "metadata": {},
   "outputs": [
    {
     "data": {
      "text/html": [
       "<div>\n",
       "<style scoped>\n",
       "    .dataframe tbody tr th:only-of-type {\n",
       "        vertical-align: middle;\n",
       "    }\n",
       "\n",
       "    .dataframe tbody tr th {\n",
       "        vertical-align: top;\n",
       "    }\n",
       "\n",
       "    .dataframe thead th {\n",
       "        text-align: right;\n",
       "    }\n",
       "</style>\n",
       "<table border=\"1\" class=\"dataframe\">\n",
       "  <thead>\n",
       "    <tr style=\"text-align: right;\">\n",
       "      <th></th>\n",
       "      <th></th>\n",
       "      <th></th>\n",
       "      <th>x_bar</th>\n",
       "    </tr>\n",
       "    <tr>\n",
       "      <th>sem</th>\n",
       "      <th>subject</th>\n",
       "      <th>section</th>\n",
       "      <th></th>\n",
       "    </tr>\n",
       "  </thead>\n",
       "  <tbody>\n",
       "    <tr>\n",
       "      <th rowspan=\"3\" valign=\"top\">2</th>\n",
       "      <th>NVI781</th>\n",
       "      <th>231863</th>\n",
       "      <td>4.450500</td>\n",
       "    </tr>\n",
       "    <tr>\n",
       "      <th>RMW014</th>\n",
       "      <th>556574</th>\n",
       "      <td>4.173333</td>\n",
       "    </tr>\n",
       "    <tr>\n",
       "      <th>YRY790</th>\n",
       "      <th>231863</th>\n",
       "      <td>4.042500</td>\n",
       "    </tr>\n",
       "  </tbody>\n",
       "</table>\n",
       "</div>"
      ],
      "text/plain": [
       "                        x_bar\n",
       "sem subject section          \n",
       "2   NVI781  231863   4.450500\n",
       "    RMW014  556574   4.173333\n",
       "    YRY790  231863   4.042500"
      ]
     },
     "execution_count": 17,
     "metadata": {},
     "output_type": "execute_result"
    }
   ],
   "source": [
    "one.pivot_table(index= [ \"sem\", \"subject\" , \"section\"] , values= [\"x_bar\"])"
   ]
  },
  {
   "cell_type": "code",
   "execution_count": 18,
   "metadata": {},
   "outputs": [],
   "source": [
    "pvt = two.pivot_table(index= [ \"sem\", \"subject\" , \"section\"] , values= [\"x_bar\"])\n",
    "pvt.reset_index(inplace= True)"
   ]
  },
  {
   "cell_type": "code",
   "execution_count": 19,
   "metadata": {},
   "outputs": [
    {
     "name": "stderr",
     "output_type": "stream",
     "text": [
      "c:\\Users\\User\\AppData\\Local\\Programs\\Python\\Python310\\lib\\site-packages\\seaborn\\axisgrid.py:670: UserWarning: Using the boxplot function without specifying `order` is likely to produce an incorrect plot.\n",
      "  warnings.warn(warning)\n"
     ]
    },
    {
     "data": {
      "text/plain": [
       "Text(0.5, 0.98, '2561')"
      ]
     },
     "execution_count": 19,
     "metadata": {},
     "output_type": "execute_result"
    },
    {
     "data": {
      "image/png": "[encoded data removed]",
      "text/plain": [
       "<Figure size 648x216 with 3 Axes>"
      ]
     },
     "metadata": {
      "needs_background": "light"
     },
     "output_type": "display_data"
    }
   ],
   "source": [
    "g = sns.FacetGrid(one , col= \"subject\" )\n",
    "g.map(sns.boxplot , \"x_bar\")\n",
    "g.refline(x=pvt[\"x_bar\"].median(), color= \"r\" , linestyle=\"-\")\n",
    "\n",
    "g.fig.subplots_adjust(top=0.8)\n",
    "g.fig.suptitle(\"2561\")"
   ]
  },
  {
   "cell_type": "code",
   "execution_count": 20,
   "metadata": {},
   "outputs": [
    {
     "name": "stderr",
     "output_type": "stream",
     "text": [
      "c:\\Users\\User\\AppData\\Local\\Programs\\Python\\Python310\\lib\\site-packages\\seaborn\\axisgrid.py:670: UserWarning: Using the boxplot function without specifying `order` is likely to produce an incorrect plot.\n",
      "  warnings.warn(warning)\n"
     ]
    },
    {
     "data": {
      "text/plain": [
       "Text(0.5, 0.98, '2562')"
      ]
     },
     "execution_count": 20,
     "metadata": {},
     "output_type": "execute_result"
    },
    {
     "data": {
      "image/png": "[encoded data removed]",
      "text/plain": [
       "<Figure size 864x432 with 8 Axes>"
      ]
     },
     "metadata": {
      "needs_background": "light"
     },
     "output_type": "display_data"
    }
   ],
   "source": [
    "g = sns.FacetGrid(two , col= \"subject\" ,row=\"sem\")\n",
    "g.map(sns.boxplot , \"x_bar\")\n",
    "g.refline(x=pvt[\"x_bar\"].median() , color= \"r\" , linestyle=\"-\" )\n",
    "\n",
    "g.fig.subplots_adjust(top=0.9)\n",
    "g.fig.suptitle(\"2562\")"
   ]
  },
  {
   "cell_type": "markdown",
   "metadata": {},
   "source": [
    "## Topic"
   ]
  },
  {
   "cell_type": "code",
   "execution_count": 21,
   "metadata": {},
   "outputs": [
    {
     "data": {
      "text/html": [
       "<div>\n",
       "<style scoped>\n",
       "    .dataframe tbody tr th:only-of-type {\n",
       "        vertical-align: middle;\n",
       "    }\n",
       "\n",
       "    .dataframe tbody tr th {\n",
       "        vertical-align: top;\n",
       "    }\n",
       "\n",
       "    .dataframe thead th {\n",
       "        text-align: right;\n",
       "    }\n",
       "</style>\n",
       "<table border=\"1\" class=\"dataframe\">\n",
       "  <thead>\n",
       "    <tr style=\"text-align: right;\">\n",
       "      <th></th>\n",
       "      <th>count</th>\n",
       "      <th>mean</th>\n",
       "      <th>std</th>\n",
       "      <th>min</th>\n",
       "      <th>25%</th>\n",
       "      <th>50%</th>\n",
       "      <th>75%</th>\n",
       "      <th>max</th>\n",
       "    </tr>\n",
       "    <tr>\n",
       "      <th>topic</th>\n",
       "      <th></th>\n",
       "      <th></th>\n",
       "      <th></th>\n",
       "      <th></th>\n",
       "      <th></th>\n",
       "      <th></th>\n",
       "      <th></th>\n",
       "      <th></th>\n",
       "    </tr>\n",
       "  </thead>\n",
       "  <tbody>\n",
       "    <tr>\n",
       "      <th>ส่วนที่ 1 ข้อคำถามกลางของมหาวิทยาลัย</th>\n",
       "      <td>208.0</td>\n",
       "      <td>4.293173</td>\n",
       "      <td>0.417676</td>\n",
       "      <td>2.88</td>\n",
       "      <td>4.0000</td>\n",
       "      <td>4.355</td>\n",
       "      <td>4.6025</td>\n",
       "      <td>5.00</td>\n",
       "    </tr>\n",
       "    <tr>\n",
       "      <th>ส่วนที่ 2 ข้อคำถามของคณะ/หน่วยงาน</th>\n",
       "      <td>72.0</td>\n",
       "      <td>4.461250</td>\n",
       "      <td>0.345184</td>\n",
       "      <td>3.38</td>\n",
       "      <td>4.2875</td>\n",
       "      <td>4.525</td>\n",
       "      <td>4.7100</td>\n",
       "      <td>5.00</td>\n",
       "    </tr>\n",
       "    <tr>\n",
       "      <th>ส่วนที่ 3 สภาพแวดล้อมและสิ่งสนับสนุนการเรียนรู้</th>\n",
       "      <td>44.0</td>\n",
       "      <td>4.137727</td>\n",
       "      <td>0.366002</td>\n",
       "      <td>3.17</td>\n",
       "      <td>4.0000</td>\n",
       "      <td>4.245</td>\n",
       "      <td>4.3800</td>\n",
       "      <td>4.62</td>\n",
       "    </tr>\n",
       "  </tbody>\n",
       "</table>\n",
       "</div>"
      ],
      "text/plain": [
       "                                                 count      mean       std  \\\n",
       "topic                                                                        \n",
       "ส่วนที่ 1 ข้อคำถามกลางของมหาวิทยาลัย             208.0  4.293173  0.417676   \n",
       "ส่วนที่ 2 ข้อคำถามของคณะ/หน่วยงาน                 72.0  4.461250  0.345184   \n",
       "ส่วนที่ 3 สภาพแวดล้อมและสิ่งสนับสนุนการเรียนรู้   44.0  4.137727  0.366002   \n",
       "\n",
       "                                                  min     25%    50%     75%  \\\n",
       "topic                                                                          \n",
       "ส่วนที่ 1 ข้อคำถามกลางของมหาวิทยาลัย             2.88  4.0000  4.355  4.6025   \n",
       "ส่วนที่ 2 ข้อคำถามของคณะ/หน่วยงาน                3.38  4.2875  4.525  4.7100   \n",
       "ส่วนที่ 3 สภาพแวดล้อมและสิ่งสนับสนุนการเรียนรู้  3.17  4.0000  4.245  4.3800   \n",
       "\n",
       "                                                  max  \n",
       "topic                                                  \n",
       "ส่วนที่ 1 ข้อคำถามกลางของมหาวิทยาลัย             5.00  \n",
       "ส่วนที่ 2 ข้อคำถามของคณะ/หน่วยงาน                5.00  \n",
       "ส่วนที่ 3 สภาพแวดล้อมและสิ่งสนับสนุนการเรียนรู้  4.62  "
      ]
     },
     "execution_count": 21,
     "metadata": {},
     "output_type": "execute_result"
    }
   ],
   "source": [
    "df.groupby(\"topic\").x_bar.describe()"
   ]
  },
  {
   "cell_type": "code",
   "execution_count": 22,
   "metadata": {},
   "outputs": [
    {
     "name": "stderr",
     "output_type": "stream",
     "text": [
      "c:\\Users\\User\\AppData\\Local\\Programs\\Python\\Python310\\lib\\site-packages\\seaborn\\axisgrid.py:670: UserWarning: Using the boxplot function without specifying `order` is likely to produce an incorrect plot.\n",
      "  warnings.warn(warning)\n"
     ]
    },
    {
     "data": {
      "text/plain": [
       "<seaborn.axisgrid.FacetGrid at 0x1d37b66bf70>"
      ]
     },
     "execution_count": 22,
     "metadata": {},
     "output_type": "execute_result"
    },
    {
     "data": {
      "image/png": "[encoded data removed]",
      "text/plain": [
       "<Figure size 648x216 with 3 Axes>"
      ]
     },
     "metadata": {
      "needs_background": "light"
     },
     "output_type": "display_data"
    }
   ],
   "source": [
    "plt.rcParams.update({\"font.family\":\"tahoma\"})\n",
    "g = sns.FacetGrid(df, col = \"topic\")\n",
    "g.map(sns.boxplot , \"x_bar\")"
   ]
  },
  {
   "cell_type": "code",
   "execution_count": 23,
   "metadata": {},
   "outputs": [],
   "source": [
    "df[\"นักศึกษาที่ประเมิน(n)\"] = \"\""
   ]
  },
  {
   "cell_type": "code",
   "execution_count": 24,
   "metadata": {},
   "outputs": [
    {
     "name": "stderr",
     "output_type": "stream",
     "text": [
      "C:\\Users\\User\\AppData\\Local\\Temp\\ipykernel_4300\\3739083856.py:2: SettingWithCopyWarning: \n",
      "A value is trying to be set on a copy of a slice from a DataFrame\n",
      "\n",
      "See the caveats in the documentation: https://pandas.pydata.org/pandas-docs/stable/user_guide/indexing.html#returning-a-view-versus-a-copy\n",
      "  df[\"นักศึกษาที่ประเมิน(n)\"][i] = df[\"นักศึกษาที่ประเมิน\"][i].split()[0]\n"
     ]
    }
   ],
   "source": [
    "for i in range(len(df[\"นักศึกษาที่ประเมิน\"]))   : \n",
    "    df[\"นักศึกษาที่ประเมิน(n)\"][i] = df[\"นักศึกษาที่ประเมิน\"][i].split()[0]\n",
    "df[\"นักศึกษาที่ประเมิน(n)\"] = pd.to_numeric(df[\"นักศึกษาที่ประเมิน(n)\"] )"
   ]
  },
  {
   "cell_type": "code",
   "execution_count": 57,
   "metadata": {},
   "outputs": [],
   "source": [
    "pvt = df.pivot_table(index=[\"year\",\"sem\",\"subject\",\"section\",\"n\" ,\"นักศึกษาที่จดทะเบียน\"] , values= \"x_bar\")"
   ]
  },
  {
   "cell_type": "code",
   "execution_count": 58,
   "metadata": {},
   "outputs": [
    {
     "data": {
      "text/html": [
       "<div>\n",
       "<style scoped>\n",
       "    .dataframe tbody tr th:only-of-type {\n",
       "        vertical-align: middle;\n",
       "    }\n",
       "\n",
       "    .dataframe tbody tr th {\n",
       "        vertical-align: top;\n",
       "    }\n",
       "\n",
       "    .dataframe thead th {\n",
       "        text-align: right;\n",
       "    }\n",
       "</style>\n",
       "<table border=\"1\" class=\"dataframe\">\n",
       "  <thead>\n",
       "    <tr style=\"text-align: right;\">\n",
       "      <th></th>\n",
       "      <th></th>\n",
       "      <th></th>\n",
       "      <th></th>\n",
       "      <th></th>\n",
       "      <th></th>\n",
       "      <th>x_bar</th>\n",
       "    </tr>\n",
       "    <tr>\n",
       "      <th>year</th>\n",
       "      <th>sem</th>\n",
       "      <th>subject</th>\n",
       "      <th>section</th>\n",
       "      <th>n</th>\n",
       "      <th>นักศึกษาที่จดทะเบียน</th>\n",
       "      <th></th>\n",
       "    </tr>\n",
       "  </thead>\n",
       "  <tbody>\n",
       "    <tr>\n",
       "      <th rowspan=\"3\" valign=\"top\">2561</th>\n",
       "      <th rowspan=\"3\" valign=\"top\">2</th>\n",
       "      <th>NVI781</th>\n",
       "      <th>231863</th>\n",
       "      <th>7</th>\n",
       "      <th>44</th>\n",
       "      <td>4.450500</td>\n",
       "    </tr>\n",
       "    <tr>\n",
       "      <th>RMW014</th>\n",
       "      <th>556574</th>\n",
       "      <th>30</th>\n",
       "      <th>326</th>\n",
       "      <td>4.173333</td>\n",
       "    </tr>\n",
       "    <tr>\n",
       "      <th>YRY790</th>\n",
       "      <th>231863</th>\n",
       "      <th>7</th>\n",
       "      <th>44</th>\n",
       "      <td>4.042500</td>\n",
       "    </tr>\n",
       "    <tr>\n",
       "      <th rowspan=\"6\" valign=\"top\">2562</th>\n",
       "      <th rowspan=\"3\" valign=\"top\">1</th>\n",
       "      <th>FGL497</th>\n",
       "      <th>231863</th>\n",
       "      <th>6</th>\n",
       "      <th>43</th>\n",
       "      <td>4.191500</td>\n",
       "    </tr>\n",
       "    <tr>\n",
       "      <th>RMW014</th>\n",
       "      <th>556574</th>\n",
       "      <th>94</th>\n",
       "      <th>501</th>\n",
       "      <td>4.075833</td>\n",
       "    </tr>\n",
       "    <tr>\n",
       "      <th>YRY790</th>\n",
       "      <th>231863</th>\n",
       "      <th>12</th>\n",
       "      <th>50</th>\n",
       "      <td>4.441500</td>\n",
       "    </tr>\n",
       "    <tr>\n",
       "      <th rowspan=\"3\" valign=\"top\">2</th>\n",
       "      <th>DHT256</th>\n",
       "      <th>270981</th>\n",
       "      <th>6</th>\n",
       "      <th>12</th>\n",
       "      <td>4.091500</td>\n",
       "    </tr>\n",
       "    <tr>\n",
       "      <th>FGL497</th>\n",
       "      <th>231863</th>\n",
       "      <th>5</th>\n",
       "      <th>50</th>\n",
       "      <td>4.150000</td>\n",
       "    </tr>\n",
       "    <tr>\n",
       "      <th>RMW014</th>\n",
       "      <th>556574</th>\n",
       "      <th>210</th>\n",
       "      <th>511</th>\n",
       "      <td>3.520000</td>\n",
       "    </tr>\n",
       "    <tr>\n",
       "      <th rowspan=\"10\" valign=\"top\">2563</th>\n",
       "      <th rowspan=\"4\" valign=\"top\">1</th>\n",
       "      <th rowspan=\"2\" valign=\"top\">DRI970</th>\n",
       "      <th>231863</th>\n",
       "      <th>29</th>\n",
       "      <th>43</th>\n",
       "      <td>4.417000</td>\n",
       "    </tr>\n",
       "    <tr>\n",
       "      <th>728025</th>\n",
       "      <th>25</th>\n",
       "      <th>47</th>\n",
       "      <td>4.582500</td>\n",
       "    </tr>\n",
       "    <tr>\n",
       "      <th>NYE553</th>\n",
       "      <th>231863</th>\n",
       "      <th>29</th>\n",
       "      <th>43</th>\n",
       "      <td>4.351500</td>\n",
       "    </tr>\n",
       "    <tr>\n",
       "      <th>YRY790</th>\n",
       "      <th>728025</th>\n",
       "      <th>9</th>\n",
       "      <th>44</th>\n",
       "      <td>3.817500</td>\n",
       "    </tr>\n",
       "    <tr>\n",
       "      <th rowspan=\"6\" valign=\"top\">2</th>\n",
       "      <th>AZW892</th>\n",
       "      <th>231863</th>\n",
       "      <th>5</th>\n",
       "      <th>43</th>\n",
       "      <td>4.375000</td>\n",
       "    </tr>\n",
       "    <tr>\n",
       "      <th rowspan=\"3\" valign=\"top\">FGL497</th>\n",
       "      <th>231863</th>\n",
       "      <th>6</th>\n",
       "      <th>44</th>\n",
       "      <td>4.605000</td>\n",
       "    </tr>\n",
       "    <tr>\n",
       "      <th>696574</th>\n",
       "      <th>4</th>\n",
       "      <th>41</th>\n",
       "      <td>4.250000</td>\n",
       "    </tr>\n",
       "    <tr>\n",
       "      <th>728025</th>\n",
       "      <th>10</th>\n",
       "      <th>45</th>\n",
       "      <td>4.350000</td>\n",
       "    </tr>\n",
       "    <tr>\n",
       "      <th>NVI781</th>\n",
       "      <th>231863</th>\n",
       "      <th>8</th>\n",
       "      <th>46</th>\n",
       "      <td>4.517500</td>\n",
       "    </tr>\n",
       "    <tr>\n",
       "      <th>RMW014</th>\n",
       "      <th>556574</th>\n",
       "      <th>175</th>\n",
       "      <th>560</th>\n",
       "      <td>4.480000</td>\n",
       "    </tr>\n",
       "    <tr>\n",
       "      <th rowspan=\"7\" valign=\"top\">2564</th>\n",
       "      <th rowspan=\"5\" valign=\"top\">1</th>\n",
       "      <th>DRI970</th>\n",
       "      <th>231863</th>\n",
       "      <th>53</th>\n",
       "      <th>127</th>\n",
       "      <td>4.425000</td>\n",
       "    </tr>\n",
       "    <tr>\n",
       "      <th>NVI781</th>\n",
       "      <th>231863</th>\n",
       "      <th>35</th>\n",
       "      <th>64</th>\n",
       "      <td>4.661250</td>\n",
       "    </tr>\n",
       "    <tr>\n",
       "      <th>NYE553</th>\n",
       "      <th>231863</th>\n",
       "      <th>15</th>\n",
       "      <th>46</th>\n",
       "      <td>4.776250</td>\n",
       "    </tr>\n",
       "    <tr>\n",
       "      <th>XCM602</th>\n",
       "      <th>231863</th>\n",
       "      <th>2</th>\n",
       "      <th>14</th>\n",
       "      <td>5.000000</td>\n",
       "    </tr>\n",
       "    <tr>\n",
       "      <th>YRY790</th>\n",
       "      <th>231863</th>\n",
       "      <th>34</th>\n",
       "      <th>64</th>\n",
       "      <td>4.037500</td>\n",
       "    </tr>\n",
       "    <tr>\n",
       "      <th rowspan=\"2\" valign=\"top\">2</th>\n",
       "      <th>AZW892</th>\n",
       "      <th>231863</th>\n",
       "      <th>33</th>\n",
       "      <th>46</th>\n",
       "      <td>4.706250</td>\n",
       "    </tr>\n",
       "    <tr>\n",
       "      <th>FGL497</th>\n",
       "      <th>231863</th>\n",
       "      <th>41</th>\n",
       "      <th>66</th>\n",
       "      <td>4.338750</td>\n",
       "    </tr>\n",
       "  </tbody>\n",
       "</table>\n",
       "</div>"
      ],
      "text/plain": [
       "                                                      x_bar\n",
       "year sem subject section n   นักศึกษาที่จดทะเบียน          \n",
       "2561 2   NVI781  231863  7   44                    4.450500\n",
       "         RMW014  556574  30  326                   4.173333\n",
       "         YRY790  231863  7   44                    4.042500\n",
       "2562 1   FGL497  231863  6   43                    4.191500\n",
       "         RMW014  556574  94  501                   4.075833\n",
       "         YRY790  231863  12  50                    4.441500\n",
       "     2   DHT256  270981  6   12                    4.091500\n",
       "         FGL497  231863  5   50                    4.150000\n",
       "         RMW014  556574  210 511                   3.520000\n",
       "2563 1   DRI970  231863  29  43                    4.417000\n",
       "                 728025  25  47                    4.582500\n",
       "         NYE553  231863  29  43                    4.351500\n",
       "         YRY790  728025  9   44                    3.817500\n",
       "     2   AZW892  231863  5   43                    4.375000\n",
       "         FGL497  231863  6   44                    4.605000\n",
       "                 696574  4   41                    4.250000\n",
       "                 728025  10  45                    4.350000\n",
       "         NVI781  231863  8   46                    4.517500\n",
       "         RMW014  556574  175 560                   4.480000\n",
       "2564 1   DRI970  231863  53  127                   4.425000\n",
       "         NVI781  231863  35  64                    4.661250\n",
       "         NYE553  231863  15  46                    4.776250\n",
       "         XCM602  231863  2   14                    5.000000\n",
       "         YRY790  231863  34  64                    4.037500\n",
       "     2   AZW892  231863  33  46                    4.706250\n",
       "         FGL497  231863  41  66                    4.338750"
      ]
     },
     "execution_count": 58,
     "metadata": {},
     "output_type": "execute_result"
    }
   ],
   "source": [
    "pvt"
   ]
  },
  {
   "cell_type": "code",
   "execution_count": 59,
   "metadata": {},
   "outputs": [],
   "source": [
    "pvt.reset_index(inplace= True)\n",
    "pvt[\"n_appear\"] = 0"
   ]
  },
  {
   "cell_type": "code",
   "execution_count": 29,
   "metadata": {},
   "outputs": [
    {
     "data": {
      "text/plain": [
       "Text(0, 0.5, 'จำนวนครั้งที่ถูกบันทึก')"
      ]
     },
     "execution_count": 29,
     "metadata": {},
     "output_type": "execute_result"
    },
    {
     "data": {
      "image/png": "[encoded data removed]",
      "text/plain": [
       "<Figure size 720x576 with 1 Axes>"
      ]
     },
     "metadata": {
      "needs_background": "light"
     },
     "output_type": "display_data"
    }
   ],
   "source": [
    "plt.rcParams.update({\"font.family\":\"tahoma\"})\n",
    "plt.figure(figsize=(10, 8))\n",
    "\n",
    "plt.bar(pvt[\"subject\"] , height= pvt[\"n\"])\n",
    "plt.xlabel(\"รายวิชา\")\n",
    "plt.ylabel(\"จำนวนครั้งที่ถูกบันทึก\")"
   ]
  }
 ],
 "metadata": {
  "kernelspec": {
   "display_name": "Python 3.10.5 64-bit",
   "language": "python",
   "name": "python3"
  },
  "language_info": {
   "codemirror_mode": {
    "name": "ipython",
    "version": 3
   },
   "file_extension": ".py",
   "mimetype": "text/x-python",
   "name": "python",
   "nbconvert_exporter": "python",
   "pygments_lexer": "ipython3",
   "version": "3.10.5"
  },
  "orig_nbformat": 4,
  "vscode": {
   "interpreter": {
    "hash": "afb734500600fd355917ca529030176ea0ca205570884b88f2f6f7d791fd3fbe"
   }
  }
 },
 "nbformat": 4,
 "nbformat_minor": 2
}
