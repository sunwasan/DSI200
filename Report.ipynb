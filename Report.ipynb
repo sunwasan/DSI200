{
  "cells": [
    {
      "cell_type": "code",
      "execution_count": 1,
      "metadata": {
        "id": "CocVJ28rpl5M"
      },
      "outputs": [],
      "source": [
        "import pandas as pd\n",
        "import numpy as np\n",
        "\n",
        "import seaborn as sns\n",
        "\n",
        "import matplotlib.pyplot as plt \n",
        "\n",
        "import plotly.express as px\n",
        "import plotly.graph_objects as go\n",
        "from plotly.subplots import make_subplots\n",
        "\n",
        "import requests\n",
        "from bs4 import BeautifulSoup\n",
        "\n",
        "import warnings\n",
        "from pandas.core.common import SettingWithCopyWarning\n",
        "warnings.simplefilter(action=\"ignore\", category=SettingWithCopyWarning)   \n"
      ]
    },
    {
      "cell_type": "markdown",
      "metadata": {
        "id": "hWfDsEPIP064"
      },
      "source": [
        "**import ไลบรารี่ต่างๆที่จำเป็นที่ต้องใช้ในงานอันได้เเก่**\n",
        "\n",
        "1.   Pandas ใช้ในการจัดการข้อมูลที่อยู่ในรูปเเบบตาราง(Data Frame)\n",
        "2.   Seaborn ใช้สำหรับการทำกราฟในรูปเเบบของ 1 sheet ที่มีหลาย chart (Facet)\n",
        "3.   plotly สำหรับทำกราฟที่สามารถตอบสนองได้ (Inteactive)\n",
        "4.   matplotlib สำหรับการทำกราฟทั่วไป\n",
        "\n",
        "\n",
        "\n",
        "\n",
        "\n",
        "\n"
      ]
    },
    {
      "cell_type": "markdown",
      "metadata": {
        "id": "dZugLJNL2Nj7"
      },
      "source": [
        "### Scraping"
      ]
    },
    {
      "cell_type": "code",
      "execution_count": 2,
      "metadata": {
        "id": "PvYO_uE5hgM2"
      },
      "outputs": [],
      "source": [
        "main_url = 'https://sgulyano.github.io/eval/'\n",
        "\n",
        "html_url = ['02226005.html',\n",
        "            '08846113.html',\n",
        "            '19689783.html',\n",
        "            '24363682.html',\n",
        "            '24674969.html',\n",
        "            '26742703.html',\n",
        "            '33472214.html',\n",
        "            '33561138.html',\n",
        "            '33565025.html',\n",
        "            '41557226.html',\n",
        "            '43951333.html',\n",
        "            '44868136.html',\n",
        "            '45435188.html',\n",
        "            '48033334.html',\n",
        "            '51435303.html',\n",
        "            '53231654.html',\n",
        "            '60189297.html',\n",
        "            '61116032.html',\n",
        "            '66887754.html',\n",
        "            '68346670.html',\n",
        "            '71728345.html',\n",
        "            '79550445.html',\n",
        "            '83255004.html',\n",
        "            '94026030.html',\n",
        "            '95860997.html',\n",
        "            '96905621.html']\n",
        "eval_url = [main_url + url for url in html_url]\n",
        "\n",
        "def get_table_data(item):\n",
        "    data = []\n",
        "    table_body = item.find(\"tbody\")\n",
        "    rows = table_body.find_all(\"tr\")\n",
        "    for row in rows :\n",
        "        cols = row.find_all([\"td\",\"th\"])\n",
        "        cols = [ele.text.strip() for ele in cols]\n",
        "        data.append([ele for ele in cols if ele])\n",
        "    return data\n",
        "    \n",
        "dfs = []\n",
        "\n",
        "for j in range(26):\n",
        "    page  = j\n",
        "    r = requests.get(eval_url[page])\n",
        "    soup = BeautifulSoup(r.content,\"html.parser\")\n",
        "    tables = soup.find_all(\"table\")\n",
        "    head = pd.DataFrame(get_table_data(tables[0]))\n",
        "    section = head.iloc[1,1]\n",
        "\n",
        "# Adjust dataframe\n",
        "    df = pd.DataFrame(get_table_data(tables[2]))\n",
        "    df.dropna(how=\"all\",inplace=True)\n",
        "    df.columns = df.iloc[1,:]\n",
        "    rows = [0,1]\n",
        "    df.drop(rows,axis=0,inplace=True)\n",
        "    df.drop(df[df.ที่.str.contains(\"รวม\")].index , inplace= True)\n",
        "\n",
        "\n",
        "    df[\"topic\"] = \"\"\n",
        "    ind = 0\n",
        "    for i in df[\"ที่\"]:\n",
        "        if len(i) > 1:\n",
        "            topic = i\n",
        "            df.iloc[ind,16] = topic\n",
        "            ind += 1\n",
        "        else:\n",
        "            df.iloc[ind,16] = topic\n",
        "            ind +=1 \n",
        "    df.dropna(inplace= True)\n",
        "\n",
        "\n",
        "# change all column \"ร้อยละ\" name\n",
        "    cols = []\n",
        "    count = 5\n",
        "    for column in df.columns:\n",
        "        if column == 'ร้อยละ':\n",
        "            cols.append(f'{count}(%)')\n",
        "            count-=1\n",
        "            continue\n",
        "        cols.append(column)\n",
        "    df.columns = cols\n",
        "\n",
        "    for i in range(2,15):\n",
        "        df.iloc[:,i] = pd.to_numeric(df.iloc[:,i])\n",
        "    df.set_index(\"ที่\" , inplace= True)\n",
        "# add  detail to data frame\n",
        "\n",
        "    df[\"degree\"] = head.iloc[3,1]\n",
        "    df[\"semester\"] = head.iloc[2,1]  \n",
        "    df[\"subject\"] = head.iloc[0,1]\n",
        "    df[\"section\"] = head.iloc[1,1]\n",
        "    df[\"นักศึกษาที่จดทะเบียน\"] = head.iloc[4,1]\n",
        "    df[\"นักศึกษาที่ประเมิน\"] = head.iloc[5,1]\n",
        "    df[\"url\"] = eval_url[page]\n",
        "\n",
        "    dfs.append(df)\n",
        "    \n",
        "# concat all websites\n",
        "result = pd.concat([dfs[i] for i in range(26)])\n",
        "\n",
        "# separate year & semester \n",
        "result[\"year\"] = \"\"\n",
        "result[\"sem\"] = \"\"\n",
        "\n",
        "count = 0\n",
        "for i in result[\"semester\"]:\n",
        "    yr_splt = i.split(\"/\")\n",
        "    result[\"year\"][count] = yr_splt[1]\n",
        "    result[\"sem\"][count] = yr_splt[0]\n",
        "    count += 1\n",
        "\n",
        "\n",
        "result[\"n\"] = \"\"\n",
        "for i in range(len(result[\"นักศึกษาที่ประเมิน\"])):\n",
        "    result[\"n\"][i] = result[\"นักศึกษาที่ประเมิน\"][i].split(\" \")[0]\n",
        "result[\"n\"] = pd.to_numeric(result[\"n\"])\n",
        "\n",
        "result[\"class\"] = result[\"semester\"] + \"|\" + result[\"subject\"] + \"|\" + result[\"section\"]\n",
        "\n",
        "covid = result[result[\"ข้อคำถาม\"].str.contains(\"COVID-19\")]\n",
        "covid[\"situation\"] = \"covid\"\n",
        "covid = covid.filter(['class', 'situation'])\n",
        "covid.drop_duplicates(inplace= True)\n",
        "\n",
        "df = pd.merge(result,covid,on=\"class\" , how=\"outer\")\n",
        "df[\"situation\"].fillna(\"normal\" , inplace=True)\n",
        "df.rename(columns={\"X-Bar\" : \"x_bar\"},inplace= True)\n",
        "df.drop(columns= [\"url\",\"class\", \"นักศึกษาที่ประเมิน\"],inplace= True)\n",
        "df['0-1(%)'] = df['0(%)'] + df['1(%)'] "
      ]
    },
    {
      "cell_type": "markdown",
      "metadata": {
        "id": "MIWSlb-QkIKl"
      },
      "source": [
        "\n",
        "1.   เรียกใช้คำสั่ง drop จาก Library pandas เพื่อลบ Missing Dataจาก column ที่ชื่อ url class และ นักศึกษาที่ประเมิน เเละใช้คำสั่ง inplace=true เพื่อเป็นการ Update ตารางใหม่โดยถาวร\n",
        "\n"
      ]
    },
    {
      "cell_type": "markdown",
      "metadata": {
        "id": "cXSjfexckik9"
      },
      "source": [
        "1. สร้าง column ใหม่ที่เป็นการ merge column 0% กับ 1%"
      ]
    },
    {
      "cell_type": "markdown",
      "metadata": {
        "id": "pCxUncckd44G"
      },
      "source": [
        "# ส่วนใหม่"
      ]
    },
    {
      "cell_type": "code",
      "execution_count": 3,
      "metadata": {
        "colab": {
          "base_uri": "https://localhost:8080/",
          "height": 542
        },
        "id": "p3MQDSevtsVL",
        "outputId": "0c2a4ab4-607c-49c3-8d6e-85b4d14b6b14"
      },
      "outputs": [
        {
          "data": {
            "application/vnd.plotly.v1+json": {
              "config": {
                "plotlyServerURL": "https://plot.ly"
              },
              "data": [
                {
                  "alignmentgroup": "True",
                  "hovertemplate": "degree=ปริญญาตรี โครงการปกติ<br>year=%{x}<br>section=%{y}<extra></extra>",
                  "legendgroup": "",
                  "marker": {
                    "color": "#636efa",
                    "line": {
                      "color": "black",
                      "width": 1.5
                    },
                    "pattern": {
                      "shape": ""
                    }
                  },
                  "name": "",
                  "offsetgroup": "",
                  "orientation": "v",
                  "showlegend": false,
                  "textposition": "auto",
                  "texttemplate": "%{y}",
                  "type": "bar",
                  "x": [
                    "2561",
                    "2562",
                    "2563"
                  ],
                  "xaxis": "x",
                  "y": [
                    1,
                    2,
                    1
                  ],
                  "yaxis": "y"
                },
                {
                  "alignmentgroup": "True",
                  "hovertemplate": "degree=ปริญญาตรี โครงการพิเศษ<br>year=%{x}<br>section=%{y}<extra></extra>",
                  "legendgroup": "",
                  "marker": {
                    "color": "#636efa",
                    "line": {
                      "color": "black",
                      "width": 1.5
                    },
                    "pattern": {
                      "shape": ""
                    }
                  },
                  "name": "",
                  "offsetgroup": "",
                  "orientation": "v",
                  "showlegend": false,
                  "textposition": "auto",
                  "texttemplate": "%{y}",
                  "type": "bar",
                  "x": [
                    "2561",
                    "2562",
                    "2563",
                    "2564"
                  ],
                  "xaxis": "x2",
                  "y": [
                    2,
                    3,
                    9,
                    7
                  ],
                  "yaxis": "y2"
                },
                {
                  "alignmentgroup": "True",
                  "hovertemplate": "degree=ปริญญาโท โครงการพิเศษ<br>year=%{x}<br>section=%{y}<extra></extra>",
                  "legendgroup": "",
                  "marker": {
                    "color": "#636efa",
                    "line": {
                      "color": "black",
                      "width": 1.5
                    },
                    "pattern": {
                      "shape": ""
                    }
                  },
                  "name": "",
                  "offsetgroup": "",
                  "orientation": "v",
                  "showlegend": false,
                  "textposition": "auto",
                  "texttemplate": "%{y}",
                  "type": "bar",
                  "x": [
                    "2562"
                  ],
                  "xaxis": "x3",
                  "y": [
                    1
                  ],
                  "yaxis": "y3"
                }
              ],
              "layout": {
                "annotations": [
                  {
                    "font": {},
                    "showarrow": false,
                    "text": "degree=ปริญญาตรี โครงการปกติ",
                    "x": 0.15999999999999998,
                    "xanchor": "center",
                    "xref": "paper",
                    "y": 1,
                    "yanchor": "bottom",
                    "yref": "paper"
                  },
                  {
                    "font": {},
                    "showarrow": false,
                    "text": "degree=ปริญญาตรี โครงการพิเศษ",
                    "x": 0.49999999999999994,
                    "xanchor": "center",
                    "xref": "paper",
                    "y": 1,
                    "yanchor": "bottom",
                    "yref": "paper"
                  },
                  {
                    "font": {},
                    "showarrow": false,
                    "text": "degree=ปริญญาโท โครงการพิเศษ",
                    "x": 0.8399999999999999,
                    "xanchor": "center",
                    "xref": "paper",
                    "y": 1,
                    "yanchor": "bottom",
                    "yref": "paper"
                  }
                ],
                "barmode": "relative",
                "legend": {
                  "tracegroupgap": 0
                },
                "margin": {
                  "t": 60
                },
                "paper_bgcolor": "rgba(0, 0, 0, 0)",
                "plot_bgcolor": "rgba(0, 0, 0, 0)",
                "template": {
                  "data": {
                    "bar": [
                      {
                        "error_x": {
                          "color": "#2a3f5f"
                        },
                        "error_y": {
                          "color": "#2a3f5f"
                        },
                        "marker": {
                          "line": {
                            "color": "#E5ECF6",
                            "width": 0.5
                          },
                          "pattern": {
                            "fillmode": "overlay",
                            "size": 10,
                            "solidity": 0.2
                          }
                        },
                        "type": "bar"
                      }
                    ],
                    "barpolar": [
                      {
                        "marker": {
                          "line": {
                            "color": "#E5ECF6",
                            "width": 0.5
                          },
                          "pattern": {
                            "fillmode": "overlay",
                            "size": 10,
                            "solidity": 0.2
                          }
                        },
                        "type": "barpolar"
                      }
                    ],
                    "carpet": [
                      {
                        "aaxis": {
                          "endlinecolor": "#2a3f5f",
                          "gridcolor": "white",
                          "linecolor": "white",
                          "minorgridcolor": "white",
                          "startlinecolor": "#2a3f5f"
                        },
                        "baxis": {
                          "endlinecolor": "#2a3f5f",
                          "gridcolor": "white",
                          "linecolor": "white",
                          "minorgridcolor": "white",
                          "startlinecolor": "#2a3f5f"
                        },
                        "type": "carpet"
                      }
                    ],
                    "choropleth": [
                      {
                        "colorbar": {
                          "outlinewidth": 0,
                          "ticks": ""
                        },
                        "type": "choropleth"
                      }
                    ],
                    "contour": [
                      {
                        "colorbar": {
                          "outlinewidth": 0,
                          "ticks": ""
                        },
                        "colorscale": [
                          [
                            0,
                            "#0d0887"
                          ],
                          [
                            0.1111111111111111,
                            "#46039f"
                          ],
                          [
                            0.2222222222222222,
                            "#7201a8"
                          ],
                          [
                            0.3333333333333333,
                            "#9c179e"
                          ],
                          [
                            0.4444444444444444,
                            "#bd3786"
                          ],
                          [
                            0.5555555555555556,
                            "#d8576b"
                          ],
                          [
                            0.6666666666666666,
                            "#ed7953"
                          ],
                          [
                            0.7777777777777778,
                            "#fb9f3a"
                          ],
                          [
                            0.8888888888888888,
                            "#fdca26"
                          ],
                          [
                            1,
                            "#f0f921"
                          ]
                        ],
                        "type": "contour"
                      }
                    ],
                    "contourcarpet": [
                      {
                        "colorbar": {
                          "outlinewidth": 0,
                          "ticks": ""
                        },
                        "type": "contourcarpet"
                      }
                    ],
                    "heatmap": [
                      {
                        "colorbar": {
                          "outlinewidth": 0,
                          "ticks": ""
                        },
                        "colorscale": [
                          [
                            0,
                            "#0d0887"
                          ],
                          [
                            0.1111111111111111,
                            "#46039f"
                          ],
                          [
                            0.2222222222222222,
                            "#7201a8"
                          ],
                          [
                            0.3333333333333333,
                            "#9c179e"
                          ],
                          [
                            0.4444444444444444,
                            "#bd3786"
                          ],
                          [
                            0.5555555555555556,
                            "#d8576b"
                          ],
                          [
                            0.6666666666666666,
                            "#ed7953"
                          ],
                          [
                            0.7777777777777778,
                            "#fb9f3a"
                          ],
                          [
                            0.8888888888888888,
                            "#fdca26"
                          ],
                          [
                            1,
                            "#f0f921"
                          ]
                        ],
                        "type": "heatmap"
                      }
                    ],
                    "heatmapgl": [
                      {
                        "colorbar": {
                          "outlinewidth": 0,
                          "ticks": ""
                        },
                        "colorscale": [
                          [
                            0,
                            "#0d0887"
                          ],
                          [
                            0.1111111111111111,
                            "#46039f"
                          ],
                          [
                            0.2222222222222222,
                            "#7201a8"
                          ],
                          [
                            0.3333333333333333,
                            "#9c179e"
                          ],
                          [
                            0.4444444444444444,
                            "#bd3786"
                          ],
                          [
                            0.5555555555555556,
                            "#d8576b"
                          ],
                          [
                            0.6666666666666666,
                            "#ed7953"
                          ],
                          [
                            0.7777777777777778,
                            "#fb9f3a"
                          ],
                          [
                            0.8888888888888888,
                            "#fdca26"
                          ],
                          [
                            1,
                            "#f0f921"
                          ]
                        ],
                        "type": "heatmapgl"
                      }
                    ],
                    "histogram": [
                      {
                        "marker": {
                          "pattern": {
                            "fillmode": "overlay",
                            "size": 10,
                            "solidity": 0.2
                          }
                        },
                        "type": "histogram"
                      }
                    ],
                    "histogram2d": [
                      {
                        "colorbar": {
                          "outlinewidth": 0,
                          "ticks": ""
                        },
                        "colorscale": [
                          [
                            0,
                            "#0d0887"
                          ],
                          [
                            0.1111111111111111,
                            "#46039f"
                          ],
                          [
                            0.2222222222222222,
                            "#7201a8"
                          ],
                          [
                            0.3333333333333333,
                            "#9c179e"
                          ],
                          [
                            0.4444444444444444,
                            "#bd3786"
                          ],
                          [
                            0.5555555555555556,
                            "#d8576b"
                          ],
                          [
                            0.6666666666666666,
                            "#ed7953"
                          ],
                          [
                            0.7777777777777778,
                            "#fb9f3a"
                          ],
                          [
                            0.8888888888888888,
                            "#fdca26"
                          ],
                          [
                            1,
                            "#f0f921"
                          ]
                        ],
                        "type": "histogram2d"
                      }
                    ],
                    "histogram2dcontour": [
                      {
                        "colorbar": {
                          "outlinewidth": 0,
                          "ticks": ""
                        },
                        "colorscale": [
                          [
                            0,
                            "#0d0887"
                          ],
                          [
                            0.1111111111111111,
                            "#46039f"
                          ],
                          [
                            0.2222222222222222,
                            "#7201a8"
                          ],
                          [
                            0.3333333333333333,
                            "#9c179e"
                          ],
                          [
                            0.4444444444444444,
                            "#bd3786"
                          ],
                          [
                            0.5555555555555556,
                            "#d8576b"
                          ],
                          [
                            0.6666666666666666,
                            "#ed7953"
                          ],
                          [
                            0.7777777777777778,
                            "#fb9f3a"
                          ],
                          [
                            0.8888888888888888,
                            "#fdca26"
                          ],
                          [
                            1,
                            "#f0f921"
                          ]
                        ],
                        "type": "histogram2dcontour"
                      }
                    ],
                    "mesh3d": [
                      {
                        "colorbar": {
                          "outlinewidth": 0,
                          "ticks": ""
                        },
                        "type": "mesh3d"
                      }
                    ],
                    "parcoords": [
                      {
                        "line": {
                          "colorbar": {
                            "outlinewidth": 0,
                            "ticks": ""
                          }
                        },
                        "type": "parcoords"
                      }
                    ],
                    "pie": [
                      {
                        "automargin": true,
                        "type": "pie"
                      }
                    ],
                    "scatter": [
                      {
                        "fillpattern": {
                          "fillmode": "overlay",
                          "size": 10,
                          "solidity": 0.2
                        },
                        "type": "scatter"
                      }
                    ],
                    "scatter3d": [
                      {
                        "line": {
                          "colorbar": {
                            "outlinewidth": 0,
                            "ticks": ""
                          }
                        },
                        "marker": {
                          "colorbar": {
                            "outlinewidth": 0,
                            "ticks": ""
                          }
                        },
                        "type": "scatter3d"
                      }
                    ],
                    "scattercarpet": [
                      {
                        "marker": {
                          "colorbar": {
                            "outlinewidth": 0,
                            "ticks": ""
                          }
                        },
                        "type": "scattercarpet"
                      }
                    ],
                    "scattergeo": [
                      {
                        "marker": {
                          "colorbar": {
                            "outlinewidth": 0,
                            "ticks": ""
                          }
                        },
                        "type": "scattergeo"
                      }
                    ],
                    "scattergl": [
                      {
                        "marker": {
                          "colorbar": {
                            "outlinewidth": 0,
                            "ticks": ""
                          }
                        },
                        "type": "scattergl"
                      }
                    ],
                    "scattermapbox": [
                      {
                        "marker": {
                          "colorbar": {
                            "outlinewidth": 0,
                            "ticks": ""
                          }
                        },
                        "type": "scattermapbox"
                      }
                    ],
                    "scatterpolar": [
                      {
                        "marker": {
                          "colorbar": {
                            "outlinewidth": 0,
                            "ticks": ""
                          }
                        },
                        "type": "scatterpolar"
                      }
                    ],
                    "scatterpolargl": [
                      {
                        "marker": {
                          "colorbar": {
                            "outlinewidth": 0,
                            "ticks": ""
                          }
                        },
                        "type": "scatterpolargl"
                      }
                    ],
                    "scatterternary": [
                      {
                        "marker": {
                          "colorbar": {
                            "outlinewidth": 0,
                            "ticks": ""
                          }
                        },
                        "type": "scatterternary"
                      }
                    ],
                    "surface": [
                      {
                        "colorbar": {
                          "outlinewidth": 0,
                          "ticks": ""
                        },
                        "colorscale": [
                          [
                            0,
                            "#0d0887"
                          ],
                          [
                            0.1111111111111111,
                            "#46039f"
                          ],
                          [
                            0.2222222222222222,
                            "#7201a8"
                          ],
                          [
                            0.3333333333333333,
                            "#9c179e"
                          ],
                          [
                            0.4444444444444444,
                            "#bd3786"
                          ],
                          [
                            0.5555555555555556,
                            "#d8576b"
                          ],
                          [
                            0.6666666666666666,
                            "#ed7953"
                          ],
                          [
                            0.7777777777777778,
                            "#fb9f3a"
                          ],
                          [
                            0.8888888888888888,
                            "#fdca26"
                          ],
                          [
                            1,
                            "#f0f921"
                          ]
                        ],
                        "type": "surface"
                      }
                    ],
                    "table": [
                      {
                        "cells": {
                          "fill": {
                            "color": "#EBF0F8"
                          },
                          "line": {
                            "color": "white"
                          }
                        },
                        "header": {
                          "fill": {
                            "color": "#C8D4E3"
                          },
                          "line": {
                            "color": "white"
                          }
                        },
                        "type": "table"
                      }
                    ]
                  },
                  "layout": {
                    "annotationdefaults": {
                      "arrowcolor": "#2a3f5f",
                      "arrowhead": 0,
                      "arrowwidth": 1
                    },
                    "autotypenumbers": "strict",
                    "coloraxis": {
                      "colorbar": {
                        "outlinewidth": 0,
                        "ticks": ""
                      }
                    },
                    "colorscale": {
                      "diverging": [
                        [
                          0,
                          "#8e0152"
                        ],
                        [
                          0.1,
                          "#c51b7d"
                        ],
                        [
                          0.2,
                          "#de77ae"
                        ],
                        [
                          0.3,
                          "#f1b6da"
                        ],
                        [
                          0.4,
                          "#fde0ef"
                        ],
                        [
                          0.5,
                          "#f7f7f7"
                        ],
                        [
                          0.6,
                          "#e6f5d0"
                        ],
                        [
                          0.7,
                          "#b8e186"
                        ],
                        [
                          0.8,
                          "#7fbc41"
                        ],
                        [
                          0.9,
                          "#4d9221"
                        ],
                        [
                          1,
                          "#276419"
                        ]
                      ],
                      "sequential": [
                        [
                          0,
                          "#0d0887"
                        ],
                        [
                          0.1111111111111111,
                          "#46039f"
                        ],
                        [
                          0.2222222222222222,
                          "#7201a8"
                        ],
                        [
                          0.3333333333333333,
                          "#9c179e"
                        ],
                        [
                          0.4444444444444444,
                          "#bd3786"
                        ],
                        [
                          0.5555555555555556,
                          "#d8576b"
                        ],
                        [
                          0.6666666666666666,
                          "#ed7953"
                        ],
                        [
                          0.7777777777777778,
                          "#fb9f3a"
                        ],
                        [
                          0.8888888888888888,
                          "#fdca26"
                        ],
                        [
                          1,
                          "#f0f921"
                        ]
                      ],
                      "sequentialminus": [
                        [
                          0,
                          "#0d0887"
                        ],
                        [
                          0.1111111111111111,
                          "#46039f"
                        ],
                        [
                          0.2222222222222222,
                          "#7201a8"
                        ],
                        [
                          0.3333333333333333,
                          "#9c179e"
                        ],
                        [
                          0.4444444444444444,
                          "#bd3786"
                        ],
                        [
                          0.5555555555555556,
                          "#d8576b"
                        ],
                        [
                          0.6666666666666666,
                          "#ed7953"
                        ],
                        [
                          0.7777777777777778,
                          "#fb9f3a"
                        ],
                        [
                          0.8888888888888888,
                          "#fdca26"
                        ],
                        [
                          1,
                          "#f0f921"
                        ]
                      ]
                    },
                    "colorway": [
                      "#636efa",
                      "#EF553B",
                      "#00cc96",
                      "#ab63fa",
                      "#FFA15A",
                      "#19d3f3",
                      "#FF6692",
                      "#B6E880",
                      "#FF97FF",
                      "#FECB52"
                    ],
                    "font": {
                      "color": "#2a3f5f"
                    },
                    "geo": {
                      "bgcolor": "white",
                      "lakecolor": "white",
                      "landcolor": "#E5ECF6",
                      "showlakes": true,
                      "showland": true,
                      "subunitcolor": "white"
                    },
                    "hoverlabel": {
                      "align": "left"
                    },
                    "hovermode": "closest",
                    "mapbox": {
                      "style": "light"
                    },
                    "paper_bgcolor": "white",
                    "plot_bgcolor": "#E5ECF6",
                    "polar": {
                      "angularaxis": {
                        "gridcolor": "white",
                        "linecolor": "white",
                        "ticks": ""
                      },
                      "bgcolor": "#E5ECF6",
                      "radialaxis": {
                        "gridcolor": "white",
                        "linecolor": "white",
                        "ticks": ""
                      }
                    },
                    "scene": {
                      "xaxis": {
                        "backgroundcolor": "#E5ECF6",
                        "gridcolor": "white",
                        "gridwidth": 2,
                        "linecolor": "white",
                        "showbackground": true,
                        "ticks": "",
                        "zerolinecolor": "white"
                      },
                      "yaxis": {
                        "backgroundcolor": "#E5ECF6",
                        "gridcolor": "white",
                        "gridwidth": 2,
                        "linecolor": "white",
                        "showbackground": true,
                        "ticks": "",
                        "zerolinecolor": "white"
                      },
                      "zaxis": {
                        "backgroundcolor": "#E5ECF6",
                        "gridcolor": "white",
                        "gridwidth": 2,
                        "linecolor": "white",
                        "showbackground": true,
                        "ticks": "",
                        "zerolinecolor": "white"
                      }
                    },
                    "shapedefaults": {
                      "line": {
                        "color": "#2a3f5f"
                      }
                    },
                    "ternary": {
                      "aaxis": {
                        "gridcolor": "white",
                        "linecolor": "white",
                        "ticks": ""
                      },
                      "baxis": {
                        "gridcolor": "white",
                        "linecolor": "white",
                        "ticks": ""
                      },
                      "bgcolor": "#E5ECF6",
                      "caxis": {
                        "gridcolor": "white",
                        "linecolor": "white",
                        "ticks": ""
                      }
                    },
                    "title": {
                      "x": 0.05
                    },
                    "xaxis": {
                      "automargin": true,
                      "gridcolor": "white",
                      "linecolor": "white",
                      "ticks": "",
                      "title": {
                        "standoff": 15
                      },
                      "zerolinecolor": "white",
                      "zerolinewidth": 2
                    },
                    "yaxis": {
                      "automargin": true,
                      "gridcolor": "white",
                      "linecolor": "white",
                      "ticks": "",
                      "title": {
                        "standoff": 15
                      },
                      "zerolinecolor": "white",
                      "zerolinewidth": 2
                    }
                  }
                },
                "xaxis": {
                  "anchor": "y",
                  "domain": [
                    0,
                    0.31999999999999995
                  ],
                  "gridcolor": "rgba(0, 0, 0, 0)",
                  "linecolor": "black",
                  "linewidth": 1.5,
                  "title": {
                    "text": "year"
                  }
                },
                "xaxis2": {
                  "anchor": "y2",
                  "domain": [
                    0.33999999999999997,
                    0.6599999999999999
                  ],
                  "gridcolor": "rgba(0, 0, 0, 0)",
                  "linecolor": "black",
                  "linewidth": 1.5,
                  "matches": "x",
                  "title": {
                    "text": "year"
                  }
                },
                "xaxis3": {
                  "anchor": "y3",
                  "domain": [
                    0.6799999999999999,
                    0.9999999999999999
                  ],
                  "gridcolor": "rgba(0, 0, 0, 0)",
                  "linecolor": "black",
                  "linewidth": 1.5,
                  "matches": "x",
                  "title": {
                    "text": "year"
                  }
                },
                "yaxis": {
                  "anchor": "x",
                  "domain": [
                    0,
                    1
                  ],
                  "gridcolor": "rgba(0, 0, 0, 0)",
                  "linecolor": "black",
                  "linewidth": 1.5,
                  "title": {
                    "text": "section"
                  }
                },
                "yaxis2": {
                  "anchor": "x2",
                  "domain": [
                    0,
                    1
                  ],
                  "gridcolor": "rgba(0, 0, 0, 0)",
                  "linecolor": "black",
                  "linewidth": 1.5,
                  "matches": "y",
                  "showticklabels": false
                },
                "yaxis3": {
                  "anchor": "x3",
                  "domain": [
                    0,
                    1
                  ],
                  "gridcolor": "rgba(0, 0, 0, 0)",
                  "linecolor": "black",
                  "linewidth": 1.5,
                  "matches": "y",
                  "showticklabels": false
                }
              }
            }
          },
          "metadata": {},
          "output_type": "display_data"
        }
      ],
      "source": [
        "degree_compare = df.pivot_table(index=['degree','year','sem','subject'] , values='section',aggfunc= pd.Series.nunique).reset_index()\n",
        "fig = px.bar(degree_compare.pivot_table(index=['degree','year'], values='section' , aggfunc='sum').reset_index(), x='year' , y='section' , facet_col='degree' , text_auto=True )\n",
        "\n",
        "fig.update_layout({\n",
        "'plot_bgcolor':'rgba(0, 0, 0, 0)',\n",
        "'paper_bgcolor': 'rgba(0, 0, 0, 0)',\n",
        "})\n",
        "fig.update_xaxes(gridcolor='rgba(0, 0, 0, 0)' , linecolor = 'black' ,linewidth = 1.5 )\n",
        "fig.update_yaxes(gridcolor='rgba(0, 0, 0, 0)' , linecolor = 'black'  , linewidth = 1.5)\n",
        "fig.update_traces(marker_line_color='black',\n",
        "                  marker_line_width=1.5 ,\n",
        "                  )\n",
        "fig.show()"
      ]
    },
    {
      "cell_type": "markdown",
      "metadata": {
        "id": "NBgV2QFnG66G"
      },
      "source": [
        "1.กำหนดตัวแปร degree_compare เพื่อสร้าง pivot_table ที่อิงข้อมูลจากตารางใน df โดยกำหนด dimension values คือ degree, year, sem, subject เเละ measurement value คือ section กำหนดฟังก์ชั่นที่ทำ interactive ในกราฟคือ nunique เเละให้ reset index ที่เกิดเมื่อเจอ nunique value\n",
        "2. ใช้ libary plotly.express เพื่อสร้างกราฟแท่ง โดยอ้างอิงฟังก์ชั่นจากตัวแปร degree_compare โดยกำหนดแกน x เป็น year แกน y เป็น section ใช้ color ในการเเยกเเต่ละ degree เเละกำหนด facet ให้เเสดงผลได้หลายกราฟโดยเเบ่งตาม degree"
      ]
    },
    {
      "cell_type": "markdown",
      "metadata": {
        "id": "1WBsJAwhUASz"
      },
      "source": [
        "**สาเหตุ**\n",
        "* เพื่อต้องการแสดงให้เห็นว่ามีเพียงข้อมูล ปริญญาตรีโครงการพิเศษ เท่านั้นที่มีข้อมูลครบทั้ง 4 ปี"
      ]
    },
    {
      "cell_type": "code",
      "execution_count": 4,
      "metadata": {
        "id": "KS5V9sedrgT0"
      },
      "outputs": [],
      "source": [
        "df = df.query(\"degree == 'ปริญญาตรี โครงการพิเศษ' \")"
      ]
    },
    {
      "cell_type": "markdown",
      "metadata": {
        "id": "p6jcgjCD-pSs"
      },
      "source": [
        "1. กำหนดตัวแปร df เพื่อเก็บข้อมูล degree ที่เป็น ปริญญาตรี โครงการพิเศษ "
      ]
    },
    {
      "cell_type": "code",
      "execution_count": 5,
      "metadata": {
        "colab": {
          "base_uri": "https://localhost:8080/",
          "height": 542
        },
        "id": "uF89DK9W1EY2",
        "outputId": "4857ef7d-90fd-406c-b0a1-c04fd2fd557f"
      },
      "outputs": [
        {
          "data": {
            "application/vnd.plotly.v1+json": {
              "config": {
                "plotlyServerURL": "https://plot.ly"
              },
              "data": [
                {
                  "domain": {
                    "x": [
                      0,
                      0.2125
                    ],
                    "y": [
                      0,
                      1
                    ]
                  },
                  "hole": 0.4,
                  "hoverinfo": "label+percent+name",
                  "labels": [
                    "normal",
                    "normal"
                  ],
                  "name": "2561",
                  "type": "pie",
                  "values": [
                    1,
                    1
                  ]
                },
                {
                  "domain": {
                    "x": [
                      0.2625,
                      0.475
                    ],
                    "y": [
                      0,
                      1
                    ]
                  },
                  "hole": 0.4,
                  "hoverinfo": "label+percent+name",
                  "labels": [
                    "normal",
                    "normal",
                    "covid"
                  ],
                  "name": "2562",
                  "type": "pie",
                  "values": [
                    1,
                    1,
                    1
                  ]
                },
                {
                  "domain": {
                    "x": [
                      0.525,
                      0.7375
                    ],
                    "y": [
                      0,
                      1
                    ]
                  },
                  "hole": 0.4,
                  "hoverinfo": "label+percent+name",
                  "labels": [
                    "normal",
                    "normal",
                    "normal",
                    "covid",
                    "covid",
                    "covid"
                  ],
                  "name": "2563",
                  "type": "pie",
                  "values": [
                    2,
                    1,
                    1,
                    1,
                    3,
                    1
                  ]
                },
                {
                  "domain": {
                    "x": [
                      0.7875,
                      1
                    ],
                    "y": [
                      0,
                      1
                    ]
                  },
                  "hole": 0.4,
                  "hoverinfo": "label+percent+name",
                  "labels": [
                    "covid",
                    "covid",
                    "covid",
                    "covid",
                    "covid",
                    "covid",
                    "covid"
                  ],
                  "name": "2564",
                  "type": "pie",
                  "values": [
                    1,
                    1,
                    1,
                    1,
                    1,
                    1,
                    1
                  ]
                }
              ],
              "layout": {
                "annotations": [
                  {
                    "font": {
                      "size": 20
                    },
                    "showarrow": false,
                    "text": "2561",
                    "x": 0.093,
                    "y": 0.5
                  },
                  {
                    "font": {
                      "size": 20
                    },
                    "showarrow": false,
                    "text": "2562",
                    "x": 0.368,
                    "y": 0.5
                  },
                  {
                    "font": {
                      "size": 20
                    },
                    "showarrow": false,
                    "text": "2563",
                    "x": 0.633,
                    "y": 0.5
                  },
                  {
                    "font": {
                      "size": 20
                    },
                    "showarrow": false,
                    "text": "2564",
                    "x": 0.906,
                    "y": 0.5
                  }
                ],
                "template": {
                  "data": {
                    "bar": [
                      {
                        "error_x": {
                          "color": "#2a3f5f"
                        },
                        "error_y": {
                          "color": "#2a3f5f"
                        },
                        "marker": {
                          "line": {
                            "color": "#E5ECF6",
                            "width": 0.5
                          },
                          "pattern": {
                            "fillmode": "overlay",
                            "size": 10,
                            "solidity": 0.2
                          }
                        },
                        "type": "bar"
                      }
                    ],
                    "barpolar": [
                      {
                        "marker": {
                          "line": {
                            "color": "#E5ECF6",
                            "width": 0.5
                          },
                          "pattern": {
                            "fillmode": "overlay",
                            "size": 10,
                            "solidity": 0.2
                          }
                        },
                        "type": "barpolar"
                      }
                    ],
                    "carpet": [
                      {
                        "aaxis": {
                          "endlinecolor": "#2a3f5f",
                          "gridcolor": "white",
                          "linecolor": "white",
                          "minorgridcolor": "white",
                          "startlinecolor": "#2a3f5f"
                        },
                        "baxis": {
                          "endlinecolor": "#2a3f5f",
                          "gridcolor": "white",
                          "linecolor": "white",
                          "minorgridcolor": "white",
                          "startlinecolor": "#2a3f5f"
                        },
                        "type": "carpet"
                      }
                    ],
                    "choropleth": [
                      {
                        "colorbar": {
                          "outlinewidth": 0,
                          "ticks": ""
                        },
                        "type": "choropleth"
                      }
                    ],
                    "contour": [
                      {
                        "colorbar": {
                          "outlinewidth": 0,
                          "ticks": ""
                        },
                        "colorscale": [
                          [
                            0,
                            "#0d0887"
                          ],
                          [
                            0.1111111111111111,
                            "#46039f"
                          ],
                          [
                            0.2222222222222222,
                            "#7201a8"
                          ],
                          [
                            0.3333333333333333,
                            "#9c179e"
                          ],
                          [
                            0.4444444444444444,
                            "#bd3786"
                          ],
                          [
                            0.5555555555555556,
                            "#d8576b"
                          ],
                          [
                            0.6666666666666666,
                            "#ed7953"
                          ],
                          [
                            0.7777777777777778,
                            "#fb9f3a"
                          ],
                          [
                            0.8888888888888888,
                            "#fdca26"
                          ],
                          [
                            1,
                            "#f0f921"
                          ]
                        ],
                        "type": "contour"
                      }
                    ],
                    "contourcarpet": [
                      {
                        "colorbar": {
                          "outlinewidth": 0,
                          "ticks": ""
                        },
                        "type": "contourcarpet"
                      }
                    ],
                    "heatmap": [
                      {
                        "colorbar": {
                          "outlinewidth": 0,
                          "ticks": ""
                        },
                        "colorscale": [
                          [
                            0,
                            "#0d0887"
                          ],
                          [
                            0.1111111111111111,
                            "#46039f"
                          ],
                          [
                            0.2222222222222222,
                            "#7201a8"
                          ],
                          [
                            0.3333333333333333,
                            "#9c179e"
                          ],
                          [
                            0.4444444444444444,
                            "#bd3786"
                          ],
                          [
                            0.5555555555555556,
                            "#d8576b"
                          ],
                          [
                            0.6666666666666666,
                            "#ed7953"
                          ],
                          [
                            0.7777777777777778,
                            "#fb9f3a"
                          ],
                          [
                            0.8888888888888888,
                            "#fdca26"
                          ],
                          [
                            1,
                            "#f0f921"
                          ]
                        ],
                        "type": "heatmap"
                      }
                    ],
                    "heatmapgl": [
                      {
                        "colorbar": {
                          "outlinewidth": 0,
                          "ticks": ""
                        },
                        "colorscale": [
                          [
                            0,
                            "#0d0887"
                          ],
                          [
                            0.1111111111111111,
                            "#46039f"
                          ],
                          [
                            0.2222222222222222,
                            "#7201a8"
                          ],
                          [
                            0.3333333333333333,
                            "#9c179e"
                          ],
                          [
                            0.4444444444444444,
                            "#bd3786"
                          ],
                          [
                            0.5555555555555556,
                            "#d8576b"
                          ],
                          [
                            0.6666666666666666,
                            "#ed7953"
                          ],
                          [
                            0.7777777777777778,
                            "#fb9f3a"
                          ],
                          [
                            0.8888888888888888,
                            "#fdca26"
                          ],
                          [
                            1,
                            "#f0f921"
                          ]
                        ],
                        "type": "heatmapgl"
                      }
                    ],
                    "histogram": [
                      {
                        "marker": {
                          "pattern": {
                            "fillmode": "overlay",
                            "size": 10,
                            "solidity": 0.2
                          }
                        },
                        "type": "histogram"
                      }
                    ],
                    "histogram2d": [
                      {
                        "colorbar": {
                          "outlinewidth": 0,
                          "ticks": ""
                        },
                        "colorscale": [
                          [
                            0,
                            "#0d0887"
                          ],
                          [
                            0.1111111111111111,
                            "#46039f"
                          ],
                          [
                            0.2222222222222222,
                            "#7201a8"
                          ],
                          [
                            0.3333333333333333,
                            "#9c179e"
                          ],
                          [
                            0.4444444444444444,
                            "#bd3786"
                          ],
                          [
                            0.5555555555555556,
                            "#d8576b"
                          ],
                          [
                            0.6666666666666666,
                            "#ed7953"
                          ],
                          [
                            0.7777777777777778,
                            "#fb9f3a"
                          ],
                          [
                            0.8888888888888888,
                            "#fdca26"
                          ],
                          [
                            1,
                            "#f0f921"
                          ]
                        ],
                        "type": "histogram2d"
                      }
                    ],
                    "histogram2dcontour": [
                      {
                        "colorbar": {
                          "outlinewidth": 0,
                          "ticks": ""
                        },
                        "colorscale": [
                          [
                            0,
                            "#0d0887"
                          ],
                          [
                            0.1111111111111111,
                            "#46039f"
                          ],
                          [
                            0.2222222222222222,
                            "#7201a8"
                          ],
                          [
                            0.3333333333333333,
                            "#9c179e"
                          ],
                          [
                            0.4444444444444444,
                            "#bd3786"
                          ],
                          [
                            0.5555555555555556,
                            "#d8576b"
                          ],
                          [
                            0.6666666666666666,
                            "#ed7953"
                          ],
                          [
                            0.7777777777777778,
                            "#fb9f3a"
                          ],
                          [
                            0.8888888888888888,
                            "#fdca26"
                          ],
                          [
                            1,
                            "#f0f921"
                          ]
                        ],
                        "type": "histogram2dcontour"
                      }
                    ],
                    "mesh3d": [
                      {
                        "colorbar": {
                          "outlinewidth": 0,
                          "ticks": ""
                        },
                        "type": "mesh3d"
                      }
                    ],
                    "parcoords": [
                      {
                        "line": {
                          "colorbar": {
                            "outlinewidth": 0,
                            "ticks": ""
                          }
                        },
                        "type": "parcoords"
                      }
                    ],
                    "pie": [
                      {
                        "automargin": true,
                        "type": "pie"
                      }
                    ],
                    "scatter": [
                      {
                        "fillpattern": {
                          "fillmode": "overlay",
                          "size": 10,
                          "solidity": 0.2
                        },
                        "type": "scatter"
                      }
                    ],
                    "scatter3d": [
                      {
                        "line": {
                          "colorbar": {
                            "outlinewidth": 0,
                            "ticks": ""
                          }
                        },
                        "marker": {
                          "colorbar": {
                            "outlinewidth": 0,
                            "ticks": ""
                          }
                        },
                        "type": "scatter3d"
                      }
                    ],
                    "scattercarpet": [
                      {
                        "marker": {
                          "colorbar": {
                            "outlinewidth": 0,
                            "ticks": ""
                          }
                        },
                        "type": "scattercarpet"
                      }
                    ],
                    "scattergeo": [
                      {
                        "marker": {
                          "colorbar": {
                            "outlinewidth": 0,
                            "ticks": ""
                          }
                        },
                        "type": "scattergeo"
                      }
                    ],
                    "scattergl": [
                      {
                        "marker": {
                          "colorbar": {
                            "outlinewidth": 0,
                            "ticks": ""
                          }
                        },
                        "type": "scattergl"
                      }
                    ],
                    "scattermapbox": [
                      {
                        "marker": {
                          "colorbar": {
                            "outlinewidth": 0,
                            "ticks": ""
                          }
                        },
                        "type": "scattermapbox"
                      }
                    ],
                    "scatterpolar": [
                      {
                        "marker": {
                          "colorbar": {
                            "outlinewidth": 0,
                            "ticks": ""
                          }
                        },
                        "type": "scatterpolar"
                      }
                    ],
                    "scatterpolargl": [
                      {
                        "marker": {
                          "colorbar": {
                            "outlinewidth": 0,
                            "ticks": ""
                          }
                        },
                        "type": "scatterpolargl"
                      }
                    ],
                    "scatterternary": [
                      {
                        "marker": {
                          "colorbar": {
                            "outlinewidth": 0,
                            "ticks": ""
                          }
                        },
                        "type": "scatterternary"
                      }
                    ],
                    "surface": [
                      {
                        "colorbar": {
                          "outlinewidth": 0,
                          "ticks": ""
                        },
                        "colorscale": [
                          [
                            0,
                            "#0d0887"
                          ],
                          [
                            0.1111111111111111,
                            "#46039f"
                          ],
                          [
                            0.2222222222222222,
                            "#7201a8"
                          ],
                          [
                            0.3333333333333333,
                            "#9c179e"
                          ],
                          [
                            0.4444444444444444,
                            "#bd3786"
                          ],
                          [
                            0.5555555555555556,
                            "#d8576b"
                          ],
                          [
                            0.6666666666666666,
                            "#ed7953"
                          ],
                          [
                            0.7777777777777778,
                            "#fb9f3a"
                          ],
                          [
                            0.8888888888888888,
                            "#fdca26"
                          ],
                          [
                            1,
                            "#f0f921"
                          ]
                        ],
                        "type": "surface"
                      }
                    ],
                    "table": [
                      {
                        "cells": {
                          "fill": {
                            "color": "#EBF0F8"
                          },
                          "line": {
                            "color": "white"
                          }
                        },
                        "header": {
                          "fill": {
                            "color": "#C8D4E3"
                          },
                          "line": {
                            "color": "white"
                          }
                        },
                        "type": "table"
                      }
                    ]
                  },
                  "layout": {
                    "annotationdefaults": {
                      "arrowcolor": "#2a3f5f",
                      "arrowhead": 0,
                      "arrowwidth": 1
                    },
                    "autotypenumbers": "strict",
                    "coloraxis": {
                      "colorbar": {
                        "outlinewidth": 0,
                        "ticks": ""
                      }
                    },
                    "colorscale": {
                      "diverging": [
                        [
                          0,
                          "#8e0152"
                        ],
                        [
                          0.1,
                          "#c51b7d"
                        ],
                        [
                          0.2,
                          "#de77ae"
                        ],
                        [
                          0.3,
                          "#f1b6da"
                        ],
                        [
                          0.4,
                          "#fde0ef"
                        ],
                        [
                          0.5,
                          "#f7f7f7"
                        ],
                        [
                          0.6,
                          "#e6f5d0"
                        ],
                        [
                          0.7,
                          "#b8e186"
                        ],
                        [
                          0.8,
                          "#7fbc41"
                        ],
                        [
                          0.9,
                          "#4d9221"
                        ],
                        [
                          1,
                          "#276419"
                        ]
                      ],
                      "sequential": [
                        [
                          0,
                          "#0d0887"
                        ],
                        [
                          0.1111111111111111,
                          "#46039f"
                        ],
                        [
                          0.2222222222222222,
                          "#7201a8"
                        ],
                        [
                          0.3333333333333333,
                          "#9c179e"
                        ],
                        [
                          0.4444444444444444,
                          "#bd3786"
                        ],
                        [
                          0.5555555555555556,
                          "#d8576b"
                        ],
                        [
                          0.6666666666666666,
                          "#ed7953"
                        ],
                        [
                          0.7777777777777778,
                          "#fb9f3a"
                        ],
                        [
                          0.8888888888888888,
                          "#fdca26"
                        ],
                        [
                          1,
                          "#f0f921"
                        ]
                      ],
                      "sequentialminus": [
                        [
                          0,
                          "#0d0887"
                        ],
                        [
                          0.1111111111111111,
                          "#46039f"
                        ],
                        [
                          0.2222222222222222,
                          "#7201a8"
                        ],
                        [
                          0.3333333333333333,
                          "#9c179e"
                        ],
                        [
                          0.4444444444444444,
                          "#bd3786"
                        ],
                        [
                          0.5555555555555556,
                          "#d8576b"
                        ],
                        [
                          0.6666666666666666,
                          "#ed7953"
                        ],
                        [
                          0.7777777777777778,
                          "#fb9f3a"
                        ],
                        [
                          0.8888888888888888,
                          "#fdca26"
                        ],
                        [
                          1,
                          "#f0f921"
                        ]
                      ]
                    },
                    "colorway": [
                      "#636efa",
                      "#EF553B",
                      "#00cc96",
                      "#ab63fa",
                      "#FFA15A",
                      "#19d3f3",
                      "#FF6692",
                      "#B6E880",
                      "#FF97FF",
                      "#FECB52"
                    ],
                    "font": {
                      "color": "#2a3f5f"
                    },
                    "geo": {
                      "bgcolor": "white",
                      "lakecolor": "white",
                      "landcolor": "#E5ECF6",
                      "showlakes": true,
                      "showland": true,
                      "subunitcolor": "white"
                    },
                    "hoverlabel": {
                      "align": "left"
                    },
                    "hovermode": "closest",
                    "mapbox": {
                      "style": "light"
                    },
                    "paper_bgcolor": "white",
                    "plot_bgcolor": "#E5ECF6",
                    "polar": {
                      "angularaxis": {
                        "gridcolor": "white",
                        "linecolor": "white",
                        "ticks": ""
                      },
                      "bgcolor": "#E5ECF6",
                      "radialaxis": {
                        "gridcolor": "white",
                        "linecolor": "white",
                        "ticks": ""
                      }
                    },
                    "scene": {
                      "xaxis": {
                        "backgroundcolor": "#E5ECF6",
                        "gridcolor": "white",
                        "gridwidth": 2,
                        "linecolor": "white",
                        "showbackground": true,
                        "ticks": "",
                        "zerolinecolor": "white"
                      },
                      "yaxis": {
                        "backgroundcolor": "#E5ECF6",
                        "gridcolor": "white",
                        "gridwidth": 2,
                        "linecolor": "white",
                        "showbackground": true,
                        "ticks": "",
                        "zerolinecolor": "white"
                      },
                      "zaxis": {
                        "backgroundcolor": "#E5ECF6",
                        "gridcolor": "white",
                        "gridwidth": 2,
                        "linecolor": "white",
                        "showbackground": true,
                        "ticks": "",
                        "zerolinecolor": "white"
                      }
                    },
                    "shapedefaults": {
                      "line": {
                        "color": "#2a3f5f"
                      }
                    },
                    "ternary": {
                      "aaxis": {
                        "gridcolor": "white",
                        "linecolor": "white",
                        "ticks": ""
                      },
                      "baxis": {
                        "gridcolor": "white",
                        "linecolor": "white",
                        "ticks": ""
                      },
                      "bgcolor": "#E5ECF6",
                      "caxis": {
                        "gridcolor": "white",
                        "linecolor": "white",
                        "ticks": ""
                      }
                    },
                    "title": {
                      "x": 0.05
                    },
                    "xaxis": {
                      "automargin": true,
                      "gridcolor": "white",
                      "linecolor": "white",
                      "ticks": "",
                      "title": {
                        "standoff": 15
                      },
                      "zerolinecolor": "white",
                      "zerolinewidth": 2
                    },
                    "yaxis": {
                      "automargin": true,
                      "gridcolor": "white",
                      "linecolor": "white",
                      "ticks": "",
                      "title": {
                        "standoff": 15
                      },
                      "zerolinecolor": "white",
                      "zerolinewidth": 2
                    }
                  }
                },
                "title": {
                  "text": "Situation 2561 - 2564"
                }
              }
            }
          },
          "metadata": {},
          "output_type": "display_data"
        }
      ],
      "source": [
        "pvt = df.pivot_table(index=[\"year\",\"sem\",\"situation\",\"subject\"] ,values= [\"section\"] , aggfunc= pd.Series.nunique).reset_index()\n",
        "\n",
        "fig = make_subplots(rows=1, cols=4 ,specs=[[{'type':'domain'}, {'type':'domain'}, {'type':'domain'}, {'type':'domain'}]])\n",
        "for i in range(1,5):\n",
        "  fig.add_trace(go.Pie(labels=pvt.loc[pvt[\"year\"] == f'256{i}' , 'situation'], values=pvt.loc[pvt[\"year\"] == f'256{i}' , 'section'], name=f\"256{i}\"),1, i)\n",
        "\n",
        "# Use `hole` to create a donut-like pie chart\n",
        "fig.update_traces(hole=.4, hoverinfo=\"label+percent+name\")\n",
        "\n",
        "fig.update_layout(\n",
        "    title_text=\"Situation 2561 - 2564\",\n",
        "    # Add annotations in the center of the donut pies.\n",
        "      annotations=[dict(text='2561', x=0.093 , y=0.5, font_size=20, showarrow=False),\n",
        "                  dict(text='2562', x=0.368 , y=0.5, font_size=20, showarrow=False),\n",
        "                  dict(text='2563', x=0.633, y=0.5, font_size=20, showarrow=False),\n",
        "                  dict(text='2564', x=0.906, y=0.5, font_size=20, showarrow=False)\n",
        "                  ])\n",
        "fig.show()"
      ]
    },
    {
      "cell_type": "markdown",
      "metadata": {
        "id": "iDf6gmexNnMB"
      },
      "source": [
        "\n",
        "\n",
        "1.   กำหนดตัวแปร pvt เพื่อสร้าง pivot_table ที่อิงข้อมูลจากตารางใน df โดยกำหนด \n",
        "dimension values คือ year, sem, situaton, subject เเละ measurement value คือ section โดยจะนับ section ในแต่ละวิชา และ reset index เพื่อเปลี่ยนจากตาราง pivot เป็นตารางปกติ เพื่อนำไปทำกราฟต่อ\n",
        "2.   กำหนดตัวแปร fig และใช้คำสั่ง make_subplots เพื่อสร้าง หลายกราฟใน 1 รูป โดยกำหนดเป็น 1 แถว 4 คอลัมน์ เเละใช้คำสั่ง for loop และเรียกใช้ฟังก์ชั่น add_trace เพื่อสร้าง pie chart 4 รูป\n",
        "3. เปลี่ยน pie chart ให้เป็น donut chart โดยเพิ่มรูเข้าไปตรงกลาง\n",
        "4. เรียกใช้ฟังก์ชั่น update_layout โดยใช้กำหนดชื่อกราฟ,กำหนดข้อความ,ตั้งค่าตำแหน่ง x และ y ,และขนาดฟ้อนต์ใน donut chart\n"
      ]
    },
    {
      "cell_type": "markdown",
      "metadata": {
        "id": "UWIbvdLeUVtl"
      },
      "source": [
        "**สาเหตุ**\n",
        "* ต้องการแสดงให้เห็นสัดส่วนระหว่างสถานการณ์ธรรมดา / โควิด ในแต่ละปี\n",
        "* เนื่องจากชุดคำถามของแต่ละสถานการณ์แตกต่างกัน"
      ]
    },
    {
      "cell_type": "markdown",
      "metadata": {
        "id": "kvGWbR7N2C4u"
      },
      "source": [
        "**แยก situation**"
      ]
    },
    {
      "cell_type": "code",
      "execution_count": 6,
      "metadata": {
        "id": "E0T4tDlK0ltI"
      },
      "outputs": [],
      "source": [
        "cov = df.query(\"situation == 'covid'\")\n",
        "norm = df.query(\"situation == 'normal'\")"
      ]
    },
    {
      "cell_type": "markdown",
      "metadata": {
        "id": "8sC66M4b2A9U"
      },
      "source": [
        "1. สร้างตัวแปร cov เพื่อเก็บข้อมูลที่เป็น situation covid\n",
        "2. สร้างตัวแปร norm เพื่อเก็บข้อมูลที่เป็น situation normal\n"
      ]
    },
    {
      "cell_type": "markdown",
      "metadata": {
        "id": "qJbZTjz-U7s0"
      },
      "source": [
        "**Add pie chart \"Topic\" each degree/situation**"
      ]
    },
    {
      "cell_type": "code",
      "execution_count": 7,
      "metadata": {
        "colab": {
          "base_uri": "https://localhost:8080/",
          "height": 697
        },
        "id": "HCba1RNE2oAX",
        "outputId": "3f546a96-34d8-478d-c229-a788d94561fc"
      },
      "outputs": [
        {
          "data": {
            "image/png": "[encoded data removed]",
            "text/plain": [
              "<Figure size 1080x720 with 8 Axes>"
            ]
          },
          "metadata": {
            "needs_background": "light"
          },
          "output_type": "display_data"
        }
      ],
      "source": [
        "sns.set_style(\"white\")\n",
        "\n",
        "g = sns.FacetGrid(df , col=\"year\" ,row='situation' , col_order=sorted(df['year'].unique()) )\n",
        "g = g.map(sns.kdeplot , \"x_bar\")\n",
        "g = g.map(lambda y, **kw: plt.axvline(y.mean(), color=\"k\"), 'x_bar')\n",
        "\n",
        "g.fig.set_size_inches(15,10)\n",
        "g.fig.subplots_adjust(top=0.8)\n",
        "g.fig.suptitle(\"Density Plot\")\n",
        "sns.despine()"
      ]
    },
    {
      "cell_type": "markdown",
      "metadata": {
        "id": "GMZpWIq6j1lC"
      },
      "source": [
        "1.  ใช้ libary seaborn\n",
        "2.  กำหนดตัวแปร g ใช้ฟังก์ชั่น FacetGrid เพื่อแบ่งกราฟเป็น 8 กราฟ โดยคอลัมน์แบ่งตามปี และ แถวแบ่งตามสถานการณ์\n",
        "3. ใช้ฟังก์ชั่น map เพื่อกำหนดภาพรวมของกราฟ โดยกำหนดให้แกน x เป็น x_bar และ รูปแบบเป็น density plot\n",
        "4. ใช้ฟังก์ชั่น refline เพื่อสร้างเส้นอ้างอิงโดยกำหนดค่าอิงคือค่าเฉลี่ยต่อปี และ สถานการณ์ \n",
        "5. เรียกใช้ตัวแปร fig แล้วใช้ฟังก์ชั่น subplots_adjust เพื่อเลื่อนtitleให้สูงขึ้น และใช้ฟังก์ชั่น suptitle เพื่อตั้งชื่อ(title)ให้กราฟ\n"
      ]
    },
    {
      "cell_type": "code",
      "execution_count": 8,
      "metadata": {
        "colab": {
          "base_uri": "https://localhost:8080/",
          "height": 627
        },
        "id": "SE_Yn_x3cJjZ",
        "outputId": "8e195d73-5532-4521-bd36-3c04f3ac5ff1"
      },
      "outputs": [
        {
          "name": "stderr",
          "output_type": "stream",
          "text": [
            "C:\\Users\\User\\AppData\\Local\\Temp\\ipykernel_12632\\3749186320.py:16: UserWarning:\n",
            "\n",
            "Matplotlib is currently using module://matplotlib_inline.backend_inline, which is a non-GUI backend, so cannot show the figure.\n",
            "\n"
          ]
        },
        {
          "data": {
            "image/png": "[encoded data removed]",
            "text/plain": [
              "<Figure size 1000x1000 with 4 Axes>"
            ]
          },
          "metadata": {},
          "output_type": "display_data"
        }
      ],
      "source": [
        "sns.set_theme(style=\"ticks\")\n",
        "fig, axes = plt.subplots(2, 2 ,sharex=True, figsize=(10,10))\n",
        "\n",
        "sns.boxplot(ax=axes[0,0], data=norm.sort_values(by='year') , x='year', y='x_bar')\n",
        "axes[0,0].set_title('Normal')\n",
        "\n",
        "sns.violinplot(ax=axes[0,1] , data=norm.sort_values(by='year') , x='year', y='x_bar')\n",
        "axes[0,1].set_title('Normal')\n",
        "\n",
        "sns.boxplot(ax=axes[1,0] , data=cov.sort_values(by='year') , x='year', y='x_bar')\n",
        "axes[1,0].set_title('Covid')\n",
        "\n",
        "sns.violinplot(ax=axes[1,1] , data=cov.sort_values(by='year') , x='year', y='x_bar')\n",
        "axes[1,1].set_title('Covid')\n",
        "\n",
        "fig.show()\n",
        "\n"
      ]
    },
    {
      "cell_type": "markdown",
      "metadata": {
        "id": "r6XA9MuXGb74"
      },
      "source": [
        "1. ใช้ libary seaborn\n",
        "2. สร้าง subplot ให้มี 2 แถว 2 คอลัมน์ และกำหนดขนาด\n",
        "3. สร้าง boxplot ในแถวที่ 1 คอลัมน์ที่ 1 โดยอิงข้อมูลจาก norm ที่เรียงตามปี กำหนดแกน x เป็นปี แกน y เป็น x_bar และกำหนดชื่อเป็น Normal ซึ่งก็คือแสดงถึงภาวะปกติ\n",
        "4. สร้าง violin plot ในแถวที่ 1 คอลัมน์ที 2 โดยอิงข้อมูลจาก norm ที่เรียงตามปี กำหนดแกน x เป็นปี แกน y เป็น x_bar และกำหนดชื่อเป็น Normal ซึ่งก็คือแสดงถึงภาวะปกติ\n",
        "5. สร้าง boxplot ในแถวที่ 2 คอลัมน์ที่ 1 โดยอิงข้อมูลจาก cov ที่เรียงตามปี กำหนดแกน x เป็นปี แกน y เป็น x_bar และกำหนดชื่อเป็น Covid ซึ่งก็คือแสดงถึงภาวะโควิด\n",
        "6. สร้าง violin plot ในแถวที่ 2 คอลัมน์ที 2 โดยอิงข้อมูลจาก cov ที่เรียงตามปี กำหนดแกน x เป็นปี แกน y เป็น x_bar และกำหนดชื่อเป็น Covid ซึ่งก็คือแสดงถึงภาวะโควิด\n"
      ]
    },
    {
      "cell_type": "code",
      "execution_count": 9,
      "metadata": {
        "colab": {
          "base_uri": "https://localhost:8080/",
          "height": 473
        },
        "id": "A2sgV3IP1PwY",
        "outputId": "732a2481-5033-4eaf-8692-637bc18eed29"
      },
      "outputs": [
        {
          "data": {
            "text/html": [
              "<div>\n",
              "<style scoped>\n",
              "    .dataframe tbody tr th:only-of-type {\n",
              "        vertical-align: middle;\n",
              "    }\n",
              "\n",
              "    .dataframe tbody tr th {\n",
              "        vertical-align: top;\n",
              "    }\n",
              "\n",
              "    .dataframe thead th {\n",
              "        text-align: right;\n",
              "    }\n",
              "</style>\n",
              "<table border=\"1\" class=\"dataframe\">\n",
              "  <thead>\n",
              "    <tr style=\"text-align: right;\">\n",
              "      <th></th>\n",
              "      <th></th>\n",
              "      <th></th>\n",
              "      <th></th>\n",
              "      <th></th>\n",
              "      <th>x_bar</th>\n",
              "    </tr>\n",
              "    <tr>\n",
              "      <th>situation</th>\n",
              "      <th>year</th>\n",
              "      <th>subject</th>\n",
              "      <th>topic</th>\n",
              "      <th>ข้อคำถาม</th>\n",
              "      <th></th>\n",
              "    </tr>\n",
              "  </thead>\n",
              "  <tbody>\n",
              "    <tr>\n",
              "      <th>covid</th>\n",
              "      <th>2564</th>\n",
              "      <th>YRY790</th>\n",
              "      <th>ส่วนที่ 1 ข้อคำถามกลางของมหาวิทยาลัย</th>\n",
              "      <th>ผู้สอนอธิบายชัดเจน ตรงประเด็น มีการยกตัวอย่างประกอบให้เข้าใจง่าย และมีการใช้สื่อการสอนที่สามารถเชื่อมโยงกับเนื้อหาที่สอนให้ผู้เรียนเกิดการเรียนรู้ได้ดีขึ้น</th>\n",
              "      <td>3.64</td>\n",
              "    </tr>\n",
              "    <tr>\n",
              "      <th rowspan=\"9\" valign=\"top\">normal</th>\n",
              "      <th>2561</th>\n",
              "      <th>YRY790</th>\n",
              "      <th>ส่วนที่ 1 ข้อคำถามกลางของมหาวิทยาลัย</th>\n",
              "      <th>กระตุ้นบรรยากาศการเรียนการสอน มีวิธีสอนที่น่าสนใจและน่าติดตาม</th>\n",
              "      <td>3.14</td>\n",
              "    </tr>\n",
              "    <tr>\n",
              "      <th>2562</th>\n",
              "      <th>FGL497</th>\n",
              "      <th>ส่วนที่ 3 สภาพแวดล้อมและสิ่งสนับสนุนการเรียนรู้</th>\n",
              "      <th>สภาพของห้องเรียนหรือห้องปฏิบัติการ เช่น แสง อุณหภูมิ โต๊ะ เก้าอี้ จุดเชื่อมต่ออินเตอร์เน็ตไร้สายบริการ ฯลฯ มีความเหมาะสมและคุณภาพพร้อมใช้งาน</th>\n",
              "      <td>3.17</td>\n",
              "    </tr>\n",
              "    <tr>\n",
              "      <th rowspan=\"7\" valign=\"top\">2563</th>\n",
              "      <th rowspan=\"7\" valign=\"top\">YRY790</th>\n",
              "      <th rowspan=\"5\" valign=\"top\">ส่วนที่ 1 ข้อคำถามกลางของมหาวิทยาลัย</th>\n",
              "      <th>กระตุ้นบรรยากาศการเรียนการสอน มีวิธีสอนที่น่าสนใจและน่าติดตาม</th>\n",
              "      <td>3.13</td>\n",
              "    </tr>\n",
              "    <tr>\n",
              "      <th>ทำให้เห็นความสัมพันธ์กับวิชาอื่นที่เกี่ยวข้อง</th>\n",
              "      <td>3.38</td>\n",
              "    </tr>\n",
              "    <tr>\n",
              "      <th>สอนให้คิด วิเคราะห์ วิจารณ์</th>\n",
              "      <td>3.38</td>\n",
              "    </tr>\n",
              "    <tr>\n",
              "      <th>แนะนำแหล่งค้นคว้าข้อมูลเพิ่มเติมให้</th>\n",
              "      <td>2.88</td>\n",
              "    </tr>\n",
              "    <tr>\n",
              "      <th>ใช้สื่อและอุปกรณ์ช่วยสอนได้ดี</th>\n",
              "      <td>3.50</td>\n",
              "    </tr>\n",
              "    <tr>\n",
              "      <th rowspan=\"2\" valign=\"top\">ส่วนที่ 2 ข้อคำถามของคณะ/หน่วยงาน</th>\n",
              "      <th>ผู้สอนชี้แนะจุดมุ่งหมายประเด็นหรือข้อสรุปที่เป็นเนื้อหาสาระสำคัญ</th>\n",
              "      <td>3.38</td>\n",
              "    </tr>\n",
              "    <tr>\n",
              "      <th>ผู้สอนแทรกเนื้อหาเกี่ยวกับคุณธรรมจริยธรรมในการเรียนการสอน</th>\n",
              "      <td>3.50</td>\n",
              "    </tr>\n",
              "  </tbody>\n",
              "</table>\n",
              "</div>"
            ],
            "text/plain": [
              "                                                                                                                           x_bar\n",
              "situation year subject topic                                           ข้อคำถาม                                                 \n",
              "covid     2564 YRY790  ส่วนที่ 1 ข้อคำถามกลางของมหาวิทยาลัย            ผู้สอนอธิบายชัดเจน ตรงประเด็น มีการยกตัวอย่างปร...   3.64\n",
              "normal    2561 YRY790  ส่วนที่ 1 ข้อคำถามกลางของมหาวิทยาลัย            กระตุ้นบรรยากาศการเรียนการสอน มีวิธีสอนที่น่าสน...   3.14\n",
              "          2562 FGL497  ส่วนที่ 3 สภาพแวดล้อมและสิ่งสนับสนุนการเรียนรู้ สภาพของห้องเรียนหรือห้องปฏิบัติการ เช่น แสง อุณ...   3.17\n",
              "          2563 YRY790  ส่วนที่ 1 ข้อคำถามกลางของมหาวิทยาลัย            กระตุ้นบรรยากาศการเรียนการสอน มีวิธีสอนที่น่าสน...   3.13\n",
              "                                                                       ทำให้เห็นความสัมพันธ์กับวิชาอื่นที่เกี่ยวข้อง        3.38\n",
              "                                                                       สอนให้คิด วิเคราะห์ วิจารณ์                          3.38\n",
              "                                                                       แนะนำแหล่งค้นคว้าข้อมูลเพิ่มเติมให้                  2.88\n",
              "                                                                       ใช้สื่อและอุปกรณ์ช่วยสอนได้ดี                        3.50\n",
              "                       ส่วนที่ 2 ข้อคำถามของคณะ/หน่วยงาน               ผู้สอนชี้แนะจุดมุ่งหมายประเด็นหรือข้อสรุปที่เป็...   3.38\n",
              "                                                                       ผู้สอนแทรกเนื้อหาเกี่ยวกับคุณธรรมจริยธรรมในการเ...   3.50"
            ]
          },
          "execution_count": 9,
          "metadata": {},
          "output_type": "execute_result"
        }
      ],
      "source": [
        "outliners = []\n",
        "for sit in [cov,norm]:\n",
        "    for year in sorted(sit['year'].unique()): \n",
        "        q3 = sit.loc[(sit['year'] == year) , 'x_bar'].quantile(0.75) \n",
        "        q1 = sit.loc[(sit['year'] == year) , 'x_bar'].quantile(0.25)\n",
        "        iqr = q3 - q1\n",
        "        outline = sit[(sit['year'] == year)&((sit['x_bar'] > q3 + (1.5 * iqr)) | (sit['x_bar'] < q1 - (1.5 *iqr))) ]\n",
        "        outliners.append(outline)\n",
        "outliner  = pd.concat(outliners)\n",
        "outliner.pivot_table(index=['situation','year', 'subject','topic','ข้อคำถาม'], values='x_bar' )"
      ]
    },
    {
      "cell_type": "markdown",
      "metadata": {
        "id": "Q7jYiHTbGxaY"
      },
      "source": [
        "\n",
        "\n",
        "1. สร้างตัวแปร subplot ให้มี 1 แถว 2 คอลัมน์\n",
        "2. plot แผนภาพกล่องลงไปโดยแบ่งตามสถานการณ์ และ ใช้แกน x เป็นปี\n",
        "3. หาค่า x-bar ที่มากกว่า หรือ น้อยกว่า1.5เท่าของพิสัยระหว่างควอไทล์  ในแต่ละสถานการณ์ ในแต่ละปี และนำมารวมกัน\n",
        "4. สร้าง pivot table เพื่อแสดงข้อมูลเกี่ยวกับ ค่านอกเกณฑ์ที่เจอ\n"
      ]
    },
    {
      "cell_type": "markdown",
      "metadata": {
        "id": "eLz-3Md4KMHw"
      },
      "source": [
        "**สาเหตุ**\n",
        "* เพื่อดูว่ารายวิชาไหนคะแนนเฉลี่ยเป็นค่านอกเกณฑ์จากรายวิชาอื่นๆในแต่ละปี/สถานการณ์\n",
        "* เพื่อหา และ แสดงสาเหตุของค่านอกเกณฑ์นั้นๆ "
      ]
    },
    {
      "cell_type": "code",
      "execution_count": 10,
      "metadata": {
        "id": "w3v5AkCe_ipt"
      },
      "outputs": [],
      "source": [
        "def pvt(data , year) :   \n",
        "    pvt = data.pivot_table(index = ['year' , 'sem', \"subject\" ] , values= 'x_bar' , aggfunc= 'mean').reset_index()\n",
        "    pvt.loc[pvt['year'] == year ,'diff']  =  pvt.loc[pvt['year'] == year ,'x_bar']  - pvt.loc[pvt['year'] == year ,'x_bar'].mean() \n",
        "    pvt['color'] = \"\"\n",
        "    ind = 0\n",
        "    for i in pvt['diff']  :\n",
        "        if i > 0 :\n",
        "            pvt.iloc[ind , 5] = 'green'\n",
        "            ind += 1\n",
        "        else: \n",
        "            pvt.iloc[ind , 5] = 'red'\n",
        "            ind+=1\n",
        "    pvt[\"dec\"] = pvt['diff'].round(3)\n",
        "    pvt[\"mean\"] = pvt.loc[pvt['year'] == year ,'x_bar'].mean() \n",
        "    return pvt[pvt['year'] == year]"
      ]
    },
    {
      "cell_type": "markdown",
      "metadata": {
        "id": "sSlPUM9aL4cF"
      },
      "source": [
        "1. สร้างฟังก์ชั่น pvt โดยรับพารามิเตอร์จาก data และ year\n",
        "2. กำหนดตัวแปร pvt เพื่อสร้าง pivot_table ที่อิงข้อมูลจากตารางใน data โดยกำหนด dimension values คือ year, sem, subject  measurement value คือ x_bar แล้วหาค่าเฉลี่ย\n",
        "3.หาผลต่างระหว่างค่าเฉลี่ยของปีนั้นกับค่าเฉลี่ยของแต่ละวิชาแล้วเก็บไว้ในตัวแปร diff \n",
        "4. สร้าง coloum color ที่เป็น Nan และ กำหนดตัวแปร ind = 0\n",
        "5. สร้าง for loop ในการ loop แต่ละครั้งถ้าค่า diff มากว่าก 0 จะให้ column color = green แต่ถ้าน้อยกว่า 0 จะให้ coloum color = red และในการ loop แต่ละครั้ง ind จะเพิ่มทีละ 1 เรื่อยๆ เพื่อเปลี่ยนทีละ row\n",
        "6. ใช้ฟังก์ชั่น round ปัดทศนิยมให้เหลือ 3 ตำแหน่ง\n",
        "\n"
      ]
    },
    {
      "cell_type": "code",
      "execution_count": 11,
      "metadata": {
        "colab": {
          "base_uri": "https://localhost:8080/",
          "height": 1000
        },
        "id": "-8TENjzk_kk9",
        "outputId": "38bf3abd-b780-411b-a2b1-9edf39f28a98"
      },
      "outputs": [
        {
          "data": {
            "application/vnd.plotly.v1+json": {
              "config": {
                "plotlyServerURL": "https://plot.ly"
              },
              "data": [
                {
                  "marker": {
                    "color": []
                  },
                  "text": [],
                  "textposition": "auto",
                  "type": "bar",
                  "x": [],
                  "xaxis": "x5",
                  "y": [],
                  "yaxis": "y5"
                },
                {
                  "marker": {
                    "color": [
                      "red"
                    ]
                  },
                  "text": [
                    0
                  ],
                  "textposition": "auto",
                  "type": "bar",
                  "x": [
                    "FGL497"
                  ],
                  "xaxis": "x6",
                  "y": [
                    0
                  ],
                  "yaxis": "y6"
                },
                {
                  "marker": {
                    "color": [
                      "red",
                      "red",
                      "green"
                    ]
                  },
                  "text": [
                    -0.056,
                    -0.03,
                    0.086
                  ],
                  "textposition": "auto",
                  "type": "bar",
                  "x": [
                    "AZW892",
                    "FGL497",
                    "NVI781"
                  ],
                  "xaxis": "x7",
                  "y": [
                    -0.05638888888888882,
                    -0.029722222222222427,
                    0.08611111111111125
                  ],
                  "yaxis": "y7"
                },
                {
                  "marker": {
                    "color": [
                      "red",
                      "green",
                      "green",
                      "green",
                      "red",
                      "green",
                      "red"
                    ]
                  },
                  "text": [
                    -0.139,
                    0.098,
                    0.213,
                    0.436,
                    -0.526,
                    0.143,
                    -0.225
                  ],
                  "textposition": "auto",
                  "type": "bar",
                  "x": [
                    "DRI970",
                    "NVI781",
                    "NYE553",
                    "XCM602",
                    "YRY790",
                    "AZW892",
                    "FGL497"
                  ],
                  "xaxis": "x8",
                  "y": [
                    -0.1385714285714288,
                    0.09767857142857128,
                    0.2126785714285715,
                    0.4364285714285714,
                    -0.526071428571429,
                    0.1426785714285712,
                    -0.2248214285714285
                  ],
                  "yaxis": "y8"
                },
                {
                  "marker": {
                    "color": [
                      "green",
                      "red"
                    ]
                  },
                  "text": [
                    0.204,
                    -0.204
                  ],
                  "textposition": "auto",
                  "type": "bar",
                  "x": [
                    "NVI781",
                    "YRY790"
                  ],
                  "xaxis": "x",
                  "y": [
                    0.20400000000000063,
                    -0.20399999999999974
                  ],
                  "yaxis": "y"
                },
                {
                  "marker": {
                    "color": [
                      "red",
                      "green"
                    ]
                  },
                  "text": [
                    -0.125,
                    0.125
                  ],
                  "textposition": "auto",
                  "type": "bar",
                  "x": [
                    "FGL497",
                    "YRY790"
                  ],
                  "xaxis": "x2",
                  "y": [
                    -0.125,
                    0.125
                  ],
                  "yaxis": "y2"
                },
                {
                  "marker": {
                    "color": [
                      "green",
                      "green",
                      "red"
                    ]
                  },
                  "text": [
                    0.277,
                    0.129,
                    -0.405
                  ],
                  "textposition": "auto",
                  "type": "bar",
                  "x": [
                    "DRI970",
                    "NYE553",
                    "YRY790"
                  ],
                  "xaxis": "x3",
                  "y": [
                    0.27683333333333415,
                    0.12858333333333327,
                    -0.40541666666666654
                  ],
                  "yaxis": "y3"
                },
                {
                  "marker": {
                    "color": []
                  },
                  "text": [],
                  "textposition": "auto",
                  "type": "bar",
                  "x": [],
                  "xaxis": "x4",
                  "y": [],
                  "yaxis": "y4"
                }
              ],
              "layout": {
                "annotations": [
                  {
                    "font": {
                      "size": 16
                    },
                    "showarrow": false,
                    "text": "Mean : 4.246",
                    "x": 0.10625,
                    "xanchor": "center",
                    "xref": "paper",
                    "y": 1,
                    "yanchor": "bottom",
                    "yref": "paper"
                  },
                  {
                    "font": {
                      "size": 16
                    },
                    "showarrow": false,
                    "text": "Mean : 4.316",
                    "x": 0.36875,
                    "xanchor": "center",
                    "xref": "paper",
                    "y": 1,
                    "yanchor": "bottom",
                    "yref": "paper"
                  },
                  {
                    "font": {
                      "size": 16
                    },
                    "showarrow": false,
                    "text": "Mean : 4.223",
                    "x": 0.6312500000000001,
                    "xanchor": "center",
                    "xref": "paper",
                    "y": 1,
                    "yanchor": "bottom",
                    "yref": "paper"
                  },
                  {
                    "font": {
                      "size": 16
                    },
                    "showarrow": false,
                    "text": "Mean : 4.431",
                    "x": 0.6312500000000001,
                    "xanchor": "center",
                    "xref": "paper",
                    "y": 0.375,
                    "yanchor": "bottom",
                    "yref": "paper"
                  },
                  {
                    "font": {
                      "size": 16
                    },
                    "showarrow": false,
                    "text": "Mean : 4.563",
                    "x": 0.89375,
                    "xanchor": "center",
                    "xref": "paper",
                    "y": 0.375,
                    "yanchor": "bottom",
                    "yref": "paper"
                  }
                ],
                "font": {
                  "size": 18
                },
                "height": 1000,
                "showlegend": false,
                "template": {
                  "data": {
                    "bar": [
                      {
                        "error_x": {
                          "color": "#2a3f5f"
                        },
                        "error_y": {
                          "color": "#2a3f5f"
                        },
                        "marker": {
                          "line": {
                            "color": "#E5ECF6",
                            "width": 0.5
                          },
                          "pattern": {
                            "fillmode": "overlay",
                            "size": 10,
                            "solidity": 0.2
                          }
                        },
                        "type": "bar"
                      }
                    ],
                    "barpolar": [
                      {
                        "marker": {
                          "line": {
                            "color": "#E5ECF6",
                            "width": 0.5
                          },
                          "pattern": {
                            "fillmode": "overlay",
                            "size": 10,
                            "solidity": 0.2
                          }
                        },
                        "type": "barpolar"
                      }
                    ],
                    "carpet": [
                      {
                        "aaxis": {
                          "endlinecolor": "#2a3f5f",
                          "gridcolor": "white",
                          "linecolor": "white",
                          "minorgridcolor": "white",
                          "startlinecolor": "#2a3f5f"
                        },
                        "baxis": {
                          "endlinecolor": "#2a3f5f",
                          "gridcolor": "white",
                          "linecolor": "white",
                          "minorgridcolor": "white",
                          "startlinecolor": "#2a3f5f"
                        },
                        "type": "carpet"
                      }
                    ],
                    "choropleth": [
                      {
                        "colorbar": {
                          "outlinewidth": 0,
                          "ticks": ""
                        },
                        "type": "choropleth"
                      }
                    ],
                    "contour": [
                      {
                        "colorbar": {
                          "outlinewidth": 0,
                          "ticks": ""
                        },
                        "colorscale": [
                          [
                            0,
                            "#0d0887"
                          ],
                          [
                            0.1111111111111111,
                            "#46039f"
                          ],
                          [
                            0.2222222222222222,
                            "#7201a8"
                          ],
                          [
                            0.3333333333333333,
                            "#9c179e"
                          ],
                          [
                            0.4444444444444444,
                            "#bd3786"
                          ],
                          [
                            0.5555555555555556,
                            "#d8576b"
                          ],
                          [
                            0.6666666666666666,
                            "#ed7953"
                          ],
                          [
                            0.7777777777777778,
                            "#fb9f3a"
                          ],
                          [
                            0.8888888888888888,
                            "#fdca26"
                          ],
                          [
                            1,
                            "#f0f921"
                          ]
                        ],
                        "type": "contour"
                      }
                    ],
                    "contourcarpet": [
                      {
                        "colorbar": {
                          "outlinewidth": 0,
                          "ticks": ""
                        },
                        "type": "contourcarpet"
                      }
                    ],
                    "heatmap": [
                      {
                        "colorbar": {
                          "outlinewidth": 0,
                          "ticks": ""
                        },
                        "colorscale": [
                          [
                            0,
                            "#0d0887"
                          ],
                          [
                            0.1111111111111111,
                            "#46039f"
                          ],
                          [
                            0.2222222222222222,
                            "#7201a8"
                          ],
                          [
                            0.3333333333333333,
                            "#9c179e"
                          ],
                          [
                            0.4444444444444444,
                            "#bd3786"
                          ],
                          [
                            0.5555555555555556,
                            "#d8576b"
                          ],
                          [
                            0.6666666666666666,
                            "#ed7953"
                          ],
                          [
                            0.7777777777777778,
                            "#fb9f3a"
                          ],
                          [
                            0.8888888888888888,
                            "#fdca26"
                          ],
                          [
                            1,
                            "#f0f921"
                          ]
                        ],
                        "type": "heatmap"
                      }
                    ],
                    "heatmapgl": [
                      {
                        "colorbar": {
                          "outlinewidth": 0,
                          "ticks": ""
                        },
                        "colorscale": [
                          [
                            0,
                            "#0d0887"
                          ],
                          [
                            0.1111111111111111,
                            "#46039f"
                          ],
                          [
                            0.2222222222222222,
                            "#7201a8"
                          ],
                          [
                            0.3333333333333333,
                            "#9c179e"
                          ],
                          [
                            0.4444444444444444,
                            "#bd3786"
                          ],
                          [
                            0.5555555555555556,
                            "#d8576b"
                          ],
                          [
                            0.6666666666666666,
                            "#ed7953"
                          ],
                          [
                            0.7777777777777778,
                            "#fb9f3a"
                          ],
                          [
                            0.8888888888888888,
                            "#fdca26"
                          ],
                          [
                            1,
                            "#f0f921"
                          ]
                        ],
                        "type": "heatmapgl"
                      }
                    ],
                    "histogram": [
                      {
                        "marker": {
                          "pattern": {
                            "fillmode": "overlay",
                            "size": 10,
                            "solidity": 0.2
                          }
                        },
                        "type": "histogram"
                      }
                    ],
                    "histogram2d": [
                      {
                        "colorbar": {
                          "outlinewidth": 0,
                          "ticks": ""
                        },
                        "colorscale": [
                          [
                            0,
                            "#0d0887"
                          ],
                          [
                            0.1111111111111111,
                            "#46039f"
                          ],
                          [
                            0.2222222222222222,
                            "#7201a8"
                          ],
                          [
                            0.3333333333333333,
                            "#9c179e"
                          ],
                          [
                            0.4444444444444444,
                            "#bd3786"
                          ],
                          [
                            0.5555555555555556,
                            "#d8576b"
                          ],
                          [
                            0.6666666666666666,
                            "#ed7953"
                          ],
                          [
                            0.7777777777777778,
                            "#fb9f3a"
                          ],
                          [
                            0.8888888888888888,
                            "#fdca26"
                          ],
                          [
                            1,
                            "#f0f921"
                          ]
                        ],
                        "type": "histogram2d"
                      }
                    ],
                    "histogram2dcontour": [
                      {
                        "colorbar": {
                          "outlinewidth": 0,
                          "ticks": ""
                        },
                        "colorscale": [
                          [
                            0,
                            "#0d0887"
                          ],
                          [
                            0.1111111111111111,
                            "#46039f"
                          ],
                          [
                            0.2222222222222222,
                            "#7201a8"
                          ],
                          [
                            0.3333333333333333,
                            "#9c179e"
                          ],
                          [
                            0.4444444444444444,
                            "#bd3786"
                          ],
                          [
                            0.5555555555555556,
                            "#d8576b"
                          ],
                          [
                            0.6666666666666666,
                            "#ed7953"
                          ],
                          [
                            0.7777777777777778,
                            "#fb9f3a"
                          ],
                          [
                            0.8888888888888888,
                            "#fdca26"
                          ],
                          [
                            1,
                            "#f0f921"
                          ]
                        ],
                        "type": "histogram2dcontour"
                      }
                    ],
                    "mesh3d": [
                      {
                        "colorbar": {
                          "outlinewidth": 0,
                          "ticks": ""
                        },
                        "type": "mesh3d"
                      }
                    ],
                    "parcoords": [
                      {
                        "line": {
                          "colorbar": {
                            "outlinewidth": 0,
                            "ticks": ""
                          }
                        },
                        "type": "parcoords"
                      }
                    ],
                    "pie": [
                      {
                        "automargin": true,
                        "type": "pie"
                      }
                    ],
                    "scatter": [
                      {
                        "fillpattern": {
                          "fillmode": "overlay",
                          "size": 10,
                          "solidity": 0.2
                        },
                        "type": "scatter"
                      }
                    ],
                    "scatter3d": [
                      {
                        "line": {
                          "colorbar": {
                            "outlinewidth": 0,
                            "ticks": ""
                          }
                        },
                        "marker": {
                          "colorbar": {
                            "outlinewidth": 0,
                            "ticks": ""
                          }
                        },
                        "type": "scatter3d"
                      }
                    ],
                    "scattercarpet": [
                      {
                        "marker": {
                          "colorbar": {
                            "outlinewidth": 0,
                            "ticks": ""
                          }
                        },
                        "type": "scattercarpet"
                      }
                    ],
                    "scattergeo": [
                      {
                        "marker": {
                          "colorbar": {
                            "outlinewidth": 0,
                            "ticks": ""
                          }
                        },
                        "type": "scattergeo"
                      }
                    ],
                    "scattergl": [
                      {
                        "marker": {
                          "colorbar": {
                            "outlinewidth": 0,
                            "ticks": ""
                          }
                        },
                        "type": "scattergl"
                      }
                    ],
                    "scattermapbox": [
                      {
                        "marker": {
                          "colorbar": {
                            "outlinewidth": 0,
                            "ticks": ""
                          }
                        },
                        "type": "scattermapbox"
                      }
                    ],
                    "scatterpolar": [
                      {
                        "marker": {
                          "colorbar": {
                            "outlinewidth": 0,
                            "ticks": ""
                          }
                        },
                        "type": "scatterpolar"
                      }
                    ],
                    "scatterpolargl": [
                      {
                        "marker": {
                          "colorbar": {
                            "outlinewidth": 0,
                            "ticks": ""
                          }
                        },
                        "type": "scatterpolargl"
                      }
                    ],
                    "scatterternary": [
                      {
                        "marker": {
                          "colorbar": {
                            "outlinewidth": 0,
                            "ticks": ""
                          }
                        },
                        "type": "scatterternary"
                      }
                    ],
                    "surface": [
                      {
                        "colorbar": {
                          "outlinewidth": 0,
                          "ticks": ""
                        },
                        "colorscale": [
                          [
                            0,
                            "#0d0887"
                          ],
                          [
                            0.1111111111111111,
                            "#46039f"
                          ],
                          [
                            0.2222222222222222,
                            "#7201a8"
                          ],
                          [
                            0.3333333333333333,
                            "#9c179e"
                          ],
                          [
                            0.4444444444444444,
                            "#bd3786"
                          ],
                          [
                            0.5555555555555556,
                            "#d8576b"
                          ],
                          [
                            0.6666666666666666,
                            "#ed7953"
                          ],
                          [
                            0.7777777777777778,
                            "#fb9f3a"
                          ],
                          [
                            0.8888888888888888,
                            "#fdca26"
                          ],
                          [
                            1,
                            "#f0f921"
                          ]
                        ],
                        "type": "surface"
                      }
                    ],
                    "table": [
                      {
                        "cells": {
                          "fill": {
                            "color": "#EBF0F8"
                          },
                          "line": {
                            "color": "white"
                          }
                        },
                        "header": {
                          "fill": {
                            "color": "#C8D4E3"
                          },
                          "line": {
                            "color": "white"
                          }
                        },
                        "type": "table"
                      }
                    ]
                  },
                  "layout": {
                    "annotationdefaults": {
                      "arrowcolor": "#2a3f5f",
                      "arrowhead": 0,
                      "arrowwidth": 1
                    },
                    "autotypenumbers": "strict",
                    "coloraxis": {
                      "colorbar": {
                        "outlinewidth": 0,
                        "ticks": ""
                      }
                    },
                    "colorscale": {
                      "diverging": [
                        [
                          0,
                          "#8e0152"
                        ],
                        [
                          0.1,
                          "#c51b7d"
                        ],
                        [
                          0.2,
                          "#de77ae"
                        ],
                        [
                          0.3,
                          "#f1b6da"
                        ],
                        [
                          0.4,
                          "#fde0ef"
                        ],
                        [
                          0.5,
                          "#f7f7f7"
                        ],
                        [
                          0.6,
                          "#e6f5d0"
                        ],
                        [
                          0.7,
                          "#b8e186"
                        ],
                        [
                          0.8,
                          "#7fbc41"
                        ],
                        [
                          0.9,
                          "#4d9221"
                        ],
                        [
                          1,
                          "#276419"
                        ]
                      ],
                      "sequential": [
                        [
                          0,
                          "#0d0887"
                        ],
                        [
                          0.1111111111111111,
                          "#46039f"
                        ],
                        [
                          0.2222222222222222,
                          "#7201a8"
                        ],
                        [
                          0.3333333333333333,
                          "#9c179e"
                        ],
                        [
                          0.4444444444444444,
                          "#bd3786"
                        ],
                        [
                          0.5555555555555556,
                          "#d8576b"
                        ],
                        [
                          0.6666666666666666,
                          "#ed7953"
                        ],
                        [
                          0.7777777777777778,
                          "#fb9f3a"
                        ],
                        [
                          0.8888888888888888,
                          "#fdca26"
                        ],
                        [
                          1,
                          "#f0f921"
                        ]
                      ],
                      "sequentialminus": [
                        [
                          0,
                          "#0d0887"
                        ],
                        [
                          0.1111111111111111,
                          "#46039f"
                        ],
                        [
                          0.2222222222222222,
                          "#7201a8"
                        ],
                        [
                          0.3333333333333333,
                          "#9c179e"
                        ],
                        [
                          0.4444444444444444,
                          "#bd3786"
                        ],
                        [
                          0.5555555555555556,
                          "#d8576b"
                        ],
                        [
                          0.6666666666666666,
                          "#ed7953"
                        ],
                        [
                          0.7777777777777778,
                          "#fb9f3a"
                        ],
                        [
                          0.8888888888888888,
                          "#fdca26"
                        ],
                        [
                          1,
                          "#f0f921"
                        ]
                      ]
                    },
                    "colorway": [
                      "#636efa",
                      "#EF553B",
                      "#00cc96",
                      "#ab63fa",
                      "#FFA15A",
                      "#19d3f3",
                      "#FF6692",
                      "#B6E880",
                      "#FF97FF",
                      "#FECB52"
                    ],
                    "font": {
                      "color": "#2a3f5f"
                    },
                    "geo": {
                      "bgcolor": "white",
                      "lakecolor": "white",
                      "landcolor": "#E5ECF6",
                      "showlakes": true,
                      "showland": true,
                      "subunitcolor": "white"
                    },
                    "hoverlabel": {
                      "align": "left"
                    },
                    "hovermode": "closest",
                    "mapbox": {
                      "style": "light"
                    },
                    "paper_bgcolor": "white",
                    "plot_bgcolor": "#E5ECF6",
                    "polar": {
                      "angularaxis": {
                        "gridcolor": "white",
                        "linecolor": "white",
                        "ticks": ""
                      },
                      "bgcolor": "#E5ECF6",
                      "radialaxis": {
                        "gridcolor": "white",
                        "linecolor": "white",
                        "ticks": ""
                      }
                    },
                    "scene": {
                      "xaxis": {
                        "backgroundcolor": "#E5ECF6",
                        "gridcolor": "white",
                        "gridwidth": 2,
                        "linecolor": "white",
                        "showbackground": true,
                        "ticks": "",
                        "zerolinecolor": "white"
                      },
                      "yaxis": {
                        "backgroundcolor": "#E5ECF6",
                        "gridcolor": "white",
                        "gridwidth": 2,
                        "linecolor": "white",
                        "showbackground": true,
                        "ticks": "",
                        "zerolinecolor": "white"
                      },
                      "zaxis": {
                        "backgroundcolor": "#E5ECF6",
                        "gridcolor": "white",
                        "gridwidth": 2,
                        "linecolor": "white",
                        "showbackground": true,
                        "ticks": "",
                        "zerolinecolor": "white"
                      }
                    },
                    "shapedefaults": {
                      "line": {
                        "color": "#2a3f5f"
                      }
                    },
                    "ternary": {
                      "aaxis": {
                        "gridcolor": "white",
                        "linecolor": "white",
                        "ticks": ""
                      },
                      "baxis": {
                        "gridcolor": "white",
                        "linecolor": "white",
                        "ticks": ""
                      },
                      "bgcolor": "#E5ECF6",
                      "caxis": {
                        "gridcolor": "white",
                        "linecolor": "white",
                        "ticks": ""
                      }
                    },
                    "title": {
                      "x": 0.05
                    },
                    "xaxis": {
                      "automargin": true,
                      "gridcolor": "white",
                      "linecolor": "white",
                      "ticks": "",
                      "title": {
                        "standoff": 15
                      },
                      "zerolinecolor": "white",
                      "zerolinewidth": 2
                    },
                    "yaxis": {
                      "automargin": true,
                      "gridcolor": "white",
                      "linecolor": "white",
                      "ticks": "",
                      "title": {
                        "standoff": 15
                      },
                      "zerolinecolor": "white",
                      "zerolinewidth": 2
                    }
                  }
                },
                "title": {
                  "text": "Difference From Mean"
                },
                "width": 2000,
                "xaxis": {
                  "anchor": "y",
                  "domain": [
                    0,
                    0.2125
                  ]
                },
                "xaxis2": {
                  "anchor": "y2",
                  "domain": [
                    0.2625,
                    0.475
                  ]
                },
                "xaxis3": {
                  "anchor": "y3",
                  "domain": [
                    0.525,
                    0.7375
                  ]
                },
                "xaxis4": {
                  "anchor": "y4",
                  "domain": [
                    0.7875,
                    1
                  ]
                },
                "xaxis5": {
                  "anchor": "y5",
                  "domain": [
                    0,
                    0.2125
                  ],
                  "title": {
                    "text": "2561"
                  }
                },
                "xaxis6": {
                  "anchor": "y6",
                  "domain": [
                    0.2625,
                    0.475
                  ],
                  "title": {
                    "text": "2562"
                  }
                },
                "xaxis7": {
                  "anchor": "y7",
                  "domain": [
                    0.525,
                    0.7375
                  ],
                  "title": {
                    "text": "2563"
                  }
                },
                "xaxis8": {
                  "anchor": "y8",
                  "domain": [
                    0.7875,
                    1
                  ],
                  "title": {
                    "text": "2564"
                  }
                },
                "yaxis": {
                  "anchor": "x",
                  "domain": [
                    0.625,
                    1
                  ],
                  "title": {
                    "text": "Normal"
                  }
                },
                "yaxis2": {
                  "anchor": "x2",
                  "domain": [
                    0.625,
                    1
                  ]
                },
                "yaxis3": {
                  "anchor": "x3",
                  "domain": [
                    0.625,
                    1
                  ]
                },
                "yaxis4": {
                  "anchor": "x4",
                  "domain": [
                    0.625,
                    1
                  ]
                },
                "yaxis5": {
                  "anchor": "x5",
                  "domain": [
                    0,
                    0.375
                  ],
                  "title": {
                    "text": "Covid"
                  }
                },
                "yaxis6": {
                  "anchor": "x6",
                  "domain": [
                    0,
                    0.375
                  ]
                },
                "yaxis7": {
                  "anchor": "x7",
                  "domain": [
                    0,
                    0.375
                  ]
                },
                "yaxis8": {
                  "anchor": "x8",
                  "domain": [
                    0,
                    0.375
                  ]
                }
              }
            }
          },
          "metadata": {},
          "output_type": "display_data"
        }
      ],
      "source": [
        "fig = make_subplots(rows=2, cols=4 , subplot_titles= ['Mean : 4.246','Mean : 4.316' , 'Mean : 4.223','','','','Mean : 4.431', 'Mean : 4.563'] )\n",
        "\n",
        "for i in range(1,5):\n",
        "    fig.add_trace(\n",
        "        go.Bar(x=pvt(cov,f'256{i}')['subject'], y= pvt(cov,f'256{i}')['diff'] , marker=  dict(color =pvt(cov,f'256{i}')['color']) , text= pvt(cov,f'256{i}')['dec']  ),\n",
        "        row=2, col=i\n",
        ")\n",
        "\n",
        "for i in range(1,5):\n",
        "    fig.add_trace(\n",
        "        go.Bar(x=pvt(norm,f'256{i}')['subject'], y=pvt(norm,f'256{i}')['diff'] , marker=  dict(color = pvt(norm,f'256{i}')['color']), text= pvt(norm,f'256{i}')['dec']),\n",
        "        row=1, col=i\n",
        "    )\n",
        "\n",
        "for i in range(1,5):\n",
        "    fig.update_xaxes(title_text= f\"256{i}\", row=2, col=i)\n",
        "\n",
        "fig.update_yaxes(title_text= \"Normal\", row=1, col=1)\n",
        "fig.update_yaxes(title_text= \"Covid\"  ,  row=2, col=1  )\n",
        "fig.update_layout(showlegend=False, height=1000, width=2000 ,title_text=\"Difference From Mean\" , font = dict(size = 18))\n",
        "fig.update_traces(textposition='auto')\n",
        "fig.show()\n",
        "\n",
        "\n"
      ]
    },
    {
      "cell_type": "markdown",
      "metadata": {
        "id": "B4N0PphdeDLU"
      },
      "source": [
        "1. กำหนดตัวแปร fig สร้าง subplot โดยมี 2 แถว 4 คอลัมน์ และกำหนดชื่อของแต่ละกราฟ\n",
        "2. สร้าง for loop เพื่อสร้างกราฟแท่งแถวที่ 2 จำนวน 4 กราฟ อิงข้อมูลจาก situation covid โดยในการ loop แต่ละครั้งแกน x จะเป็นวิชาในปีนั้น แกน y จะเป็นผลต่างระหว่างค่าเฉลี่ยของปีนั้นกับค่าเฉลี่ยของวิชาในปีนั้น สีของกราฟแท่งจะขึ้นอยู่กับ coloum color และค่าของ diff จะมีทศนิยม 3 ตำแหน่งตามที่กำหนดไว้ใน dec\n",
        "3. สร้าง for loop เพื่อสร้างกราฟแท่งแถวที่ 1 จำนวน 4 กราฟ อิงข้อมูลจาก situation normal ในการ loop แต่ละครั้งแกน x จะเป็นวิชาในปีนั้น แกน y จะเป็นผลต่างระหว่างค่าเฉลี่ยของปีนั้นกับค่าเฉลี่ยของวิชาในปีนั้น โดยสีของกราฟแท่งจะขึ้นอยู่กับ coloum color และค่าของ diff จะมีทศนิยม 3 ตำแหน่งตามที่กำหนดไว้ใน dec\n",
        "4. สร้าง for loop เพื่อกำหนดชื่อกราฟแต่ละ coloum เป็นปีแต่ละปี\n",
        "5. กำหนดชื่อในแนวแกน y แถวที่ 1 เป็น normal แถวที่ 2 เป็น covid\n",
        "6. กำหนดความสูงและความกว้างของกราฟทุกอัน และกำหนดชื่อกับขนาดฟ้อนต์ของชื่อ subplot"
      ]
    },
    {
      "cell_type": "markdown",
      "metadata": {
        "id": "gm-eRmuJVYhB"
      },
      "source": [
        "**สาเหตุ**\n",
        "* เพื่อแสดงความแตกต่างระหว่าง คะแนนเฉลี่ยต่อปี และ สถานการณ์ กับ คะแนนเฉลี่ยของแต่ละวิชา"
      ]
    },
    {
      "cell_type": "code",
      "execution_count": 12,
      "metadata": {
        "colab": {
          "base_uri": "https://localhost:8080/",
          "height": 1000
        },
        "id": "BxxvXWlvbv4i",
        "outputId": "a928a3b8-9fe6-4cb3-dee0-d72ed3f77ba7"
      },
      "outputs": [
        {
          "data": {
            "application/vnd.plotly.v1+json": {
              "config": {
                "plotlyServerURL": "https://plot.ly"
              },
              "data": [
                {
                  "branchvalues": "total",
                  "customdata": [
                    [
                      3.14,
                      3.14
                    ],
                    [
                      3.13,
                      3.13
                    ],
                    [
                      3.38,
                      3.38
                    ],
                    [
                      3.38,
                      3.38
                    ],
                    [
                      3.64,
                      3.64
                    ],
                    [
                      3.5,
                      3.5
                    ],
                    [
                      3.17,
                      3.17
                    ],
                    [
                      3.38,
                      3.38
                    ],
                    [
                      2.88,
                      2.88
                    ],
                    [
                      3.5,
                      3.5
                    ],
                    [
                      3.14,
                      3.14
                    ],
                    [
                      3.64,
                      3.64
                    ],
                    [
                      3.2692132759680397,
                      3.2692132759680397
                    ],
                    [
                      3.4410465116279068,
                      3.4410465116279068
                    ],
                    [
                      3.17,
                      3.17
                    ],
                    [
                      3.17,
                      3.17
                    ],
                    [
                      3.14,
                      3.14
                    ],
                    [
                      3.64,
                      3.64
                    ],
                    [
                      3.3202807775377967,
                      3.3202807775377967
                    ],
                    [
                      3.17,
                      3.17
                    ],
                    [
                      3.14,
                      3.14
                    ],
                    [
                      3.3202807775377967,
                      3.3202807775377967
                    ],
                    [
                      3.64,
                      3.64
                    ],
                    [
                      3.14,
                      3.14
                    ],
                    [
                      3.17,
                      3.17
                    ],
                    [
                      3.3202807775377967,
                      3.3202807775377967
                    ],
                    [
                      3.64,
                      3.64
                    ],
                    [
                      3.64,
                      3.64
                    ],
                    [
                      3.2848947725729802,
                      3.2848947725729802
                    ],
                    [
                      3.3239456193353476,
                      3.3239456193353476
                    ]
                  ],
                  "domain": {
                    "x": [
                      0,
                      1
                    ],
                    "y": [
                      0,
                      1
                    ]
                  },
                  "hovertemplate": "labels=%{label}<br>x_bar_sum=%{value}<br>parent=%{parent}<br>id=%{id}<br>x_bar=%{color}<extra></extra>",
                  "ids": [
                    "ปริญญาตรี โครงการพิเศษ/normal/2561/YRY790/231863/ส่วนที่ 1 ข้อคำถามกลางของมหาวิทยาลัย/กระตุ้นบรรยากาศการเรียนการสอน มีวิธีสอนที่น่าสนใจและน่าติดตาม",
                    "ปริญญาตรี โครงการพิเศษ/normal/2563/YRY790/728025/ส่วนที่ 1 ข้อคำถามกลางของมหาวิทยาลัย/กระตุ้นบรรยากาศการเรียนการสอน มีวิธีสอนที่น่าสนใจและน่าติดตาม",
                    "ปริญญาตรี โครงการพิเศษ/normal/2563/YRY790/728025/ส่วนที่ 1 ข้อคำถามกลางของมหาวิทยาลัย/ทำให้เห็นความสัมพันธ์กับวิชาอื่นที่เกี่ยวข้อง",
                    "ปริญญาตรี โครงการพิเศษ/normal/2563/YRY790/728025/ส่วนที่ 2 ข้อคำถามของคณะ/หน่วยงาน/ผู้สอนชี้แนะจุดมุ่งหมายประเด็นหรือข้อสรุปที่เป็นเนื้อหาสาระสำคัญ",
                    "ปริญญาตรี โครงการพิเศษ/covid/2564/YRY790/231863/ส่วนที่ 1 ข้อคำถามกลางของมหาวิทยาลัย/ผู้สอนอธิบายชัดเจน ตรงประเด็น มีการยกตัวอย่างประกอบให้เข้าใจง่าย และมีการใช้สื่อการสอนที่สามารถเชื่อมโยงกับเนื้อหาที่สอนให้ผู้เรียนเกิดการเรียนรู้ได้ดีขึ้น",
                    "ปริญญาตรี โครงการพิเศษ/normal/2563/YRY790/728025/ส่วนที่ 2 ข้อคำถามของคณะ/หน่วยงาน/ผู้สอนแทรกเนื้อหาเกี่ยวกับคุณธรรมจริยธรรมในการเรียนการสอน",
                    "ปริญญาตรี โครงการพิเศษ/normal/2562/FGL497/231863/ส่วนที่ 3 สภาพแวดล้อมและสิ่งสนับสนุนการเรียนรู้/สภาพของห้องเรียนหรือห้องปฏิบัติการ เช่น แสง อุณหภูมิ โต๊ะ เก้าอี้ จุดเชื่อมต่ออินเตอร์เน็ตไร้สายบริการ ฯลฯ มีความเหมาะสมและคุณภาพพร้อมใช้งาน",
                    "ปริญญาตรี โครงการพิเศษ/normal/2563/YRY790/728025/ส่วนที่ 1 ข้อคำถามกลางของมหาวิทยาลัย/สอนให้คิด วิเคราะห์ วิจารณ์",
                    "ปริญญาตรี โครงการพิเศษ/normal/2563/YRY790/728025/ส่วนที่ 1 ข้อคำถามกลางของมหาวิทยาลัย/แนะนำแหล่งค้นคว้าข้อมูลเพิ่มเติมให้",
                    "ปริญญาตรี โครงการพิเศษ/normal/2563/YRY790/728025/ส่วนที่ 1 ข้อคำถามกลางของมหาวิทยาลัย/ใช้สื่อและอุปกรณ์ช่วยสอนได้ดี",
                    "ปริญญาตรี โครงการพิเศษ/normal/2561/YRY790/231863/ส่วนที่ 1 ข้อคำถามกลางของมหาวิทยาลัย",
                    "ปริญญาตรี โครงการพิเศษ/covid/2564/YRY790/231863/ส่วนที่ 1 ข้อคำถามกลางของมหาวิทยาลัย",
                    "ปริญญาตรี โครงการพิเศษ/normal/2563/YRY790/728025/ส่วนที่ 1 ข้อคำถามกลางของมหาวิทยาลัย",
                    "ปริญญาตรี โครงการพิเศษ/normal/2563/YRY790/728025/ส่วนที่ 2 ข้อคำถามของคณะ/หน่วยงาน",
                    "ปริญญาตรี โครงการพิเศษ/normal/2562/FGL497/231863/ส่วนที่ 3 สภาพแวดล้อมและสิ่งสนับสนุนการเรียนรู้",
                    "ปริญญาตรี โครงการพิเศษ/normal/2562/FGL497/231863",
                    "ปริญญาตรี โครงการพิเศษ/normal/2561/YRY790/231863",
                    "ปริญญาตรี โครงการพิเศษ/covid/2564/YRY790/231863",
                    "ปริญญาตรี โครงการพิเศษ/normal/2563/YRY790/728025",
                    "ปริญญาตรี โครงการพิเศษ/normal/2562/FGL497",
                    "ปริญญาตรี โครงการพิเศษ/normal/2561/YRY790",
                    "ปริญญาตรี โครงการพิเศษ/normal/2563/YRY790",
                    "ปริญญาตรี โครงการพิเศษ/covid/2564/YRY790",
                    "ปริญญาตรี โครงการพิเศษ/normal/2561",
                    "ปริญญาตรี โครงการพิเศษ/normal/2562",
                    "ปริญญาตรี โครงการพิเศษ/normal/2563",
                    "ปริญญาตรี โครงการพิเศษ/covid/2564",
                    "ปริญญาตรี โครงการพิเศษ/covid",
                    "ปริญญาตรี โครงการพิเศษ/normal",
                    "ปริญญาตรี โครงการพิเศษ"
                  ],
                  "labels": [
                    "กระตุ้นบรรยากาศการเรียนการสอน มีวิธีสอนที่น่าสนใจและน่าติดตาม",
                    "กระตุ้นบรรยากาศการเรียนการสอน มีวิธีสอนที่น่าสนใจและน่าติดตาม",
                    "ทำให้เห็นความสัมพันธ์กับวิชาอื่นที่เกี่ยวข้อง",
                    "ผู้สอนชี้แนะจุดมุ่งหมายประเด็นหรือข้อสรุปที่เป็นเนื้อหาสาระสำคัญ",
                    "ผู้สอนอธิบายชัดเจน ตรงประเด็น มีการยกตัวอย่างประกอบให้เข้าใจง่าย และมีการใช้สื่อการสอนที่สามารถเชื่อมโยงกับเนื้อหาที่สอนให้ผู้เรียนเกิดการเรียนรู้ได้ดีขึ้น",
                    "ผู้สอนแทรกเนื้อหาเกี่ยวกับคุณธรรมจริยธรรมในการเรียนการสอน",
                    "สภาพของห้องเรียนหรือห้องปฏิบัติการ เช่น แสง อุณหภูมิ โต๊ะ เก้าอี้ จุดเชื่อมต่ออินเตอร์เน็ตไร้สายบริการ ฯลฯ มีความเหมาะสมและคุณภาพพร้อมใช้งาน",
                    "สอนให้คิด วิเคราะห์ วิจารณ์",
                    "แนะนำแหล่งค้นคว้าข้อมูลเพิ่มเติมให้",
                    "ใช้สื่อและอุปกรณ์ช่วยสอนได้ดี",
                    "ส่วนที่ 1 ข้อคำถามกลางของมหาวิทยาลัย",
                    "ส่วนที่ 1 ข้อคำถามกลางของมหาวิทยาลัย",
                    "ส่วนที่ 1 ข้อคำถามกลางของมหาวิทยาลัย",
                    "ส่วนที่ 2 ข้อคำถามของคณะ/หน่วยงาน",
                    "ส่วนที่ 3 สภาพแวดล้อมและสิ่งสนับสนุนการเรียนรู้",
                    "231863",
                    "231863",
                    "231863",
                    "728025",
                    "FGL497",
                    "YRY790",
                    "YRY790",
                    "YRY790",
                    "2561",
                    "2562",
                    "2563",
                    "2564",
                    "covid",
                    "normal",
                    "ปริญญาตรี โครงการพิเศษ"
                  ],
                  "marker": {
                    "coloraxis": "coloraxis",
                    "colors": [
                      3.14,
                      3.13,
                      3.38,
                      3.38,
                      3.64,
                      3.5,
                      3.17,
                      3.38,
                      2.88,
                      3.5,
                      3.14,
                      3.64,
                      3.2692132759680397,
                      3.4410465116279068,
                      3.17,
                      3.17,
                      3.14,
                      3.64,
                      3.3202807775377967,
                      3.17,
                      3.14,
                      3.3202807775377967,
                      3.64,
                      3.14,
                      3.17,
                      3.3202807775377967,
                      3.64,
                      3.64,
                      3.2848947725729802,
                      3.3239456193353476
                    ]
                  },
                  "name": "",
                  "parents": [
                    "ปริญญาตรี โครงการพิเศษ/normal/2561/YRY790/231863/ส่วนที่ 1 ข้อคำถามกลางของมหาวิทยาลัย",
                    "ปริญญาตรี โครงการพิเศษ/normal/2563/YRY790/728025/ส่วนที่ 1 ข้อคำถามกลางของมหาวิทยาลัย",
                    "ปริญญาตรี โครงการพิเศษ/normal/2563/YRY790/728025/ส่วนที่ 1 ข้อคำถามกลางของมหาวิทยาลัย",
                    "ปริญญาตรี โครงการพิเศษ/normal/2563/YRY790/728025/ส่วนที่ 2 ข้อคำถามของคณะ/หน่วยงาน",
                    "ปริญญาตรี โครงการพิเศษ/covid/2564/YRY790/231863/ส่วนที่ 1 ข้อคำถามกลางของมหาวิทยาลัย",
                    "ปริญญาตรี โครงการพิเศษ/normal/2563/YRY790/728025/ส่วนที่ 2 ข้อคำถามของคณะ/หน่วยงาน",
                    "ปริญญาตรี โครงการพิเศษ/normal/2562/FGL497/231863/ส่วนที่ 3 สภาพแวดล้อมและสิ่งสนับสนุนการเรียนรู้",
                    "ปริญญาตรี โครงการพิเศษ/normal/2563/YRY790/728025/ส่วนที่ 1 ข้อคำถามกลางของมหาวิทยาลัย",
                    "ปริญญาตรี โครงการพิเศษ/normal/2563/YRY790/728025/ส่วนที่ 1 ข้อคำถามกลางของมหาวิทยาลัย",
                    "ปริญญาตรี โครงการพิเศษ/normal/2563/YRY790/728025/ส่วนที่ 1 ข้อคำถามกลางของมหาวิทยาลัย",
                    "ปริญญาตรี โครงการพิเศษ/normal/2561/YRY790/231863",
                    "ปริญญาตรี โครงการพิเศษ/covid/2564/YRY790/231863",
                    "ปริญญาตรี โครงการพิเศษ/normal/2563/YRY790/728025",
                    "ปริญญาตรี โครงการพิเศษ/normal/2563/YRY790/728025",
                    "ปริญญาตรี โครงการพิเศษ/normal/2562/FGL497/231863",
                    "ปริญญาตรี โครงการพิเศษ/normal/2562/FGL497",
                    "ปริญญาตรี โครงการพิเศษ/normal/2561/YRY790",
                    "ปริญญาตรี โครงการพิเศษ/covid/2564/YRY790",
                    "ปริญญาตรี โครงการพิเศษ/normal/2563/YRY790",
                    "ปริญญาตรี โครงการพิเศษ/normal/2562",
                    "ปริญญาตรี โครงการพิเศษ/normal/2561",
                    "ปริญญาตรี โครงการพิเศษ/normal/2563",
                    "ปริญญาตรี โครงการพิเศษ/covid/2564",
                    "ปริญญาตรี โครงการพิเศษ/normal",
                    "ปริญญาตรี โครงการพิเศษ/normal",
                    "ปริญญาตรี โครงการพิเศษ/normal",
                    "ปริญญาตรี โครงการพิเศษ/covid",
                    "ปริญญาตรี โครงการพิเศษ",
                    "ปริญญาตรี โครงการพิเศษ",
                    ""
                  ],
                  "textinfo": "label",
                  "type": "treemap",
                  "values": [
                    3.14,
                    3.13,
                    3.38,
                    3.38,
                    3.64,
                    3.5,
                    3.17,
                    3.38,
                    2.88,
                    3.5,
                    3.14,
                    3.64,
                    16.27,
                    6.88,
                    3.17,
                    3.17,
                    3.14,
                    3.64,
                    23.15,
                    3.17,
                    3.14,
                    23.15,
                    3.64,
                    3.14,
                    3.17,
                    23.15,
                    3.64,
                    3.64,
                    29.46,
                    33.1
                  ]
                }
              ],
              "layout": {
                "coloraxis": {
                  "cmid": 3.3099999999999996,
                  "colorbar": {
                    "title": {
                      "text": "x_bar"
                    }
                  },
                  "colorscale": [
                    [
                      0,
                      "rgb(3, 5, 18)"
                    ],
                    [
                      0.09090909090909091,
                      "rgb(25, 25, 51)"
                    ],
                    [
                      0.18181818181818182,
                      "rgb(44, 42, 87)"
                    ],
                    [
                      0.2727272727272727,
                      "rgb(58, 60, 125)"
                    ],
                    [
                      0.36363636363636365,
                      "rgb(62, 83, 160)"
                    ],
                    [
                      0.45454545454545453,
                      "rgb(62, 109, 178)"
                    ],
                    [
                      0.5454545454545454,
                      "rgb(72, 134, 187)"
                    ],
                    [
                      0.6363636363636364,
                      "rgb(89, 159, 196)"
                    ],
                    [
                      0.7272727272727273,
                      "rgb(114, 184, 205)"
                    ],
                    [
                      0.8181818181818182,
                      "rgb(149, 207, 216)"
                    ],
                    [
                      0.9090909090909091,
                      "rgb(192, 229, 232)"
                    ],
                    [
                      1,
                      "rgb(234, 252, 253)"
                    ]
                  ]
                },
                "height": 1000,
                "legend": {
                  "tracegroupgap": 0
                },
                "margin": {
                  "b": 5,
                  "l": 5,
                  "r": 5,
                  "t": 5
                },
                "paper_bgcolor": "rgba(0, 0, 0, 0)",
                "plot_bgcolor": "rgba(0, 0, 0, 0)",
                "template": {
                  "data": {
                    "bar": [
                      {
                        "error_x": {
                          "color": "#2a3f5f"
                        },
                        "error_y": {
                          "color": "#2a3f5f"
                        },
                        "marker": {
                          "line": {
                            "color": "#E5ECF6",
                            "width": 0.5
                          },
                          "pattern": {
                            "fillmode": "overlay",
                            "size": 10,
                            "solidity": 0.2
                          }
                        },
                        "type": "bar"
                      }
                    ],
                    "barpolar": [
                      {
                        "marker": {
                          "line": {
                            "color": "#E5ECF6",
                            "width": 0.5
                          },
                          "pattern": {
                            "fillmode": "overlay",
                            "size": 10,
                            "solidity": 0.2
                          }
                        },
                        "type": "barpolar"
                      }
                    ],
                    "carpet": [
                      {
                        "aaxis": {
                          "endlinecolor": "#2a3f5f",
                          "gridcolor": "white",
                          "linecolor": "white",
                          "minorgridcolor": "white",
                          "startlinecolor": "#2a3f5f"
                        },
                        "baxis": {
                          "endlinecolor": "#2a3f5f",
                          "gridcolor": "white",
                          "linecolor": "white",
                          "minorgridcolor": "white",
                          "startlinecolor": "#2a3f5f"
                        },
                        "type": "carpet"
                      }
                    ],
                    "choropleth": [
                      {
                        "colorbar": {
                          "outlinewidth": 0,
                          "ticks": ""
                        },
                        "type": "choropleth"
                      }
                    ],
                    "contour": [
                      {
                        "colorbar": {
                          "outlinewidth": 0,
                          "ticks": ""
                        },
                        "colorscale": [
                          [
                            0,
                            "#0d0887"
                          ],
                          [
                            0.1111111111111111,
                            "#46039f"
                          ],
                          [
                            0.2222222222222222,
                            "#7201a8"
                          ],
                          [
                            0.3333333333333333,
                            "#9c179e"
                          ],
                          [
                            0.4444444444444444,
                            "#bd3786"
                          ],
                          [
                            0.5555555555555556,
                            "#d8576b"
                          ],
                          [
                            0.6666666666666666,
                            "#ed7953"
                          ],
                          [
                            0.7777777777777778,
                            "#fb9f3a"
                          ],
                          [
                            0.8888888888888888,
                            "#fdca26"
                          ],
                          [
                            1,
                            "#f0f921"
                          ]
                        ],
                        "type": "contour"
                      }
                    ],
                    "contourcarpet": [
                      {
                        "colorbar": {
                          "outlinewidth": 0,
                          "ticks": ""
                        },
                        "type": "contourcarpet"
                      }
                    ],
                    "heatmap": [
                      {
                        "colorbar": {
                          "outlinewidth": 0,
                          "ticks": ""
                        },
                        "colorscale": [
                          [
                            0,
                            "#0d0887"
                          ],
                          [
                            0.1111111111111111,
                            "#46039f"
                          ],
                          [
                            0.2222222222222222,
                            "#7201a8"
                          ],
                          [
                            0.3333333333333333,
                            "#9c179e"
                          ],
                          [
                            0.4444444444444444,
                            "#bd3786"
                          ],
                          [
                            0.5555555555555556,
                            "#d8576b"
                          ],
                          [
                            0.6666666666666666,
                            "#ed7953"
                          ],
                          [
                            0.7777777777777778,
                            "#fb9f3a"
                          ],
                          [
                            0.8888888888888888,
                            "#fdca26"
                          ],
                          [
                            1,
                            "#f0f921"
                          ]
                        ],
                        "type": "heatmap"
                      }
                    ],
                    "heatmapgl": [
                      {
                        "colorbar": {
                          "outlinewidth": 0,
                          "ticks": ""
                        },
                        "colorscale": [
                          [
                            0,
                            "#0d0887"
                          ],
                          [
                            0.1111111111111111,
                            "#46039f"
                          ],
                          [
                            0.2222222222222222,
                            "#7201a8"
                          ],
                          [
                            0.3333333333333333,
                            "#9c179e"
                          ],
                          [
                            0.4444444444444444,
                            "#bd3786"
                          ],
                          [
                            0.5555555555555556,
                            "#d8576b"
                          ],
                          [
                            0.6666666666666666,
                            "#ed7953"
                          ],
                          [
                            0.7777777777777778,
                            "#fb9f3a"
                          ],
                          [
                            0.8888888888888888,
                            "#fdca26"
                          ],
                          [
                            1,
                            "#f0f921"
                          ]
                        ],
                        "type": "heatmapgl"
                      }
                    ],
                    "histogram": [
                      {
                        "marker": {
                          "pattern": {
                            "fillmode": "overlay",
                            "size": 10,
                            "solidity": 0.2
                          }
                        },
                        "type": "histogram"
                      }
                    ],
                    "histogram2d": [
                      {
                        "colorbar": {
                          "outlinewidth": 0,
                          "ticks": ""
                        },
                        "colorscale": [
                          [
                            0,
                            "#0d0887"
                          ],
                          [
                            0.1111111111111111,
                            "#46039f"
                          ],
                          [
                            0.2222222222222222,
                            "#7201a8"
                          ],
                          [
                            0.3333333333333333,
                            "#9c179e"
                          ],
                          [
                            0.4444444444444444,
                            "#bd3786"
                          ],
                          [
                            0.5555555555555556,
                            "#d8576b"
                          ],
                          [
                            0.6666666666666666,
                            "#ed7953"
                          ],
                          [
                            0.7777777777777778,
                            "#fb9f3a"
                          ],
                          [
                            0.8888888888888888,
                            "#fdca26"
                          ],
                          [
                            1,
                            "#f0f921"
                          ]
                        ],
                        "type": "histogram2d"
                      }
                    ],
                    "histogram2dcontour": [
                      {
                        "colorbar": {
                          "outlinewidth": 0,
                          "ticks": ""
                        },
                        "colorscale": [
                          [
                            0,
                            "#0d0887"
                          ],
                          [
                            0.1111111111111111,
                            "#46039f"
                          ],
                          [
                            0.2222222222222222,
                            "#7201a8"
                          ],
                          [
                            0.3333333333333333,
                            "#9c179e"
                          ],
                          [
                            0.4444444444444444,
                            "#bd3786"
                          ],
                          [
                            0.5555555555555556,
                            "#d8576b"
                          ],
                          [
                            0.6666666666666666,
                            "#ed7953"
                          ],
                          [
                            0.7777777777777778,
                            "#fb9f3a"
                          ],
                          [
                            0.8888888888888888,
                            "#fdca26"
                          ],
                          [
                            1,
                            "#f0f921"
                          ]
                        ],
                        "type": "histogram2dcontour"
                      }
                    ],
                    "mesh3d": [
                      {
                        "colorbar": {
                          "outlinewidth": 0,
                          "ticks": ""
                        },
                        "type": "mesh3d"
                      }
                    ],
                    "parcoords": [
                      {
                        "line": {
                          "colorbar": {
                            "outlinewidth": 0,
                            "ticks": ""
                          }
                        },
                        "type": "parcoords"
                      }
                    ],
                    "pie": [
                      {
                        "automargin": true,
                        "type": "pie"
                      }
                    ],
                    "scatter": [
                      {
                        "fillpattern": {
                          "fillmode": "overlay",
                          "size": 10,
                          "solidity": 0.2
                        },
                        "type": "scatter"
                      }
                    ],
                    "scatter3d": [
                      {
                        "line": {
                          "colorbar": {
                            "outlinewidth": 0,
                            "ticks": ""
                          }
                        },
                        "marker": {
                          "colorbar": {
                            "outlinewidth": 0,
                            "ticks": ""
                          }
                        },
                        "type": "scatter3d"
                      }
                    ],
                    "scattercarpet": [
                      {
                        "marker": {
                          "colorbar": {
                            "outlinewidth": 0,
                            "ticks": ""
                          }
                        },
                        "type": "scattercarpet"
                      }
                    ],
                    "scattergeo": [
                      {
                        "marker": {
                          "colorbar": {
                            "outlinewidth": 0,
                            "ticks": ""
                          }
                        },
                        "type": "scattergeo"
                      }
                    ],
                    "scattergl": [
                      {
                        "marker": {
                          "colorbar": {
                            "outlinewidth": 0,
                            "ticks": ""
                          }
                        },
                        "type": "scattergl"
                      }
                    ],
                    "scattermapbox": [
                      {
                        "marker": {
                          "colorbar": {
                            "outlinewidth": 0,
                            "ticks": ""
                          }
                        },
                        "type": "scattermapbox"
                      }
                    ],
                    "scatterpolar": [
                      {
                        "marker": {
                          "colorbar": {
                            "outlinewidth": 0,
                            "ticks": ""
                          }
                        },
                        "type": "scatterpolar"
                      }
                    ],
                    "scatterpolargl": [
                      {
                        "marker": {
                          "colorbar": {
                            "outlinewidth": 0,
                            "ticks": ""
                          }
                        },
                        "type": "scatterpolargl"
                      }
                    ],
                    "scatterternary": [
                      {
                        "marker": {
                          "colorbar": {
                            "outlinewidth": 0,
                            "ticks": ""
                          }
                        },
                        "type": "scatterternary"
                      }
                    ],
                    "surface": [
                      {
                        "colorbar": {
                          "outlinewidth": 0,
                          "ticks": ""
                        },
                        "colorscale": [
                          [
                            0,
                            "#0d0887"
                          ],
                          [
                            0.1111111111111111,
                            "#46039f"
                          ],
                          [
                            0.2222222222222222,
                            "#7201a8"
                          ],
                          [
                            0.3333333333333333,
                            "#9c179e"
                          ],
                          [
                            0.4444444444444444,
                            "#bd3786"
                          ],
                          [
                            0.5555555555555556,
                            "#d8576b"
                          ],
                          [
                            0.6666666666666666,
                            "#ed7953"
                          ],
                          [
                            0.7777777777777778,
                            "#fb9f3a"
                          ],
                          [
                            0.8888888888888888,
                            "#fdca26"
                          ],
                          [
                            1,
                            "#f0f921"
                          ]
                        ],
                        "type": "surface"
                      }
                    ],
                    "table": [
                      {
                        "cells": {
                          "fill": {
                            "color": "#EBF0F8"
                          },
                          "line": {
                            "color": "white"
                          }
                        },
                        "header": {
                          "fill": {
                            "color": "#C8D4E3"
                          },
                          "line": {
                            "color": "white"
                          }
                        },
                        "type": "table"
                      }
                    ]
                  },
                  "layout": {
                    "annotationdefaults": {
                      "arrowcolor": "#2a3f5f",
                      "arrowhead": 0,
                      "arrowwidth": 1
                    },
                    "autotypenumbers": "strict",
                    "coloraxis": {
                      "colorbar": {
                        "outlinewidth": 0,
                        "ticks": ""
                      }
                    },
                    "colorscale": {
                      "diverging": [
                        [
                          0,
                          "#8e0152"
                        ],
                        [
                          0.1,
                          "#c51b7d"
                        ],
                        [
                          0.2,
                          "#de77ae"
                        ],
                        [
                          0.3,
                          "#f1b6da"
                        ],
                        [
                          0.4,
                          "#fde0ef"
                        ],
                        [
                          0.5,
                          "#f7f7f7"
                        ],
                        [
                          0.6,
                          "#e6f5d0"
                        ],
                        [
                          0.7,
                          "#b8e186"
                        ],
                        [
                          0.8,
                          "#7fbc41"
                        ],
                        [
                          0.9,
                          "#4d9221"
                        ],
                        [
                          1,
                          "#276419"
                        ]
                      ],
                      "sequential": [
                        [
                          0,
                          "#0d0887"
                        ],
                        [
                          0.1111111111111111,
                          "#46039f"
                        ],
                        [
                          0.2222222222222222,
                          "#7201a8"
                        ],
                        [
                          0.3333333333333333,
                          "#9c179e"
                        ],
                        [
                          0.4444444444444444,
                          "#bd3786"
                        ],
                        [
                          0.5555555555555556,
                          "#d8576b"
                        ],
                        [
                          0.6666666666666666,
                          "#ed7953"
                        ],
                        [
                          0.7777777777777778,
                          "#fb9f3a"
                        ],
                        [
                          0.8888888888888888,
                          "#fdca26"
                        ],
                        [
                          1,
                          "#f0f921"
                        ]
                      ],
                      "sequentialminus": [
                        [
                          0,
                          "#0d0887"
                        ],
                        [
                          0.1111111111111111,
                          "#46039f"
                        ],
                        [
                          0.2222222222222222,
                          "#7201a8"
                        ],
                        [
                          0.3333333333333333,
                          "#9c179e"
                        ],
                        [
                          0.4444444444444444,
                          "#bd3786"
                        ],
                        [
                          0.5555555555555556,
                          "#d8576b"
                        ],
                        [
                          0.6666666666666666,
                          "#ed7953"
                        ],
                        [
                          0.7777777777777778,
                          "#fb9f3a"
                        ],
                        [
                          0.8888888888888888,
                          "#fdca26"
                        ],
                        [
                          1,
                          "#f0f921"
                        ]
                      ]
                    },
                    "colorway": [
                      "#636efa",
                      "#EF553B",
                      "#00cc96",
                      "#ab63fa",
                      "#FFA15A",
                      "#19d3f3",
                      "#FF6692",
                      "#B6E880",
                      "#FF97FF",
                      "#FECB52"
                    ],
                    "font": {
                      "color": "#2a3f5f"
                    },
                    "geo": {
                      "bgcolor": "white",
                      "lakecolor": "white",
                      "landcolor": "#E5ECF6",
                      "showlakes": true,
                      "showland": true,
                      "subunitcolor": "white"
                    },
                    "hoverlabel": {
                      "align": "left"
                    },
                    "hovermode": "closest",
                    "mapbox": {
                      "style": "light"
                    },
                    "paper_bgcolor": "white",
                    "plot_bgcolor": "#E5ECF6",
                    "polar": {
                      "angularaxis": {
                        "gridcolor": "white",
                        "linecolor": "white",
                        "ticks": ""
                      },
                      "bgcolor": "#E5ECF6",
                      "radialaxis": {
                        "gridcolor": "white",
                        "linecolor": "white",
                        "ticks": ""
                      }
                    },
                    "scene": {
                      "xaxis": {
                        "backgroundcolor": "#E5ECF6",
                        "gridcolor": "white",
                        "gridwidth": 2,
                        "linecolor": "white",
                        "showbackground": true,
                        "ticks": "",
                        "zerolinecolor": "white"
                      },
                      "yaxis": {
                        "backgroundcolor": "#E5ECF6",
                        "gridcolor": "white",
                        "gridwidth": 2,
                        "linecolor": "white",
                        "showbackground": true,
                        "ticks": "",
                        "zerolinecolor": "white"
                      },
                      "zaxis": {
                        "backgroundcolor": "#E5ECF6",
                        "gridcolor": "white",
                        "gridwidth": 2,
                        "linecolor": "white",
                        "showbackground": true,
                        "ticks": "",
                        "zerolinecolor": "white"
                      }
                    },
                    "shapedefaults": {
                      "line": {
                        "color": "#2a3f5f"
                      }
                    },
                    "ternary": {
                      "aaxis": {
                        "gridcolor": "white",
                        "linecolor": "white",
                        "ticks": ""
                      },
                      "baxis": {
                        "gridcolor": "white",
                        "linecolor": "white",
                        "ticks": ""
                      },
                      "bgcolor": "#E5ECF6",
                      "caxis": {
                        "gridcolor": "white",
                        "linecolor": "white",
                        "ticks": ""
                      }
                    },
                    "title": {
                      "x": 0.05
                    },
                    "xaxis": {
                      "automargin": true,
                      "gridcolor": "white",
                      "linecolor": "white",
                      "ticks": "",
                      "title": {
                        "standoff": 15
                      },
                      "zerolinecolor": "white",
                      "zerolinewidth": 2
                    },
                    "yaxis": {
                      "automargin": true,
                      "gridcolor": "white",
                      "linecolor": "white",
                      "ticks": "",
                      "title": {
                        "standoff": 15
                      },
                      "zerolinecolor": "white",
                      "zerolinewidth": 2
                    }
                  }
                },
                "uniformtext": {
                  "minsize": 14,
                  "mode": "show"
                },
                "width": 2000
              }
            }
          },
          "metadata": {},
          "output_type": "display_data"
        }
      ],
      "source": [
        "\n",
        "fig = px.treemap(outliner , path=[ 'degree' ,'situation','year','subject','section' , 'topic' , 'ข้อคำถาม' ] , values='x_bar' ,  color='x_bar', hover_data=['x_bar'],\n",
        "                  color_continuous_scale= 'ice',\n",
        "                  color_continuous_midpoint=np.average(outliner['x_bar']) ,\n",
        "                  width=2000, height=1000)\n",
        "\n",
        "\n",
        "fig.update_layout(margin = dict(t=5, l=5, r=5, b=5))\n",
        "fig.update_layout({\n",
        "'plot_bgcolor':'rgba(0, 0, 0, 0)',\n",
        "'paper_bgcolor': 'rgba(0, 0, 0, 0)'\n",
        "})\n",
        "fig.update_traces(textinfo = 'label')\n",
        "fig.update_layout(uniformtext=dict(minsize=14, mode='show'))\n",
        "fig.show()"
      ]
    },
    {
      "cell_type": "markdown",
      "metadata": {
        "id": "b5v6w5sn-X89"
      },
      "source": [
        "1.   กำหนดตัวแปร fig เพื่อสร้าง tree map โดยอิงข้อมูลจาก outliner กำหนด dimension layer เป็น degree, situation, year, subject , section , topic , ข้อคำถาม measurement value คือ x_bar แล้วสี layout ละเปลี่ยนตามค่าx_bar กำหนดgradiantเป็นรูปแบบ 'ice'\n",
        "2. กำหนดขนาดของกราฟ\n",
        "3. ใช้ฟังก์ชั่น update_layout เพื่อกำหนดตำแหน่\n",
        "ของกราฟ และทำbackgroundเป็นpng\n",
        "4. ใช้ฟังก์ชั่น update_traces เพื่อใส่ label ลงในแต่ละ layout\n",
        "5. กำหนดขนาดตัวอักษร"
      ]
    },
    {
      "cell_type": "markdown",
      "metadata": {
        "id": "v_HaxcOzO6KB"
      },
      "source": [
        "**สาเหตุ**\n",
        "1. ต้องการดูว่าใน outliner ทั้งหมด มีสัดส่วนวิชา/คำถาม เป็นอย่างไร\n",
        "2. สีที่เข้มขึ้นหมายถึง x bar ที่น้อยลง ซึ่งบ่งบอกถึง outliner ที่ไกลขึ้น"
      ]
    },
    {
      "cell_type": "code",
      "execution_count": 14,
      "metadata": {},
      "outputs": [],
      "source": [
        "from scipy import stats"
      ]
    },
    {
      "cell_type": "code",
      "execution_count": 16,
      "metadata": {},
      "outputs": [
        {
          "data": {
            "text/html": [
              "<div>\n",
              "<style scoped>\n",
              "    .dataframe tbody tr th:only-of-type {\n",
              "        vertical-align: middle;\n",
              "    }\n",
              "\n",
              "    .dataframe tbody tr th {\n",
              "        vertical-align: top;\n",
              "    }\n",
              "\n",
              "    .dataframe thead th {\n",
              "        text-align: right;\n",
              "    }\n",
              "</style>\n",
              "<table border=\"1\" class=\"dataframe\">\n",
              "  <thead>\n",
              "    <tr style=\"text-align: right;\">\n",
              "      <th></th>\n",
              "      <th>5</th>\n",
              "      <th>5(%)</th>\n",
              "      <th>4</th>\n",
              "      <th>4(%)</th>\n",
              "      <th>3</th>\n",
              "      <th>3(%)</th>\n",
              "      <th>2</th>\n",
              "      <th>2(%)</th>\n",
              "      <th>1</th>\n",
              "      <th>1(%)</th>\n",
              "      <th>...</th>\n",
              "      <th>degree</th>\n",
              "      <th>semester</th>\n",
              "      <th>subject</th>\n",
              "      <th>section</th>\n",
              "      <th>นักศึกษาที่จดทะเบียน</th>\n",
              "      <th>year</th>\n",
              "      <th>sem</th>\n",
              "      <th>n</th>\n",
              "      <th>situation</th>\n",
              "      <th>0-1(%)</th>\n",
              "    </tr>\n",
              "    <tr>\n",
              "      <th>ข้อคำถาม</th>\n",
              "      <th></th>\n",
              "      <th></th>\n",
              "      <th></th>\n",
              "      <th></th>\n",
              "      <th></th>\n",
              "      <th></th>\n",
              "      <th></th>\n",
              "      <th></th>\n",
              "      <th></th>\n",
              "      <th></th>\n",
              "      <th></th>\n",
              "      <th></th>\n",
              "      <th></th>\n",
              "      <th></th>\n",
              "      <th></th>\n",
              "      <th></th>\n",
              "      <th></th>\n",
              "      <th></th>\n",
              "      <th></th>\n",
              "      <th></th>\n",
              "      <th></th>\n",
              "    </tr>\n",
              "  </thead>\n",
              "  <tbody>\n",
              "    <tr>\n",
              "      <th>สอนอย่างเป็นระบบ</th>\n",
              "      <td>4</td>\n",
              "      <td>66.67</td>\n",
              "      <td>1</td>\n",
              "      <td>16.67</td>\n",
              "      <td>0</td>\n",
              "      <td>0.00</td>\n",
              "      <td>1</td>\n",
              "      <td>16.67</td>\n",
              "      <td>0</td>\n",
              "      <td>0.00</td>\n",
              "      <td>...</td>\n",
              "      <td>ปริญญาตรี โครงการพิเศษ</td>\n",
              "      <td>1/2562</td>\n",
              "      <td>FGL497</td>\n",
              "      <td>231863</td>\n",
              "      <td>43</td>\n",
              "      <td>2562</td>\n",
              "      <td>1</td>\n",
              "      <td>6</td>\n",
              "      <td>normal</td>\n",
              "      <td>0.00</td>\n",
              "    </tr>\n",
              "    <tr>\n",
              "      <th>สอนให้คิด วิเคราะห์ วิจารณ์</th>\n",
              "      <td>4</td>\n",
              "      <td>66.67</td>\n",
              "      <td>0</td>\n",
              "      <td>0.00</td>\n",
              "      <td>1</td>\n",
              "      <td>16.67</td>\n",
              "      <td>1</td>\n",
              "      <td>16.67</td>\n",
              "      <td>0</td>\n",
              "      <td>0.00</td>\n",
              "      <td>...</td>\n",
              "      <td>ปริญญาตรี โครงการพิเศษ</td>\n",
              "      <td>1/2562</td>\n",
              "      <td>FGL497</td>\n",
              "      <td>231863</td>\n",
              "      <td>43</td>\n",
              "      <td>2562</td>\n",
              "      <td>1</td>\n",
              "      <td>6</td>\n",
              "      <td>normal</td>\n",
              "      <td>0.00</td>\n",
              "    </tr>\n",
              "    <tr>\n",
              "      <th>กระตุ้นบรรยากาศการเรียนการสอน มีวิธีสอนที่น่าสนใจและน่าติดตาม</th>\n",
              "      <td>2</td>\n",
              "      <td>33.33</td>\n",
              "      <td>1</td>\n",
              "      <td>16.67</td>\n",
              "      <td>1</td>\n",
              "      <td>16.67</td>\n",
              "      <td>1</td>\n",
              "      <td>16.67</td>\n",
              "      <td>1</td>\n",
              "      <td>16.67</td>\n",
              "      <td>...</td>\n",
              "      <td>ปริญญาตรี โครงการพิเศษ</td>\n",
              "      <td>1/2562</td>\n",
              "      <td>FGL497</td>\n",
              "      <td>231863</td>\n",
              "      <td>43</td>\n",
              "      <td>2562</td>\n",
              "      <td>1</td>\n",
              "      <td>6</td>\n",
              "      <td>normal</td>\n",
              "      <td>16.67</td>\n",
              "    </tr>\n",
              "    <tr>\n",
              "      <th>เปิดโอกาสให้แสดงความคิดเห็นและแลกเปลี่ยนประสบการณ์ ทั้งภายในและภายนอกห้องเรียน</th>\n",
              "      <td>3</td>\n",
              "      <td>50.00</td>\n",
              "      <td>2</td>\n",
              "      <td>33.33</td>\n",
              "      <td>0</td>\n",
              "      <td>0.00</td>\n",
              "      <td>0</td>\n",
              "      <td>0.00</td>\n",
              "      <td>1</td>\n",
              "      <td>16.67</td>\n",
              "      <td>...</td>\n",
              "      <td>ปริญญาตรี โครงการพิเศษ</td>\n",
              "      <td>1/2562</td>\n",
              "      <td>FGL497</td>\n",
              "      <td>231863</td>\n",
              "      <td>43</td>\n",
              "      <td>2562</td>\n",
              "      <td>1</td>\n",
              "      <td>6</td>\n",
              "      <td>normal</td>\n",
              "      <td>16.67</td>\n",
              "    </tr>\n",
              "    <tr>\n",
              "      <th>มีการให้นำเสนองาน/มีการวัดผลโดยวิธีอื่นๆที่สะท้อนความสามารถของผู้เรียนนอกเหนือจากการตอบข้อสอบ</th>\n",
              "      <td>3</td>\n",
              "      <td>50.00</td>\n",
              "      <td>2</td>\n",
              "      <td>33.33</td>\n",
              "      <td>1</td>\n",
              "      <td>16.67</td>\n",
              "      <td>0</td>\n",
              "      <td>0.00</td>\n",
              "      <td>0</td>\n",
              "      <td>0.00</td>\n",
              "      <td>...</td>\n",
              "      <td>ปริญญาตรี โครงการพิเศษ</td>\n",
              "      <td>1/2562</td>\n",
              "      <td>FGL497</td>\n",
              "      <td>231863</td>\n",
              "      <td>43</td>\n",
              "      <td>2562</td>\n",
              "      <td>1</td>\n",
              "      <td>6</td>\n",
              "      <td>normal</td>\n",
              "      <td>0.00</td>\n",
              "    </tr>\n",
              "    <tr>\n",
              "      <th>...</th>\n",
              "      <td>...</td>\n",
              "      <td>...</td>\n",
              "      <td>...</td>\n",
              "      <td>...</td>\n",
              "      <td>...</td>\n",
              "      <td>...</td>\n",
              "      <td>...</td>\n",
              "      <td>...</td>\n",
              "      <td>...</td>\n",
              "      <td>...</td>\n",
              "      <td>...</td>\n",
              "      <td>...</td>\n",
              "      <td>...</td>\n",
              "      <td>...</td>\n",
              "      <td>...</td>\n",
              "      <td>...</td>\n",
              "      <td>...</td>\n",
              "      <td>...</td>\n",
              "      <td>...</td>\n",
              "      <td>...</td>\n",
              "      <td>...</td>\n",
              "    </tr>\n",
              "    <tr>\n",
              "      <th>ผู้สอนแทรกเนื้อหาเกี่ยวกับคุณธรรมจริยธรรมในการเรียนการสอน</th>\n",
              "      <td>15</td>\n",
              "      <td>51.72</td>\n",
              "      <td>9</td>\n",
              "      <td>31.03</td>\n",
              "      <td>3</td>\n",
              "      <td>10.34</td>\n",
              "      <td>2</td>\n",
              "      <td>6.90</td>\n",
              "      <td>0</td>\n",
              "      <td>0.00</td>\n",
              "      <td>...</td>\n",
              "      <td>ปริญญาตรี โครงการพิเศษ</td>\n",
              "      <td>1/2563</td>\n",
              "      <td>NYE553</td>\n",
              "      <td>231863</td>\n",
              "      <td>43</td>\n",
              "      <td>2563</td>\n",
              "      <td>1</td>\n",
              "      <td>29</td>\n",
              "      <td>normal</td>\n",
              "      <td>0.00</td>\n",
              "    </tr>\n",
              "    <tr>\n",
              "      <th>โสตทัศนูปกรณ์ช่วยสอนในห้องเรียน เช่น ไมโครโฟน เครื่องฉายแผ่นทึบ มีคุณภาพพร้อมใช้งาน</th>\n",
              "      <td>14</td>\n",
              "      <td>48.28</td>\n",
              "      <td>8</td>\n",
              "      <td>27.59</td>\n",
              "      <td>5</td>\n",
              "      <td>17.24</td>\n",
              "      <td>1</td>\n",
              "      <td>3.45</td>\n",
              "      <td>1</td>\n",
              "      <td>3.45</td>\n",
              "      <td>...</td>\n",
              "      <td>ปริญญาตรี โครงการพิเศษ</td>\n",
              "      <td>1/2563</td>\n",
              "      <td>NYE553</td>\n",
              "      <td>231863</td>\n",
              "      <td>43</td>\n",
              "      <td>2563</td>\n",
              "      <td>1</td>\n",
              "      <td>29</td>\n",
              "      <td>normal</td>\n",
              "      <td>3.45</td>\n",
              "    </tr>\n",
              "    <tr>\n",
              "      <th>สภาพของห้องเรียนหรือห้องปฏิบัติการ เช่น แสง อุณหภูมิ โต๊ะ เก้าอี้ จุดเชื่อมต่ออินเตอร์เน็ตไร้สายบริการ ฯลฯ มีความเหมาะสมและคุณภาพพร้อมใช้งาน</th>\n",
              "      <td>13</td>\n",
              "      <td>44.83</td>\n",
              "      <td>11</td>\n",
              "      <td>37.93</td>\n",
              "      <td>4</td>\n",
              "      <td>13.79</td>\n",
              "      <td>0</td>\n",
              "      <td>0.00</td>\n",
              "      <td>1</td>\n",
              "      <td>3.45</td>\n",
              "      <td>...</td>\n",
              "      <td>ปริญญาตรี โครงการพิเศษ</td>\n",
              "      <td>1/2563</td>\n",
              "      <td>NYE553</td>\n",
              "      <td>231863</td>\n",
              "      <td>43</td>\n",
              "      <td>2563</td>\n",
              "      <td>1</td>\n",
              "      <td>29</td>\n",
              "      <td>normal</td>\n",
              "      <td>3.45</td>\n",
              "    </tr>\n",
              "    <tr>\n",
              "      <th>จำนวนอุปกรณ์ในการเรียนการสอนเพียงพอ และเหมาะสมต่อจำนวนผู้เรียน เช่น คอมพิวเตอร์ เครื่องดนตรี ฯลฯ</th>\n",
              "      <td>15</td>\n",
              "      <td>51.72</td>\n",
              "      <td>6</td>\n",
              "      <td>20.69</td>\n",
              "      <td>5</td>\n",
              "      <td>17.24</td>\n",
              "      <td>0</td>\n",
              "      <td>0.00</td>\n",
              "      <td>3</td>\n",
              "      <td>10.34</td>\n",
              "      <td>...</td>\n",
              "      <td>ปริญญาตรี โครงการพิเศษ</td>\n",
              "      <td>1/2563</td>\n",
              "      <td>NYE553</td>\n",
              "      <td>231863</td>\n",
              "      <td>43</td>\n",
              "      <td>2563</td>\n",
              "      <td>1</td>\n",
              "      <td>29</td>\n",
              "      <td>normal</td>\n",
              "      <td>10.34</td>\n",
              "    </tr>\n",
              "    <tr>\n",
              "      <th>เจ้าหน้าที่อำนวยความสะดวกในการให้บริการในการเรียนวิชานี้</th>\n",
              "      <td>14</td>\n",
              "      <td>48.28</td>\n",
              "      <td>10</td>\n",
              "      <td>34.48</td>\n",
              "      <td>4</td>\n",
              "      <td>13.79</td>\n",
              "      <td>0</td>\n",
              "      <td>0.00</td>\n",
              "      <td>1</td>\n",
              "      <td>3.45</td>\n",
              "      <td>...</td>\n",
              "      <td>ปริญญาตรี โครงการพิเศษ</td>\n",
              "      <td>1/2563</td>\n",
              "      <td>NYE553</td>\n",
              "      <td>231863</td>\n",
              "      <td>43</td>\n",
              "      <td>2563</td>\n",
              "      <td>1</td>\n",
              "      <td>29</td>\n",
              "      <td>normal</td>\n",
              "      <td>3.45</td>\n",
              "    </tr>\n",
              "  </tbody>\n",
              "</table>\n",
              "<p>264 rows × 25 columns</p>\n",
              "</div>"
            ],
            "text/plain": [
              "                                                     5   5(%)   4   4(%)  3  \\\n",
              "ข้อคำถาม                                                                      \n",
              "สอนอย่างเป็นระบบ                                     4  66.67   1  16.67  0   \n",
              "สอนให้คิด วิเคราะห์ วิจารณ์                          4  66.67   0   0.00  1   \n",
              "กระตุ้นบรรยากาศการเรียนการสอน มีวิธีสอนที่น่าสน...   2  33.33   1  16.67  1   \n",
              "เปิดโอกาสให้แสดงความคิดเห็นและแลกเปลี่ยนประสบกา...   3  50.00   2  33.33  0   \n",
              "มีการให้นำเสนองาน/มีการวัดผลโดยวิธีอื่นๆที่สะท้...   3  50.00   2  33.33  1   \n",
              "...                                                 ..    ...  ..    ... ..   \n",
              "ผู้สอนแทรกเนื้อหาเกี่ยวกับคุณธรรมจริยธรรมในการเ...  15  51.72   9  31.03  3   \n",
              "โสตทัศนูปกรณ์ช่วยสอนในห้องเรียน เช่น ไมโครโฟน เ...  14  48.28   8  27.59  5   \n",
              "สภาพของห้องเรียนหรือห้องปฏิบัติการ เช่น แสง อุณ...  13  44.83  11  37.93  4   \n",
              "จำนวนอุปกรณ์ในการเรียนการสอนเพียงพอ และเหมาะสมต...  15  51.72   6  20.69  5   \n",
              "เจ้าหน้าที่อำนวยความสะดวกในการให้บริการในการเรี...  14  48.28  10  34.48  4   \n",
              "\n",
              "                                                     3(%)  2   2(%)  1   1(%)  \\\n",
              "ข้อคำถาม                                                                        \n",
              "สอนอย่างเป็นระบบ                                     0.00  1  16.67  0   0.00   \n",
              "สอนให้คิด วิเคราะห์ วิจารณ์                         16.67  1  16.67  0   0.00   \n",
              "กระตุ้นบรรยากาศการเรียนการสอน มีวิธีสอนที่น่าสน...  16.67  1  16.67  1  16.67   \n",
              "เปิดโอกาสให้แสดงความคิดเห็นและแลกเปลี่ยนประสบกา...   0.00  0   0.00  1  16.67   \n",
              "มีการให้นำเสนองาน/มีการวัดผลโดยวิธีอื่นๆที่สะท้...  16.67  0   0.00  0   0.00   \n",
              "...                                                   ... ..    ... ..    ...   \n",
              "ผู้สอนแทรกเนื้อหาเกี่ยวกับคุณธรรมจริยธรรมในการเ...  10.34  2   6.90  0   0.00   \n",
              "โสตทัศนูปกรณ์ช่วยสอนในห้องเรียน เช่น ไมโครโฟน เ...  17.24  1   3.45  1   3.45   \n",
              "สภาพของห้องเรียนหรือห้องปฏิบัติการ เช่น แสง อุณ...  13.79  0   0.00  1   3.45   \n",
              "จำนวนอุปกรณ์ในการเรียนการสอนเพียงพอ และเหมาะสมต...  17.24  0   0.00  3  10.34   \n",
              "เจ้าหน้าที่อำนวยความสะดวกในการให้บริการในการเรี...  13.79  0   0.00  1   3.45   \n",
              "\n",
              "                                                    ...  \\\n",
              "ข้อคำถาม                                            ...   \n",
              "สอนอย่างเป็นระบบ                                    ...   \n",
              "สอนให้คิด วิเคราะห์ วิจารณ์                         ...   \n",
              "กระตุ้นบรรยากาศการเรียนการสอน มีวิธีสอนที่น่าสน...  ...   \n",
              "เปิดโอกาสให้แสดงความคิดเห็นและแลกเปลี่ยนประสบกา...  ...   \n",
              "มีการให้นำเสนองาน/มีการวัดผลโดยวิธีอื่นๆที่สะท้...  ...   \n",
              "...                                                 ...   \n",
              "ผู้สอนแทรกเนื้อหาเกี่ยวกับคุณธรรมจริยธรรมในการเ...  ...   \n",
              "โสตทัศนูปกรณ์ช่วยสอนในห้องเรียน เช่น ไมโครโฟน เ...  ...   \n",
              "สภาพของห้องเรียนหรือห้องปฏิบัติการ เช่น แสง อุณ...  ...   \n",
              "จำนวนอุปกรณ์ในการเรียนการสอนเพียงพอ และเหมาะสมต...  ...   \n",
              "เจ้าหน้าที่อำนวยความสะดวกในการให้บริการในการเรี...  ...   \n",
              "\n",
              "                                                                    degree  \\\n",
              "ข้อคำถาม                                                                     \n",
              "สอนอย่างเป็นระบบ                                    ปริญญาตรี โครงการพิเศษ   \n",
              "สอนให้คิด วิเคราะห์ วิจารณ์                         ปริญญาตรี โครงการพิเศษ   \n",
              "กระตุ้นบรรยากาศการเรียนการสอน มีวิธีสอนที่น่าสน...  ปริญญาตรี โครงการพิเศษ   \n",
              "เปิดโอกาสให้แสดงความคิดเห็นและแลกเปลี่ยนประสบกา...  ปริญญาตรี โครงการพิเศษ   \n",
              "มีการให้นำเสนองาน/มีการวัดผลโดยวิธีอื่นๆที่สะท้...  ปริญญาตรี โครงการพิเศษ   \n",
              "...                                                                    ...   \n",
              "ผู้สอนแทรกเนื้อหาเกี่ยวกับคุณธรรมจริยธรรมในการเ...  ปริญญาตรี โครงการพิเศษ   \n",
              "โสตทัศนูปกรณ์ช่วยสอนในห้องเรียน เช่น ไมโครโฟน เ...  ปริญญาตรี โครงการพิเศษ   \n",
              "สภาพของห้องเรียนหรือห้องปฏิบัติการ เช่น แสง อุณ...  ปริญญาตรี โครงการพิเศษ   \n",
              "จำนวนอุปกรณ์ในการเรียนการสอนเพียงพอ และเหมาะสมต...  ปริญญาตรี โครงการพิเศษ   \n",
              "เจ้าหน้าที่อำนวยความสะดวกในการให้บริการในการเรี...  ปริญญาตรี โครงการพิเศษ   \n",
              "\n",
              "                                                    semester  subject section  \\\n",
              "ข้อคำถาม                                                                        \n",
              "สอนอย่างเป็นระบบ                                      1/2562   FGL497  231863   \n",
              "สอนให้คิด วิเคราะห์ วิจารณ์                           1/2562   FGL497  231863   \n",
              "กระตุ้นบรรยากาศการเรียนการสอน มีวิธีสอนที่น่าสน...    1/2562   FGL497  231863   \n",
              "เปิดโอกาสให้แสดงความคิดเห็นและแลกเปลี่ยนประสบกา...    1/2562   FGL497  231863   \n",
              "มีการให้นำเสนองาน/มีการวัดผลโดยวิธีอื่นๆที่สะท้...    1/2562   FGL497  231863   \n",
              "...                                                      ...      ...     ...   \n",
              "ผู้สอนแทรกเนื้อหาเกี่ยวกับคุณธรรมจริยธรรมในการเ...    1/2563   NYE553  231863   \n",
              "โสตทัศนูปกรณ์ช่วยสอนในห้องเรียน เช่น ไมโครโฟน เ...    1/2563   NYE553  231863   \n",
              "สภาพของห้องเรียนหรือห้องปฏิบัติการ เช่น แสง อุณ...    1/2563   NYE553  231863   \n",
              "จำนวนอุปกรณ์ในการเรียนการสอนเพียงพอ และเหมาะสมต...    1/2563   NYE553  231863   \n",
              "เจ้าหน้าที่อำนวยความสะดวกในการให้บริการในการเรี...    1/2563   NYE553  231863   \n",
              "\n",
              "                                                   นักศึกษาที่จดทะเบียน  year  \\\n",
              "ข้อคำถาม                                                                        \n",
              "สอนอย่างเป็นระบบ                                                     43  2562   \n",
              "สอนให้คิด วิเคราะห์ วิจารณ์                                          43  2562   \n",
              "กระตุ้นบรรยากาศการเรียนการสอน มีวิธีสอนที่น่าสน...                   43  2562   \n",
              "เปิดโอกาสให้แสดงความคิดเห็นและแลกเปลี่ยนประสบกา...                   43  2562   \n",
              "มีการให้นำเสนองาน/มีการวัดผลโดยวิธีอื่นๆที่สะท้...                   43  2562   \n",
              "...                                                                 ...   ...   \n",
              "ผู้สอนแทรกเนื้อหาเกี่ยวกับคุณธรรมจริยธรรมในการเ...                   43  2563   \n",
              "โสตทัศนูปกรณ์ช่วยสอนในห้องเรียน เช่น ไมโครโฟน เ...                   43  2563   \n",
              "สภาพของห้องเรียนหรือห้องปฏิบัติการ เช่น แสง อุณ...                   43  2563   \n",
              "จำนวนอุปกรณ์ในการเรียนการสอนเพียงพอ และเหมาะสมต...                   43  2563   \n",
              "เจ้าหน้าที่อำนวยความสะดวกในการให้บริการในการเรี...                   43  2563   \n",
              "\n",
              "                                                   sem   n situation 0-1(%)  \n",
              "ข้อคำถาม                                                                     \n",
              "สอนอย่างเป็นระบบ                                     1   6    normal   0.00  \n",
              "สอนให้คิด วิเคราะห์ วิจารณ์                          1   6    normal   0.00  \n",
              "กระตุ้นบรรยากาศการเรียนการสอน มีวิธีสอนที่น่าสน...   1   6    normal  16.67  \n",
              "เปิดโอกาสให้แสดงความคิดเห็นและแลกเปลี่ยนประสบกา...   1   6    normal  16.67  \n",
              "มีการให้นำเสนองาน/มีการวัดผลโดยวิธีอื่นๆที่สะท้...   1   6    normal   0.00  \n",
              "...                                                 ..  ..       ...    ...  \n",
              "ผู้สอนแทรกเนื้อหาเกี่ยวกับคุณธรรมจริยธรรมในการเ...   1  29    normal   0.00  \n",
              "โสตทัศนูปกรณ์ช่วยสอนในห้องเรียน เช่น ไมโครโฟน เ...   1  29    normal   3.45  \n",
              "สภาพของห้องเรียนหรือห้องปฏิบัติการ เช่น แสง อุณ...   1  29    normal   3.45  \n",
              "จำนวนอุปกรณ์ในการเรียนการสอนเพียงพอ และเหมาะสมต...   1  29    normal  10.34  \n",
              "เจ้าหน้าที่อำนวยความสะดวกในการให้บริการในการเรี...   1  29    normal   3.45  \n",
              "\n",
              "[264 rows x 25 columns]"
            ]
          },
          "execution_count": 16,
          "metadata": {},
          "output_type": "execute_result"
        }
      ],
      "source": [
        "df.sort"
      ]
    },
    {
      "cell_type": "code",
      "execution_count": 17,
      "metadata": {},
      "outputs": [
        {
          "data": {
            "text/plain": [
              "10"
            ]
          },
          "execution_count": 17,
          "metadata": {},
          "output_type": "execute_result"
        }
      ],
      "source": [
        "4 % 7 + 6"
      ]
    },
    {
      "cell_type": "code",
      "execution_count": 18,
      "metadata": {},
      "outputs": [
        {
          "data": {
            "text/plain": [
              "'mercury'"
            ]
          },
          "execution_count": 18,
          "metadata": {},
          "output_type": "execute_result"
        }
      ],
      "source": [
        "[\n",
        "i.upper()\n",
        " \n",
        "for i\n",
        " ['hello', 'world']]"
      ]
    },
    {
      "cell_type": "code",
      "execution_count": 20,
      "metadata": {},
      "outputs": [
        {
          "data": {
            "text/plain": [
              "['HELLO', 'WORLD']"
            ]
          },
          "execution_count": 20,
          "metadata": {},
          "output_type": "execute_result"
        }
      ],
      "source": [
        "[i.upper() for i in ['hello', 'world']]"
      ]
    },
    {
      "cell_type": "code",
      "execution_count": 33,
      "metadata": {},
      "outputs": [
        {
          "data": {
            "text/plain": [
              "'returns n!'"
            ]
          },
          "execution_count": 33,
          "metadata": {},
          "output_type": "execute_result"
        }
      ],
      "source": [
        "def factorial(n):\n",
        "    \"\"\"returns n!\"\"\"\n",
        "    return 1 if n < 2 else n * factorial(n-1)\n",
        "\n",
        "factorial.__doc__"
      ]
    },
    {
      "cell_type": "code",
      "execution_count": 34,
      "metadata": {},
      "outputs": [],
      "source": [
        "a = {1, 2, 3, 4}\n",
        "b = {3, 4, 5, 6}"
      ]
    },
    {
      "cell_type": "code",
      "execution_count": 35,
      "metadata": {},
      "outputs": [
        {
          "data": {
            "text/plain": [
              "{3, 4}"
            ]
          },
          "execution_count": 35,
          "metadata": {},
          "output_type": "execute_result"
        }
      ],
      "source": [
        "a.intersection(b)"
      ]
    },
    {
      "cell_type": "code",
      "execution_count": 36,
      "metadata": {},
      "outputs": [],
      "source": [
        "x = lambda : \"I know how to call this function.\""
      ]
    },
    {
      "cell_type": "code",
      "execution_count": 40,
      "metadata": {},
      "outputs": [
        {
          "data": {
            "text/plain": [
              "'I know how to call this function.'"
            ]
          },
          "execution_count": 40,
          "metadata": {},
          "output_type": "execute_result"
        }
      ],
      "source": [
        "x()"
      ]
    }
  ],
  "metadata": {
    "colab": {
      "provenance": [],
      "toc_visible": true
    },
    "kernelspec": {
      "display_name": "Python 3.10.5 64-bit",
      "language": "python",
      "name": "python3"
    },
    "language_info": {
      "codemirror_mode": {
        "name": "ipython",
        "version": 3
      },
      "file_extension": ".py",
      "mimetype": "text/x-python",
      "name": "python",
      "nbconvert_exporter": "python",
      "pygments_lexer": "ipython3",
      "version": "3.10.5"
    },
    "orig_nbformat": 4,
    "vscode": {
      "interpreter": {
        "hash": "afb734500600fd355917ca529030176ea0ca205570884b88f2f6f7d791fd3fbe"
      }
    }
  },
  "nbformat": 4,
  "nbformat_minor": 0
}
